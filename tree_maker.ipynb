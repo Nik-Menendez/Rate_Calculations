{
 "cells": [
  {
   "cell_type": "code",
   "execution_count": 1,
   "metadata": {},
   "outputs": [
    {
     "name": "stdout",
     "output_type": "stream",
     "text": [
      "Input dataset name:\n",
      "HTo2LongLivedTo4q_MH_125_MFF_1_CTau_5000mm_TuneCP5_14TeV_pythia\n"
     ]
    }
   ],
   "source": [
    "print(\"Input dataset name:\")\n",
    "dataset = raw_input()\n",
    "#dataset = 'HTo2LongLivedTo4b_MH-125_MFF-25_CTau-15000mm_TuneCP5_14TeV_pythia8'"
   ]
  },
  {
   "cell_type": "code",
   "execution_count": 2,
   "metadata": {
    "scrolled": true
   },
   "outputs": [
    {
     "name": "stdout",
     "output_type": "stream",
     "text": [
      "Welcome to JupyROOT 6.14/09\n"
     ]
    }
   ],
   "source": [
    "from ROOT import TFile, TTree\n",
    "from ROOT import gROOT, AddressOf\n",
    "import uproot\n",
    "from array import array\n",
    "from tqdm import tqdm\n",
    "import numpy as np"
   ]
  },
  {
   "cell_type": "code",
   "execution_count": 3,
   "metadata": {},
   "outputs": [],
   "source": [
    "comp_ME11 = array('f', [0.])\n",
    "comp_ME12 = array('f', [0.])\n",
    "comp_ME13 = array('f', [0.])\n",
    "comp_ME21 = array('f', [0.])\n",
    "comp_ME22 = array('f', [0.])\n",
    "comp_ME31 = array('f', [0.])\n",
    "comp_ME32 = array('f', [0.])\n",
    "comp_ME41 = array('f', [0.])\n",
    "comp_ME42 = array('f', [0.])\n",
    "\n",
    "wire_ME11 = array('f', [0.])\n",
    "wire_ME12 = array('f', [0.])\n",
    "wire_ME13 = array('f', [0.])\n",
    "wire_ME21 = array('f', [0.])\n",
    "wire_ME22 = array('f', [0.])\n",
    "wire_ME31 = array('f', [0.])\n",
    "wire_ME32 = array('f', [0.])\n",
    "wire_ME41 = array('f', [0.])\n",
    "wire_ME42 = array('f', [0.])\n"
   ]
  },
  {
   "cell_type": "code",
   "execution_count": 4,
   "metadata": {},
   "outputs": [
    {
     "data": {
      "text/plain": [
       "<ROOT.TBranch object (\"Ev_max_nWire_ME42\") at 0x5b36f30>"
      ]
     },
     "execution_count": 4,
     "metadata": {},
     "output_type": "execute_result"
    }
   ],
   "source": [
    "in_path = \"/uscms/home/menendez/nobackup/Trigger/CMSSW_10_6_4/src/Data/TPEHists_\" + dataset + \".root\"\n",
    "out_path = \"trees/MaxDigis_tree_\" + dataset + \".root\"\n",
    "\n",
    "f = TFile( out_path, 'RECREATE' )\n",
    "comp_tree = TTree( 'comparator', 'Max Comparator digis in a single chamber in each ring per event' )\n",
    "wire_tree = TTree( 'wire', 'Max Comparator digis in a single chamber in each ring per event' )\n",
    "# tree.Branch( 'digis', digis, 'Ev_max_nComp_ME11/I:Ev_max_nComp_ME12:Ev_max_nComp_ME13:Ev_max_nComp_ME21:Ev_max_nComp_ME22:Ev_max_nComp_ME31:Ev_max_nComp_ME32:Ev_max_nComp_ME41:Ev_max_nComp_ME42:Ev_max_nWire_ME11:Ev_max_nWire_ME12:Ev_max_nWire_ME13:Ev_max_nWire_ME21:Ev_max_nWire_ME22:Ev_max_nWire_ME31:Ev_max_nWire_ME32:Ev_max_nWire_ME41:Ev_max_nWire_ME42',0 )\n",
    "comp_tree.Branch( 'Ev_max_nComp_ME11', comp_ME11, 'comp_ME11/F')\n",
    "comp_tree.Branch( 'Ev_max_nComp_ME12', comp_ME12, 'comp_ME12/F')\n",
    "comp_tree.Branch( 'Ev_max_nComp_ME13', comp_ME13, 'comp_ME13/F')\n",
    "comp_tree.Branch( 'Ev_max_nComp_ME21', comp_ME21, 'comp_ME21/F')\n",
    "comp_tree.Branch( 'Ev_max_nComp_ME22', comp_ME22, 'comp_ME22/F')\n",
    "comp_tree.Branch( 'Ev_max_nComp_ME31', comp_ME31, 'comp_ME31/F')\n",
    "comp_tree.Branch( 'Ev_max_nComp_ME32', comp_ME32, 'comp_ME32/F')\n",
    "comp_tree.Branch( 'Ev_max_nComp_ME41', comp_ME41, 'comp_ME41/F')\n",
    "comp_tree.Branch( 'Ev_max_nComp_ME42', comp_ME42, 'comp_ME42/F')\n",
    "\n",
    "wire_tree.Branch( 'Ev_max_nWire_ME11', wire_ME11, 'wire_ME11/F')\n",
    "wire_tree.Branch( 'Ev_max_nWire_ME12', wire_ME12, 'wire_ME12/F')\n",
    "wire_tree.Branch( 'Ev_max_nWire_ME13', wire_ME13, 'wire_ME13/F')\n",
    "wire_tree.Branch( 'Ev_max_nWire_ME21', wire_ME21, 'wire_ME21/F')\n",
    "wire_tree.Branch( 'Ev_max_nWire_ME22', wire_ME22, 'wire_ME22/F')\n",
    "wire_tree.Branch( 'Ev_max_nWire_ME31', wire_ME31, 'wire_ME31/F')\n",
    "wire_tree.Branch( 'Ev_max_nWire_ME32', wire_ME32, 'wire_ME32/F')\n",
    "wire_tree.Branch( 'Ev_max_nWire_ME41', wire_ME41, 'wire_ME41/F')\n",
    "wire_tree.Branch( 'Ev_max_nWire_ME42', wire_ME42, 'wire_ME42/F')\n",
    "\n"
   ]
  },
  {
   "cell_type": "code",
   "execution_count": 5,
   "metadata": {},
   "outputs": [],
   "source": [
    "if dataset==\"Data\":\n",
    "  MC = False\n",
    "  Neutrino = False\n",
    "elif dataset==\"Neutrino_gun\" or dataset==\"Nu_E10-pythia8-gun\":\n",
    "  MC = False\n",
    "  Neutrino = True\n",
    "else:\n",
    "  MC = True\n",
    "  Neutrino = False\n",
    "\n",
    "if MC:\n",
    "  File = TFile(in_path,\"READ\")\n",
    "elif Neutrino:\n",
    "  File = TFile(\"/uscms/home/menendez/nobackup/Trigger/CMSSW_10_6_4/src/Data/TPEHists_Neutrino_gun.root\",\"READ\")\n",
    "else:\n",
    "  File = TFile(\"/uscms/home/menendez/nobackup/Trigger/CMSSW_10_6_4/src/Data/TPEHists_Data.root\",\"READ\")\n",
    "clct = File.Get(\"lctreader/Ev_clcttree\")\n",
    "alct = File.Get(\"lctreader/Ev_alcttree\")\n",
    "llp = File.Get(\"lctreader/llp\")\n",
    "\n",
    "nEntries_clct = clct.GetEntries()\n",
    "nEntries_alct = alct.GetEntries()\n",
    "if MC:\n",
    "  nEntries_llp = llp.GetEntries()"
   ]
  },
  {
   "cell_type": "code",
   "execution_count": 6,
   "metadata": {},
   "outputs": [],
   "source": [
    "llp_accept = []\n",
    "#max_nComp = np.array([0,0,0,0],[0,0,0,0],[0,0,0,0],[0,0,0,0],[0,0,0,0])\n",
    "max_nComp = np.zeros((5,4))\n",
    "max_nWire = np.zeros((5,4))\n",
    "lastEventclct = 0\n",
    "lastEventalct = 0"
   ]
  },
  {
   "cell_type": "code",
   "execution_count": 7,
   "metadata": {},
   "outputs": [
    {
     "name": "stderr",
     "output_type": "stream",
     "text": [
      "\r",
      "  0%|          | 0/48500 [00:00<?, ?it/s]"
     ]
    },
    {
     "name": "stdout",
     "output_type": "stream",
     "text": [
      "Finding LLP Acceptance\n"
     ]
    },
    {
     "name": "stderr",
     "output_type": "stream",
     "text": [
      "100%|██████████| 48500/48500 [00:03<00:00, 13210.75it/s]\n"
     ]
    }
   ],
   "source": [
    "if MC:\n",
    "  print \"Finding LLP Acceptance\"\n",
    "  for i in tqdm(range(0, nEntries_llp)):\n",
    "    llp.GetEntry(i)\n",
    "\n",
    "    if(llp.llp_in_acceptance[0]==1 or llp.llp_in_acceptance[1]==1):\n",
    "      llp_accept.append(llp.event)"
   ]
  },
  {
   "cell_type": "code",
   "execution_count": 8,
   "metadata": {},
   "outputs": [
    {
     "name": "stderr",
     "output_type": "stream",
     "text": [
      " 16%|█▋        | 6430/39165 [00:00<00:00, 64299.29it/s]"
     ]
    },
    {
     "name": "stdout",
     "output_type": "stream",
     "text": [
      "Starting CLCT Analysis\n"
     ]
    },
    {
     "name": "stderr",
     "output_type": "stream",
     "text": [
      "100%|██████████| 39165/39165 [00:00<00:00, 73389.70it/s]\n"
     ]
    }
   ],
   "source": [
    "print \"Starting CLCT Analysis\"\n",
    "for i in tqdm(range(0, nEntries_clct)):\n",
    "  clct.GetEntry(i)\n",
    "\n",
    "  if MC:\n",
    "    if clct.t_Event not in llp_accept:\n",
    "      continue\n",
    "    \n",
    "  if(clct.t_Event!=lastEventclct):\n",
    "    lastEventclct = clct.t_Event\n",
    "    \n",
    "    comp_ME11[0] = max_nComp[1][1]\n",
    "    comp_ME12[0] = max_nComp[1][2]\n",
    "    comp_ME13[0] = max_nComp[1][3]\n",
    "    comp_ME21[0] = max_nComp[2][1]\n",
    "    comp_ME22[0] = max_nComp[2][2]\n",
    "    comp_ME31[0] = max_nComp[3][1]\n",
    "    comp_ME32[0] = max_nComp[3][2]\n",
    "    comp_ME41[0] = max_nComp[4][1]\n",
    "    comp_ME42[0] = max_nComp[4][2]\n",
    "    max_nComp = np.zeros((5,4))\n",
    "\n",
    "    comp_tree.Fill()\n",
    "       \n",
    "        \n",
    "  if clct.t_nComp > max_nComp[clct.t_station][clct.t_ring]:\n",
    "    max_nComp[clct.t_station][clct.t_ring] = clct.t_nComp\n",
    "                    "
   ]
  },
  {
   "cell_type": "code",
   "execution_count": 9,
   "metadata": {},
   "outputs": [
    {
     "name": "stderr",
     "output_type": "stream",
     "text": [
      " 16%|█▌        | 6591/41828 [00:00<00:00, 65905.98it/s]"
     ]
    },
    {
     "name": "stdout",
     "output_type": "stream",
     "text": [
      "Starting ALCT Analysis\n"
     ]
    },
    {
     "name": "stderr",
     "output_type": "stream",
     "text": [
      "100%|██████████| 41828/41828 [00:00<00:00, 68932.09it/s]\n"
     ]
    }
   ],
   "source": [
    "print \"Starting ALCT Analysis\"\n",
    "for i in tqdm(range(0, nEntries_alct)):\n",
    "  alct.GetEntry(i)\n",
    "\n",
    "  if MC:\n",
    "    if alct.t_Event not in llp_accept:\n",
    "      continue\n",
    "    \n",
    "  if(alct.t_Event!=lastEventalct):\n",
    "    lastEventalct = alct.t_Event\n",
    "    \n",
    "    wire_ME11[0] = max_nWire[1][1]\n",
    "    wire_ME12[0] = max_nWire[1][2]\n",
    "    wire_ME13[0] = max_nWire[1][3]\n",
    "    wire_ME21[0] = max_nWire[2][1]\n",
    "    wire_ME22[0] = max_nWire[2][2]\n",
    "    wire_ME31[0] = max_nWire[3][1]\n",
    "    wire_ME32[0] = max_nWire[3][2]\n",
    "    wire_ME41[0] = max_nWire[4][1]\n",
    "    wire_ME42[0] = max_nWire[4][2]\n",
    "    max_nWire = np.zeros((5,4))\n",
    "\n",
    "    wire_tree.Fill()\n",
    "  \n",
    "\n",
    "  if alct.t_nWire > max_nWire[alct.t_station][alct.t_ring]:\n",
    "    max_nWire[alct.t_station][alct.t_ring] = alct.t_nWire\n",
    "    "
   ]
  },
  {
   "cell_type": "code",
   "execution_count": 10,
   "metadata": {},
   "outputs": [],
   "source": [
    "f.Write()\n",
    "f.Close()"
   ]
  },
  {
   "cell_type": "code",
   "execution_count": null,
   "metadata": {},
   "outputs": [],
   "source": []
  },
  {
   "cell_type": "code",
   "execution_count": null,
   "metadata": {},
   "outputs": [],
   "source": []
  }
 ],
 "metadata": {
  "kernelspec": {
   "display_name": "Python 2",
   "language": "python",
   "name": "python2"
  },
  "language_info": {
   "codemirror_mode": {
    "name": "ipython",
    "version": 2
   },
   "file_extension": ".py",
   "mimetype": "text/x-python",
   "name": "python",
   "nbconvert_exporter": "python",
   "pygments_lexer": "ipython2",
   "version": "2.7.15+"
  }
 },
 "nbformat": 4,
 "nbformat_minor": 2
}
