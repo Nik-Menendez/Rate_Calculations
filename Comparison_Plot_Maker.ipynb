{
 "cells": [
  {
   "cell_type": "code",
   "execution_count": 1,
   "metadata": {},
   "outputs": [
    {
     "name": "stdout",
     "output_type": "stream",
     "text": [
      "Welcome to JupyROOT 6.14/09\n"
     ]
    }
   ],
   "source": [
    "import os, sys\n",
    "import ROOT\n",
    "from ROOT import TH1F,TFile,TTree,TCanvas, TProfile, TNtuple, gErrorIgnoreLevel, kInfo, kWarning, TLegend, TLine\n",
    "from tqdm import tqdm\n",
    "tqdm_disable = False\n",
    "ROOT.gErrorIgnoreLevel = kWarning;"
   ]
  },
  {
   "cell_type": "code",
   "execution_count": 2,
   "metadata": {},
   "outputs": [],
   "source": [
    "F1 = TFile(\"trees/MaxDigis_tree_Data.root\")\n",
    "#F2 = TFile(\"trees/MaxDigis_tree_Neutrino_gun.root\")\n",
    "F2 = TFile(\"trees/box_selected/MaxDigis_tree_signals.root\")\n",
    "\n",
    "comp1 = F1.Get(\"comparator\")\n",
    "comp2 = F2.Get(\"comparator\")\n",
    "wire1 = F1.Get(\"wire\")\n",
    "wire2 = F2.Get(\"wire\")\n",
    "\n",
    "thresholds = [98, 56, 30, 49, 42, 49, 35, 42, 31, 104, 92, 32, 133, 83, 130, 74, 127, 88]"
   ]
  },
  {
   "cell_type": "code",
   "execution_count": 3,
   "metadata": {},
   "outputs": [],
   "source": [
    "hists_1=[]\n",
    "Ev_max_nComp_ME11_1 = TH1F(\"Ev_max_nComp_ME11_1\",\"Max nComp per Event in a Single Chamber in ME1/1\", 150, -.5, 149.5); hists_1.append(Ev_max_nComp_ME11_1)\n",
    "Ev_max_nComp_ME12_1 = TH1F(\"Ev_max_nComp_ME12_1\",\"Max nComp per Event in a Single Chamber in ME1/2\", 150, -.5, 149.5); hists_1.append(Ev_max_nComp_ME12_1)\n",
    "Ev_max_nComp_ME13_1 = TH1F(\"Ev_max_nComp_ME13_1\",\"Max nComp per Event in a Single Chamber in ME1/3\", 150, -.5, 149.5); hists_1.append(Ev_max_nComp_ME13_1)\n",
    "Ev_max_nComp_ME21_1 = TH1F(\"Ev_max_nComp_ME21_1\",\"Max nComp per Event in a Single Chamber in ME2/1\", 150, -.5, 149.5); hists_1.append(Ev_max_nComp_ME21_1)\n",
    "Ev_max_nComp_ME22_1 = TH1F(\"Ev_max_nComp_ME22_1\",\"Max nComp per Event in a Single Chamber in ME2/2\", 150, -.5, 149.5); hists_1.append(Ev_max_nComp_ME22_1)\n",
    "Ev_max_nComp_ME31_1 = TH1F(\"Ev_max_nComp_ME31_1\",\"Max nComp per Event in a Single Chamber in ME3/1\", 150, -.5, 149.5); hists_1.append(Ev_max_nComp_ME31_1)\n",
    "Ev_max_nComp_ME32_1 = TH1F(\"Ev_max_nComp_ME32_1\",\"Max nComp per Event in a Single Chamber in ME3/2\", 150, -.5, 149.5); hists_1.append(Ev_max_nComp_ME32_1)\n",
    "Ev_max_nComp_ME41_1 = TH1F(\"Ev_max_nComp_ME41_1\",\"Max nComp per Event in a Single Chamber in ME4/1\", 150, -.5, 149.5); hists_1.append(Ev_max_nComp_ME41_1)\n",
    "Ev_max_nComp_ME42_1 = TH1F(\"Ev_max_nComp_ME42_1\",\"Max nComp per Event in a Single Chamber in ME4/2\", 150, -.5, 149.5); hists_1.append(Ev_max_nComp_ME42_1)\n",
    "\n",
    "Ev_max_nWire_ME11_1 = TH1F(\"Ev_max_nWire_ME11_1\",\"Max nWire per Event in a Single Chamber in ME1/1\", 150, -.5, 149.5); hists_1.append(Ev_max_nWire_ME11_1)\n",
    "Ev_max_nWire_ME12_1 = TH1F(\"Ev_max_nWire_ME12_1\",\"Max nWire per Event in a Single Chamber in ME1/2\", 150, -.5, 149.5); hists_1.append(Ev_max_nWire_ME12_1)\n",
    "Ev_max_nWire_ME13_1 = TH1F(\"Ev_max_nWire_ME13_1\",\"Max nWire per Event in a Single Chamber in ME1/3\", 150, -.5, 149.5); hists_1.append(Ev_max_nWire_ME13_1)\n",
    "Ev_max_nWire_ME21_1 = TH1F(\"Ev_max_nWire_ME21_1\",\"Max nWire per Event in a Single Chamber in ME2/1\", 150, -.5, 149.5); hists_1.append(Ev_max_nWire_ME21_1)\n",
    "Ev_max_nWire_ME22_1 = TH1F(\"Ev_max_nWire_ME22_1\",\"Max nWire per Event in a Single Chamber in ME2/2\", 150, -.5, 149.5); hists_1.append(Ev_max_nWire_ME22_1)\n",
    "Ev_max_nWire_ME31_1 = TH1F(\"Ev_max_nWire_ME31_1\",\"Max nWire per Event in a Single Chamber in ME3/1\", 150, -.5, 149.5); hists_1.append(Ev_max_nWire_ME31_1)\n",
    "Ev_max_nWire_ME32_1 = TH1F(\"Ev_max_nWire_ME32_1\",\"Max nWire per Event in a Single Chamber in ME3/2\", 150, -.5, 149.5); hists_1.append(Ev_max_nWire_ME32_1)\n",
    "Ev_max_nWire_ME41_1 = TH1F(\"Ev_max_nWire_ME41_1\",\"Max nWire per Event in a Single Chamber in ME4/1\", 150, -.5, 149.5); hists_1.append(Ev_max_nWire_ME41_1)\n",
    "Ev_max_nWire_ME42_1 = TH1F(\"Ev_max_nWire_ME42_1\",\"Max nWire per Event in a Single Chamber in ME4/2\", 150, -.5, 149.5); hists_1.append(Ev_max_nWire_ME42_1)"
   ]
  },
  {
   "cell_type": "code",
   "execution_count": 4,
   "metadata": {},
   "outputs": [],
   "source": [
    "hists_2=[]\n",
    "Ev_max_nComp_ME11_2 = TH1F(\"Ev_max_nComp_ME11_2\",\"Max nComp per Event in a Single Chamber in ME1/1\", 150, -.5, 149.5); hists_2.append(Ev_max_nComp_ME11_2)\n",
    "Ev_max_nComp_ME12_2 = TH1F(\"Ev_max_nComp_ME12_2\",\"Max nComp per Event in a Single Chamber in ME1/2\", 150, -.5, 149.5); hists_2.append(Ev_max_nComp_ME12_2)\n",
    "Ev_max_nComp_ME13_2 = TH1F(\"Ev_max_nComp_ME13_2\",\"Max nComp per Event in a Single Chamber in ME1/3\", 150, -.5, 149.5); hists_2.append(Ev_max_nComp_ME13_2)\n",
    "Ev_max_nComp_ME21_2 = TH1F(\"Ev_max_nComp_ME21_2\",\"Max nComp per Event in a Single Chamber in ME2/1\", 150, -.5, 149.5); hists_2.append(Ev_max_nComp_ME21_2)\n",
    "Ev_max_nComp_ME22_2 = TH1F(\"Ev_max_nComp_ME22_2\",\"Max nComp per Event in a Single Chamber in ME2/2\", 150, -.5, 149.5); hists_2.append(Ev_max_nComp_ME22_2)\n",
    "Ev_max_nComp_ME31_2 = TH1F(\"Ev_max_nComp_ME31_2\",\"Max nComp per Event in a Single Chamber in ME3/1\", 150, -.5, 149.5); hists_2.append(Ev_max_nComp_ME31_2)\n",
    "Ev_max_nComp_ME32_2 = TH1F(\"Ev_max_nComp_ME32_2\",\"Max nComp per Event in a Single Chamber in ME3/2\", 150, -.5, 149.5); hists_2.append(Ev_max_nComp_ME32_2)\n",
    "Ev_max_nComp_ME41_2 = TH1F(\"Ev_max_nComp_ME41_2\",\"Max nComp per Event in a Single Chamber in ME4/1\", 150, -.5, 149.5); hists_2.append(Ev_max_nComp_ME41_2)\n",
    "Ev_max_nComp_ME42_2 = TH1F(\"Ev_max_nComp_ME42_2\",\"Max nComp per Event in a Single Chamber in ME4/2\", 150, -.5, 149.5); hists_2.append(Ev_max_nComp_ME42_2)\n",
    "\n",
    "Ev_max_nWire_ME11_2 = TH1F(\"Ev_max_nWire_ME11_2\",\"Max nWire per Event in a Single Chamber in ME1/1\", 150, -.5, 149.5); hists_2.append(Ev_max_nWire_ME11_2)\n",
    "Ev_max_nWire_ME12_2 = TH1F(\"Ev_max_nWire_ME12_2\",\"Max nWire per Event in a Single Chamber in ME1/2\", 150, -.5, 149.5); hists_2.append(Ev_max_nWire_ME12_2)\n",
    "Ev_max_nWire_ME13_2 = TH1F(\"Ev_max_nWire_ME13_2\",\"Max nWire per Event in a Single Chamber in ME1/3\", 150, -.5, 149.5); hists_2.append(Ev_max_nWire_ME13_2)\n",
    "Ev_max_nWire_ME21_2 = TH1F(\"Ev_max_nWire_ME21_2\",\"Max nWire per Event in a Single Chamber in ME2/1\", 150, -.5, 149.5); hists_2.append(Ev_max_nWire_ME21_2)\n",
    "Ev_max_nWire_ME22_2 = TH1F(\"Ev_max_nWire_ME22_2\",\"Max nWire per Event in a Single Chamber in ME2/2\", 150, -.5, 149.5); hists_2.append(Ev_max_nWire_ME22_2)\n",
    "Ev_max_nWire_ME31_2 = TH1F(\"Ev_max_nWire_ME31_2\",\"Max nWire per Event in a Single Chamber in ME3/1\", 150, -.5, 149.5); hists_2.append(Ev_max_nWire_ME31_2)\n",
    "Ev_max_nWire_ME32_2 = TH1F(\"Ev_max_nWire_ME32_2\",\"Max nWire per Event in a Single Chamber in ME3/2\", 150, -.5, 149.5); hists_2.append(Ev_max_nWire_ME32_2)\n",
    "Ev_max_nWire_ME41_2 = TH1F(\"Ev_max_nWire_ME41_2\",\"Max nWire per Event in a Single Chamber in ME4/1\", 150, -.5, 149.5); hists_2.append(Ev_max_nWire_ME41_2)\n",
    "Ev_max_nWire_ME42_2 = TH1F(\"Ev_max_nWire_ME42_2\",\"Max nWire per Event in a Single Chamber in ME4/2\", 150, -.5, 149.5); hists_2.append(Ev_max_nWire_ME42_2)"
   ]
  },
  {
   "cell_type": "code",
   "execution_count": null,
   "metadata": {},
   "outputs": [
    {
     "name": "stderr",
     "output_type": "stream",
     "text": [
      "100%|██████████| 3102519/3102519 [03:06<00:00, 16597.80it/s]\n",
      " 95%|█████████▌| 3005018/3155546 [02:55<00:08, 17116.34it/s]"
     ]
    }
   ],
   "source": [
    "for i in tqdm(range(0, comp1.GetEntries()),disable=tqdm_disable):\n",
    "    comp1.GetEntry(i)\n",
    "    \n",
    "    Ev_max_nComp_ME11_1.Fill(comp1.Ev_max_nComp_ME11)\n",
    "    Ev_max_nComp_ME12_1.Fill(comp1.Ev_max_nComp_ME12)\n",
    "    Ev_max_nComp_ME13_1.Fill(comp1.Ev_max_nComp_ME13)\n",
    "    Ev_max_nComp_ME21_1.Fill(comp1.Ev_max_nComp_ME21)\n",
    "    Ev_max_nComp_ME22_1.Fill(comp1.Ev_max_nComp_ME22)\n",
    "    Ev_max_nComp_ME31_1.Fill(comp1.Ev_max_nComp_ME31)\n",
    "    Ev_max_nComp_ME32_1.Fill(comp1.Ev_max_nComp_ME32)\n",
    "    Ev_max_nComp_ME41_1.Fill(comp1.Ev_max_nComp_ME41)\n",
    "    Ev_max_nComp_ME42_1.Fill(comp1.Ev_max_nComp_ME42)\n",
    "\n",
    "for i in tqdm(range(0, wire1.GetEntries()),disable=tqdm_disable):\n",
    "    wire1.GetEntry(i)\n",
    "    \n",
    "    Ev_max_nWire_ME11_1.Fill(wire1.Ev_max_nWire_ME11)\n",
    "    Ev_max_nWire_ME12_1.Fill(wire1.Ev_max_nWire_ME12)\n",
    "    Ev_max_nWire_ME13_1.Fill(wire1.Ev_max_nWire_ME13)\n",
    "    Ev_max_nWire_ME21_1.Fill(wire1.Ev_max_nWire_ME21)\n",
    "    Ev_max_nWire_ME22_1.Fill(wire1.Ev_max_nWire_ME22)\n",
    "    Ev_max_nWire_ME31_1.Fill(wire1.Ev_max_nWire_ME31)\n",
    "    Ev_max_nWire_ME32_1.Fill(wire1.Ev_max_nWire_ME32)\n",
    "    Ev_max_nWire_ME41_1.Fill(wire1.Ev_max_nWire_ME41)\n",
    "    Ev_max_nWire_ME42_1.Fill(wire1.Ev_max_nWire_ME42)"
   ]
  },
  {
   "cell_type": "code",
   "execution_count": null,
   "metadata": {},
   "outputs": [],
   "source": [
    "for i in tqdm(range(0, comp2.GetEntries()),disable=tqdm_disable):\n",
    "    comp2.GetEntry(i)\n",
    "    \n",
    "    Ev_max_nComp_ME11_2.Fill(comp2.Ev_max_nComp_ME11)\n",
    "    Ev_max_nComp_ME12_2.Fill(comp2.Ev_max_nComp_ME12)\n",
    "    Ev_max_nComp_ME13_2.Fill(comp2.Ev_max_nComp_ME13)\n",
    "    Ev_max_nComp_ME21_2.Fill(comp2.Ev_max_nComp_ME21)\n",
    "    Ev_max_nComp_ME22_2.Fill(comp2.Ev_max_nComp_ME22)\n",
    "    Ev_max_nComp_ME31_2.Fill(comp2.Ev_max_nComp_ME31)\n",
    "    Ev_max_nComp_ME32_2.Fill(comp2.Ev_max_nComp_ME32)\n",
    "    Ev_max_nComp_ME41_2.Fill(comp2.Ev_max_nComp_ME41)\n",
    "    Ev_max_nComp_ME42_2.Fill(comp2.Ev_max_nComp_ME42)\n",
    "\n",
    "for i in tqdm(range(0, wire2.GetEntries()),disable=tqdm_disable):\n",
    "    wire2.GetEntry(i)\n",
    "    \n",
    "    Ev_max_nWire_ME11_2.Fill(wire2.Ev_max_nWire_ME11)\n",
    "    Ev_max_nWire_ME12_2.Fill(wire2.Ev_max_nWire_ME12)\n",
    "    Ev_max_nWire_ME13_2.Fill(wire2.Ev_max_nWire_ME13)\n",
    "    Ev_max_nWire_ME21_2.Fill(wire2.Ev_max_nWire_ME21)\n",
    "    Ev_max_nWire_ME22_2.Fill(wire2.Ev_max_nWire_ME22)\n",
    "    Ev_max_nWire_ME31_2.Fill(wire2.Ev_max_nWire_ME31)\n",
    "    Ev_max_nWire_ME32_2.Fill(wire2.Ev_max_nWire_ME32)\n",
    "    Ev_max_nWire_ME41_2.Fill(wire2.Ev_max_nWire_ME41)\n",
    "    Ev_max_nWire_ME42_2.Fill(wire2.Ev_max_nWire_ME42)"
   ]
  },
  {
   "cell_type": "code",
   "execution_count": null,
   "metadata": {},
   "outputs": [],
   "source": [
    "c1 = TCanvas(\"c1\",\"c1\",900,700);\n",
    "c1.SetRightMargin(0.09);\n",
    "c1.SetLeftMargin(0.15);\n",
    "c1.SetBottomMargin(0.15);\n",
    "\n",
    "line = TLine(0,0,0,0)\n",
    "\n",
    "legend = TLegend(0.7,0.65,1,.75);\n",
    "legend.AddEntry(hists_1[0],\"ZeroBias Data\",\"lep\");\n",
    "legend.AddEntry(hists_2[0],\"Signal MC\",\"lep\");\n",
    "legend.AddEntry(\"line\",\"Threshold\",\"lep\");\n",
    "legend.Draw();"
   ]
  },
  {
   "cell_type": "code",
   "execution_count": null,
   "metadata": {},
   "outputs": [],
   "source": [
    "c1.Print(\"plots/Comparison_Plots.pdf[\")\n",
    "\n",
    "for i in range(0,len(hists_1)):\n",
    "    hists_1[i].SetLineColor(ROOT.kBlue)\n",
    "    hists_2[i].SetLineColor(ROOT.kRed)\n",
    "    \n",
    "    hists_1[i].Draw()\n",
    "    hists_2[i].Draw(\"SAME\")\n",
    "    \n",
    "    ROOT.gPad.SetLogy();\n",
    "    c1.Update()\n",
    "    \n",
    "    line = TLine(thresholds[i], c1.GetUymin(), thresholds[i], c1.GetUymax()*100000)\n",
    "    line.SetLineColor(ROOT.kBlack)\n",
    "    line.Draw(\"SAME\")\n",
    "    \n",
    "    legend.Draw()\n",
    "    \n",
    "    c1.Print(\"plots/Comparison_Plots.pdf\");\n",
    "    \n",
    "c1.Print(\"plots/Comparison_Plots.pdf]\")"
   ]
  },
  {
   "cell_type": "code",
   "execution_count": null,
   "metadata": {},
   "outputs": [],
   "source": []
  }
 ],
 "metadata": {
  "kernelspec": {
   "display_name": "Python 2",
   "language": "python",
   "name": "python2"
  },
  "language_info": {
   "codemirror_mode": {
    "name": "ipython",
    "version": 2
   },
   "file_extension": ".py",
   "mimetype": "text/x-python",
   "name": "python",
   "nbconvert_exporter": "python",
   "pygments_lexer": "ipython2",
   "version": "2.7.15+"
  }
 },
 "nbformat": 4,
 "nbformat_minor": 2
}
