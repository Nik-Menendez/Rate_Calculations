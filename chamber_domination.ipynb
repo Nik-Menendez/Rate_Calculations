{
 "cells": [
  {
   "cell_type": "code",
   "execution_count": 1,
   "metadata": {},
   "outputs": [
    {
     "name": "stdout",
     "output_type": "stream",
     "text": [
      "Input dataset name:\n",
      "Data\n"
     ]
    }
   ],
   "source": [
    "print(\"Input dataset name:\")\n",
    "dataset = raw_input()\n",
    "#dataset = 'HTo2LongLivedTo4b_MH-125_MFF-25_CTau-15000mm_TuneCP5_14TeV_pythia8'"
   ]
  },
  {
   "cell_type": "code",
   "execution_count": 2,
   "metadata": {
    "scrolled": true
   },
   "outputs": [
    {
     "name": "stdout",
     "output_type": "stream",
     "text": [
      "Welcome to JupyROOT 6.14/09\n"
     ]
    }
   ],
   "source": [
    "from ROOT import TFile, TTree, TH1I\n",
    "from ROOT import gROOT, AddressOf\n",
    "import uproot\n",
    "from array import array\n",
    "from tqdm import tqdm\n",
    "import numpy as np\n",
    "import matplotlib.pyplot as plt"
   ]
  },
  {
   "cell_type": "code",
   "execution_count": 3,
   "metadata": {},
   "outputs": [],
   "source": [
    "comp_ME11 = array('f', [0.])\n",
    "comp_ME12 = array('f', [0.])\n",
    "comp_ME13 = array('f', [0.])\n",
    "comp_ME21 = array('f', [0.])\n",
    "comp_ME22 = array('f', [0.])\n",
    "comp_ME31 = array('f', [0.])\n",
    "comp_ME32 = array('f', [0.])\n",
    "comp_ME41 = array('f', [0.])\n",
    "comp_ME42 = array('f', [0.])\n",
    "\n",
    "wire_ME11 = array('f', [0.])\n",
    "wire_ME12 = array('f', [0.])\n",
    "wire_ME13 = array('f', [0.])\n",
    "wire_ME21 = array('f', [0.])\n",
    "wire_ME22 = array('f', [0.])\n",
    "wire_ME31 = array('f', [0.])\n",
    "wire_ME32 = array('f', [0.])\n",
    "wire_ME41 = array('f', [0.])\n",
    "wire_ME42 = array('f', [0.])\n"
   ]
  },
  {
   "cell_type": "code",
   "execution_count": 4,
   "metadata": {},
   "outputs": [],
   "source": [
    "in_path = \"/uscms/home/menendez/nobackup/Trigger/CMSSW_10_6_4/src/Data/TPEHists_\" + dataset + \".root\"\n",
    "out_path = \"trees/MaxDigis_tree_\" + dataset + \".root\"\n",
    "\n",
    "# f = TFile( out_path, 'RECREATE' )\n",
    "# comp_tree = TTree( 'comparator', 'Max Comparator digis in a single chamber in each ring per event' )\n",
    "# wire_tree = TTree( 'wire', 'Max Comparator digis in a single chamber in each ring per event' )\n",
    "# comp_tree.Branch( 'Ev_max_nComp_ME11', comp_ME11, 'comp_ME11/F')\n",
    "# comp_tree.Branch( 'Ev_max_nComp_ME12', comp_ME12, 'comp_ME12/F')\n",
    "# comp_tree.Branch( 'Ev_max_nComp_ME13', comp_ME13, 'comp_ME13/F')\n",
    "# comp_tree.Branch( 'Ev_max_nComp_ME21', comp_ME21, 'comp_ME21/F')\n",
    "# comp_tree.Branch( 'Ev_max_nComp_ME22', comp_ME22, 'comp_ME22/F')\n",
    "# comp_tree.Branch( 'Ev_max_nComp_ME31', comp_ME31, 'comp_ME31/F')\n",
    "# comp_tree.Branch( 'Ev_max_nComp_ME32', comp_ME32, 'comp_ME32/F')\n",
    "# comp_tree.Branch( 'Ev_max_nComp_ME41', comp_ME41, 'comp_ME41/F')\n",
    "# comp_tree.Branch( 'Ev_max_nComp_ME42', comp_ME42, 'comp_ME42/F')\n",
    "\n",
    "# wire_tree.Branch( 'Ev_max_nWire_ME11', wire_ME11, 'wire_ME11/F')\n",
    "# wire_tree.Branch( 'Ev_max_nWire_ME12', wire_ME12, 'wire_ME12/F')\n",
    "# wire_tree.Branch( 'Ev_max_nWire_ME13', wire_ME13, 'wire_ME13/F')\n",
    "# wire_tree.Branch( 'Ev_max_nWire_ME21', wire_ME21, 'wire_ME21/F')\n",
    "# wire_tree.Branch( 'Ev_max_nWire_ME22', wire_ME22, 'wire_ME22/F')\n",
    "# wire_tree.Branch( 'Ev_max_nWire_ME31', wire_ME31, 'wire_ME31/F')\n",
    "# wire_tree.Branch( 'Ev_max_nWire_ME32', wire_ME32, 'wire_ME32/F')\n",
    "# wire_tree.Branch( 'Ev_max_nWire_ME41', wire_ME41, 'wire_ME41/F')\n",
    "# wire_tree.Branch( 'Ev_max_nWire_ME42', wire_ME42, 'wire_ME42/F')\n",
    "\n"
   ]
  },
  {
   "cell_type": "code",
   "execution_count": 5,
   "metadata": {},
   "outputs": [],
   "source": [
    "comp_beat=[0]\n",
    "wire_beat=[0]"
   ]
  },
  {
   "cell_type": "code",
   "execution_count": 6,
   "metadata": {},
   "outputs": [],
   "source": [
    "if dataset==\"Data\":\n",
    "  MC = False\n",
    "  Neutrino = False\n",
    "elif dataset==\"Neutrino_gun\" or dataset==\"Nu_E10-pythia8-gun\":\n",
    "  MC = False\n",
    "  Neutrino = True\n",
    "else:\n",
    "  MC = True\n",
    "  Neutrino = False\n",
    "\n",
    "if MC:\n",
    "  File = TFile(in_path,\"READ\")\n",
    "elif Neutrino:\n",
    "  File = TFile(\"/uscms/home/menendez/nobackup/Trigger/CMSSW_10_6_4/src/Data/TPEHists_Neutrino_gun.root\",\"READ\")\n",
    "else:\n",
    "  File = TFile(\"/uscms/home/menendez/nobackup/Trigger/CMSSW_10_6_4/src/Data/TPEHists_Data.root\",\"READ\")\n",
    "clct = File.Get(\"lctreader/Ev_clcttree\")\n",
    "alct = File.Get(\"lctreader/Ev_alcttree\")\n",
    "llp = File.Get(\"lctreader/llp\")\n",
    "\n",
    "nEntries_clct = clct.GetEntries()\n",
    "nEntries_alct = alct.GetEntries()\n",
    "if MC:\n",
    "  nEntries_llp = llp.GetEntries()"
   ]
  },
  {
   "cell_type": "code",
   "execution_count": 7,
   "metadata": {},
   "outputs": [
    {
     "name": "stdout",
     "output_type": "stream",
     "text": [
      "35\n"
     ]
    }
   ],
   "source": [
    "llp_accept = []\n",
    "#max_nComp = np.array([0,0,0,0],[0,0,0,0],[0,0,0,0],[0,0,0,0],[0,0,0,0])\n",
    "max_nComp = np.zeros((5,4))\n",
    "max_nWire = np.zeros((5,4))\n",
    "lastEventclct = 0\n",
    "lastEventalct = 0\n",
    "\n",
    "comp_thresh = [[98,56,30],[49,42,0],[49,35,0],[42,31,0]]\n",
    "wire_thresh = [[104,92,32],[133,83,0],[130,74,0],[127,88,0]]\n",
    "\n",
    "print comp_thresh[2][1]"
   ]
  },
  {
   "cell_type": "code",
   "execution_count": 8,
   "metadata": {},
   "outputs": [],
   "source": [
    "if MC:\n",
    "  print \"Finding LLP Acceptance\"\n",
    "  for i in tqdm(range(0, nEntries_llp)):\n",
    "    llp.GetEntry(i)\n",
    "\n",
    "    if(llp.llp_in_acceptance[0]==1 or llp.llp_in_acceptance[1]==1):\n",
    "      llp_accept.append(llp.event)"
   ]
  },
  {
   "cell_type": "code",
   "execution_count": 9,
   "metadata": {},
   "outputs": [
    {
     "name": "stdout",
     "output_type": "stream",
     "text": [
      "Starting CLCT Analysis\n"
     ]
    },
    {
     "name": "stderr",
     "output_type": "stream",
     "text": [
      "100%|██████████| 21041797/21041797 [16:15<00:00, 21570.58it/s]\n"
     ]
    },
    {
     "data": {
      "text/plain": [
       "(array([1., 0., 0., 0., 0., 0., 0., 0., 0., 0., 0., 0., 1., 0., 0., 0., 0.,\n",
       "        0., 0., 0., 3., 2., 0., 0., 1., 0., 1., 1., 1., 0., 0., 1., 2., 0.,\n",
       "        0., 1., 2., 0., 1., 0., 0., 0., 1., 0., 0., 0., 0., 0., 0., 0., 0.,\n",
       "        0., 0., 3., 0., 0., 0., 0., 0., 0., 0., 0., 0., 0., 0., 0., 0., 0.,\n",
       "        0., 0., 0., 1., 1., 0., 0., 0., 0., 0., 0., 0., 0., 0., 1., 0., 1.,\n",
       "        0., 0., 0., 0., 0., 0., 0., 0., 1., 0., 0., 0., 1., 0., 0., 0., 1.,\n",
       "        1., 0., 0., 0., 0., 0., 0., 0., 0., 0., 0., 0., 0., 0., 0., 0., 0.,\n",
       "        0., 0., 1., 0., 0., 0., 0., 0., 0., 0., 1., 1., 0., 0., 0., 0., 0.,\n",
       "        0., 0., 0., 0., 1., 0., 0., 0., 0., 0., 1., 0., 0., 0., 0., 0., 0.,\n",
       "        0., 0., 1., 0., 1., 0., 0., 0., 0., 0., 0., 0., 0., 0., 1., 0., 0.,\n",
       "        1., 0., 0., 0., 0., 0., 0., 0., 0., 0., 0., 0., 0., 0., 0., 0., 0.,\n",
       "        0., 0., 1., 0., 0., 0., 0., 0., 0., 0., 0., 0., 0., 2., 0., 0., 1.,\n",
       "        0., 0., 0., 1., 0., 0., 0., 0., 0., 1., 0., 2., 0., 1., 0., 1., 0.,\n",
       "        0., 1., 1., 0., 1., 0., 0., 0., 0., 0., 0., 0., 0., 0., 0., 0., 0.,\n",
       "        0., 0., 0., 1., 0., 0., 0., 0., 1., 1., 0., 0., 0., 1.]),\n",
       " array([  0.        ,   0.99206349,   1.98412698,   2.97619048,\n",
       "          3.96825397,   4.96031746,   5.95238095,   6.94444444,\n",
       "          7.93650794,   8.92857143,   9.92063492,  10.91269841,\n",
       "         11.9047619 ,  12.8968254 ,  13.88888889,  14.88095238,\n",
       "         15.87301587,  16.86507937,  17.85714286,  18.84920635,\n",
       "         19.84126984,  20.83333333,  21.82539683,  22.81746032,\n",
       "         23.80952381,  24.8015873 ,  25.79365079,  26.78571429,\n",
       "         27.77777778,  28.76984127,  29.76190476,  30.75396825,\n",
       "         31.74603175,  32.73809524,  33.73015873,  34.72222222,\n",
       "         35.71428571,  36.70634921,  37.6984127 ,  38.69047619,\n",
       "         39.68253968,  40.67460317,  41.66666667,  42.65873016,\n",
       "         43.65079365,  44.64285714,  45.63492063,  46.62698413,\n",
       "         47.61904762,  48.61111111,  49.6031746 ,  50.5952381 ,\n",
       "         51.58730159,  52.57936508,  53.57142857,  54.56349206,\n",
       "         55.55555556,  56.54761905,  57.53968254,  58.53174603,\n",
       "         59.52380952,  60.51587302,  61.50793651,  62.5       ,\n",
       "         63.49206349,  64.48412698,  65.47619048,  66.46825397,\n",
       "         67.46031746,  68.45238095,  69.44444444,  70.43650794,\n",
       "         71.42857143,  72.42063492,  73.41269841,  74.4047619 ,\n",
       "         75.3968254 ,  76.38888889,  77.38095238,  78.37301587,\n",
       "         79.36507937,  80.35714286,  81.34920635,  82.34126984,\n",
       "         83.33333333,  84.32539683,  85.31746032,  86.30952381,\n",
       "         87.3015873 ,  88.29365079,  89.28571429,  90.27777778,\n",
       "         91.26984127,  92.26190476,  93.25396825,  94.24603175,\n",
       "         95.23809524,  96.23015873,  97.22222222,  98.21428571,\n",
       "         99.20634921, 100.1984127 , 101.19047619, 102.18253968,\n",
       "        103.17460317, 104.16666667, 105.15873016, 106.15079365,\n",
       "        107.14285714, 108.13492063, 109.12698413, 110.11904762,\n",
       "        111.11111111, 112.1031746 , 113.0952381 , 114.08730159,\n",
       "        115.07936508, 116.07142857, 117.06349206, 118.05555556,\n",
       "        119.04761905, 120.03968254, 121.03174603, 122.02380952,\n",
       "        123.01587302, 124.00793651, 125.        , 125.99206349,\n",
       "        126.98412698, 127.97619048, 128.96825397, 129.96031746,\n",
       "        130.95238095, 131.94444444, 132.93650794, 133.92857143,\n",
       "        134.92063492, 135.91269841, 136.9047619 , 137.8968254 ,\n",
       "        138.88888889, 139.88095238, 140.87301587, 141.86507937,\n",
       "        142.85714286, 143.84920635, 144.84126984, 145.83333333,\n",
       "        146.82539683, 147.81746032, 148.80952381, 149.8015873 ,\n",
       "        150.79365079, 151.78571429, 152.77777778, 153.76984127,\n",
       "        154.76190476, 155.75396825, 156.74603175, 157.73809524,\n",
       "        158.73015873, 159.72222222, 160.71428571, 161.70634921,\n",
       "        162.6984127 , 163.69047619, 164.68253968, 165.67460317,\n",
       "        166.66666667, 167.65873016, 168.65079365, 169.64285714,\n",
       "        170.63492063, 171.62698413, 172.61904762, 173.61111111,\n",
       "        174.6031746 , 175.5952381 , 176.58730159, 177.57936508,\n",
       "        178.57142857, 179.56349206, 180.55555556, 181.54761905,\n",
       "        182.53968254, 183.53174603, 184.52380952, 185.51587302,\n",
       "        186.50793651, 187.5       , 188.49206349, 189.48412698,\n",
       "        190.47619048, 191.46825397, 192.46031746, 193.45238095,\n",
       "        194.44444444, 195.43650794, 196.42857143, 197.42063492,\n",
       "        198.41269841, 199.4047619 , 200.3968254 , 201.38888889,\n",
       "        202.38095238, 203.37301587, 204.36507937, 205.35714286,\n",
       "        206.34920635, 207.34126984, 208.33333333, 209.32539683,\n",
       "        210.31746032, 211.30952381, 212.3015873 , 213.29365079,\n",
       "        214.28571429, 215.27777778, 216.26984127, 217.26190476,\n",
       "        218.25396825, 219.24603175, 220.23809524, 221.23015873,\n",
       "        222.22222222, 223.21428571, 224.20634921, 225.1984127 ,\n",
       "        226.19047619, 227.18253968, 228.17460317, 229.16666667,\n",
       "        230.15873016, 231.15079365, 232.14285714, 233.13492063,\n",
       "        234.12698413, 235.11904762, 236.11111111, 237.1031746 ,\n",
       "        238.0952381 , 239.08730159, 240.07936508, 241.07142857,\n",
       "        242.06349206, 243.05555556, 244.04761905, 245.03968254,\n",
       "        246.03174603, 247.02380952, 248.01587302, 249.00793651,\n",
       "        250.        ]),\n",
       " <a list of 252 Patch objects>)"
      ]
     },
     "execution_count": 9,
     "metadata": {},
     "output_type": "execute_result"
    },
    {
     "data": {
      "image/png": "[encoded data removed]",
      "text/plain": [
       "<Figure size 432x288 with 1 Axes>"
      ]
     },
     "metadata": {
      "needs_background": "light"
     },
     "output_type": "display_data"
    }
   ],
   "source": [
    "print \"Starting CLCT Analysis\"\n",
    "for i in tqdm(range(0, nEntries_clct)):\n",
    "  clct.GetEntry(i)\n",
    "\n",
    "  if MC:\n",
    "    if clct.t_Event not in llp_accept:\n",
    "      continue\n",
    "    \n",
    "  if(clct.t_Event!=lastEventclct):\n",
    "    lastEventclct = clct.t_Event\n",
    "    \n",
    "#     comp_ME11[0] = max_nComp[1][1]\n",
    "#     comp_ME12[0] = max_nComp[1][2]\n",
    "#     comp_ME13[0] = max_nComp[1][3]\n",
    "#     comp_ME21[0] = max_nComp[2][1]\n",
    "#     comp_ME22[0] = max_nComp[2][2]\n",
    "#     comp_ME31[0] = max_nComp[3][1]\n",
    "#     comp_ME32[0] = max_nComp[3][2]\n",
    "#     comp_ME41[0] = max_nComp[4][1]\n",
    "#     comp_ME42[0] = max_nComp[4][2]\n",
    "    max_nComp = np.zeros((5,4))\n",
    "\n",
    "#     comp_tree.Fill()\n",
    "       \n",
    "        \n",
    "  if clct.t_nComp > max_nComp[clct.t_station][clct.t_ring]:\n",
    "    max_nComp[clct.t_station][clct.t_ring] = clct.t_nComp\n",
    "    if max_nComp[clct.t_station][clct.t_ring] > comp_thresh[clct.t_station-1][clct.t_ring-1]:\n",
    "        #print \"%i,%i,%i\" %(clct.t_station,clct.t_ring,clct.t_chamber)\n",
    "        if clct.t_station == 1 and clct.t_ring == 1:\n",
    "            enty = clct.t_chamber\n",
    "        elif clct.t_station == 1 and clct.t_ring == 2:\n",
    "            enty = clct.t_chamber + 18\n",
    "        elif clct.t_station == 1 and clct.t_ring == 3:\n",
    "            enty = clct.t_chamber + 18 + 36\n",
    "        elif clct.t_station == 2 and clct.t_ring == 1:\n",
    "            enty = clct.t_chamber + 18 + 36 + 36\n",
    "        elif clct.t_station == 2 and clct.t_ring == 2:\n",
    "            enty = clct.t_chamber + 18 + 36 + 36 + 18\n",
    "        elif clct.t_station == 3 and clct.t_ring == 1:\n",
    "            enty = clct.t_chamber + 18 + 36 + 36 + 18 + 36\n",
    "        elif clct.t_station == 3 and clct.t_ring == 2:\n",
    "            enty = clct.t_chamber + 18 + 36 + 36 + 18 + 36 + 18\n",
    "        elif clct.t_station == 4 and clct.t_ring == 1:\n",
    "            enty = clct.t_chamber + 18 + 36 + 36 + 18 + 36 + 18 + 36\n",
    "        elif clct.t_station == 4 and clct.t_ring == 2:\n",
    "            enty = clct.t_chamber + 18 + 36 + 36 + 18 + 36 + 18 + 36 + 18\n",
    "        comp_beat.append(enty)\n",
    "        \n",
    "plt.hist(comp_beat, bins=252)\n",
    "                    "
   ]
  },
  {
   "cell_type": "code",
   "execution_count": 10,
   "metadata": {},
   "outputs": [
    {
     "name": "stderr",
     "output_type": "stream",
     "text": [
      "  0%|          | 1/26873238 [00:00<761:28:59,  9.80it/s]"
     ]
    },
    {
     "name": "stdout",
     "output_type": "stream",
     "text": [
      "Starting ALCT Analysis\n"
     ]
    },
    {
     "name": "stderr",
     "output_type": "stream",
     "text": [
      "100%|██████████| 26873238/26873238 [19:08<00:00, 23400.14it/s]\n"
     ]
    },
    {
     "data": {
      "text/plain": [
       "(array([1., 0., 0., 1., 0., 0., 0., 0., 0., 0., 0., 0., 0., 0., 0., 0., 0.,\n",
       "        0., 0., 0., 1., 1., 0., 0., 0., 1., 0., 0., 0., 2., 0., 0., 1., 0.,\n",
       "        1., 0., 1., 3., 0., 0., 2., 0., 0., 1., 0., 0., 1., 0., 1., 0., 1.,\n",
       "        0., 1., 0., 1., 1., 0., 0., 1., 0., 0., 0., 0., 0., 1., 0., 0., 1.,\n",
       "        0., 0., 1., 0., 1., 0., 2., 1., 0., 0., 0., 0., 2., 1., 1., 1., 0.,\n",
       "        1., 0., 1., 0., 0., 1., 0., 0., 0., 1., 0., 0., 0., 0., 0., 0., 1.,\n",
       "        0., 0., 1., 0., 0., 0., 0., 0., 1., 0., 0., 0., 0., 0., 0., 0., 0.,\n",
       "        0., 0., 0., 0., 1., 0., 0., 0., 0., 0., 0., 0., 0., 1., 0., 0., 0.,\n",
       "        0., 0., 0., 0., 0., 1., 0., 0., 0., 0., 0., 0., 0., 1., 0., 1., 0.,\n",
       "        0., 0., 1., 0., 0., 0., 0., 0., 0., 0., 0., 1., 0., 0., 0., 0., 0.,\n",
       "        1., 0., 1., 1., 0., 2., 1., 0., 0., 0., 1., 0., 0., 0., 0., 0., 0.,\n",
       "        1., 1., 0., 0., 1., 0., 1., 0., 0., 0., 1., 2., 0., 1., 0., 0., 0.,\n",
       "        0., 0., 0., 1., 0., 0., 0., 0., 0., 0., 0., 1., 0., 0., 0., 0., 1.,\n",
       "        0., 0., 0., 0., 1., 0., 0., 0., 0., 0., 0., 0., 1., 0., 1., 0., 0.,\n",
       "        0., 0., 0., 0., 1., 2., 0., 0., 0., 1., 1., 0., 0., 1.]),\n",
       " array([  0.        ,   0.95634921,   1.91269841,   2.86904762,\n",
       "          3.82539683,   4.78174603,   5.73809524,   6.69444444,\n",
       "          7.65079365,   8.60714286,   9.56349206,  10.51984127,\n",
       "         11.47619048,  12.43253968,  13.38888889,  14.3452381 ,\n",
       "         15.3015873 ,  16.25793651,  17.21428571,  18.17063492,\n",
       "         19.12698413,  20.08333333,  21.03968254,  21.99603175,\n",
       "         22.95238095,  23.90873016,  24.86507937,  25.82142857,\n",
       "         26.77777778,  27.73412698,  28.69047619,  29.6468254 ,\n",
       "         30.6031746 ,  31.55952381,  32.51587302,  33.47222222,\n",
       "         34.42857143,  35.38492063,  36.34126984,  37.29761905,\n",
       "         38.25396825,  39.21031746,  40.16666667,  41.12301587,\n",
       "         42.07936508,  43.03571429,  43.99206349,  44.9484127 ,\n",
       "         45.9047619 ,  46.86111111,  47.81746032,  48.77380952,\n",
       "         49.73015873,  50.68650794,  51.64285714,  52.59920635,\n",
       "         53.55555556,  54.51190476,  55.46825397,  56.42460317,\n",
       "         57.38095238,  58.33730159,  59.29365079,  60.25      ,\n",
       "         61.20634921,  62.16269841,  63.11904762,  64.07539683,\n",
       "         65.03174603,  65.98809524,  66.94444444,  67.90079365,\n",
       "         68.85714286,  69.81349206,  70.76984127,  71.72619048,\n",
       "         72.68253968,  73.63888889,  74.5952381 ,  75.5515873 ,\n",
       "         76.50793651,  77.46428571,  78.42063492,  79.37698413,\n",
       "         80.33333333,  81.28968254,  82.24603175,  83.20238095,\n",
       "         84.15873016,  85.11507937,  86.07142857,  87.02777778,\n",
       "         87.98412698,  88.94047619,  89.8968254 ,  90.8531746 ,\n",
       "         91.80952381,  92.76587302,  93.72222222,  94.67857143,\n",
       "         95.63492063,  96.59126984,  97.54761905,  98.50396825,\n",
       "         99.46031746, 100.41666667, 101.37301587, 102.32936508,\n",
       "        103.28571429, 104.24206349, 105.1984127 , 106.1547619 ,\n",
       "        107.11111111, 108.06746032, 109.02380952, 109.98015873,\n",
       "        110.93650794, 111.89285714, 112.84920635, 113.80555556,\n",
       "        114.76190476, 115.71825397, 116.67460317, 117.63095238,\n",
       "        118.58730159, 119.54365079, 120.5       , 121.45634921,\n",
       "        122.41269841, 123.36904762, 124.32539683, 125.28174603,\n",
       "        126.23809524, 127.19444444, 128.15079365, 129.10714286,\n",
       "        130.06349206, 131.01984127, 131.97619048, 132.93253968,\n",
       "        133.88888889, 134.8452381 , 135.8015873 , 136.75793651,\n",
       "        137.71428571, 138.67063492, 139.62698413, 140.58333333,\n",
       "        141.53968254, 142.49603175, 143.45238095, 144.40873016,\n",
       "        145.36507937, 146.32142857, 147.27777778, 148.23412698,\n",
       "        149.19047619, 150.1468254 , 151.1031746 , 152.05952381,\n",
       "        153.01587302, 153.97222222, 154.92857143, 155.88492063,\n",
       "        156.84126984, 157.79761905, 158.75396825, 159.71031746,\n",
       "        160.66666667, 161.62301587, 162.57936508, 163.53571429,\n",
       "        164.49206349, 165.4484127 , 166.4047619 , 167.36111111,\n",
       "        168.31746032, 169.27380952, 170.23015873, 171.18650794,\n",
       "        172.14285714, 173.09920635, 174.05555556, 175.01190476,\n",
       "        175.96825397, 176.92460317, 177.88095238, 178.83730159,\n",
       "        179.79365079, 180.75      , 181.70634921, 182.66269841,\n",
       "        183.61904762, 184.57539683, 185.53174603, 186.48809524,\n",
       "        187.44444444, 188.40079365, 189.35714286, 190.31349206,\n",
       "        191.26984127, 192.22619048, 193.18253968, 194.13888889,\n",
       "        195.0952381 , 196.0515873 , 197.00793651, 197.96428571,\n",
       "        198.92063492, 199.87698413, 200.83333333, 201.78968254,\n",
       "        202.74603175, 203.70238095, 204.65873016, 205.61507937,\n",
       "        206.57142857, 207.52777778, 208.48412698, 209.44047619,\n",
       "        210.3968254 , 211.3531746 , 212.30952381, 213.26587302,\n",
       "        214.22222222, 215.17857143, 216.13492063, 217.09126984,\n",
       "        218.04761905, 219.00396825, 219.96031746, 220.91666667,\n",
       "        221.87301587, 222.82936508, 223.78571429, 224.74206349,\n",
       "        225.6984127 , 226.6547619 , 227.61111111, 228.56746032,\n",
       "        229.52380952, 230.48015873, 231.43650794, 232.39285714,\n",
       "        233.34920635, 234.30555556, 235.26190476, 236.21825397,\n",
       "        237.17460317, 238.13095238, 239.08730159, 240.04365079,\n",
       "        241.        ]),\n",
       " <a list of 252 Patch objects>)"
      ]
     },
     "execution_count": 10,
     "metadata": {},
     "output_type": "execute_result"
    },
    {
     "data": {
      "image/png": "[encoded data removed]",
      "text/plain": [
       "<Figure size 432x288 with 1 Axes>"
      ]
     },
     "metadata": {
      "needs_background": "light"
     },
     "output_type": "display_data"
    }
   ],
   "source": [
    "print \"Starting ALCT Analysis\"\n",
    "for i in tqdm(range(0, nEntries_alct)):\n",
    "  alct.GetEntry(i)\n",
    "\n",
    "  if MC:\n",
    "    if alct.t_Event not in llp_accept:\n",
    "      continue\n",
    "    \n",
    "  if(alct.t_Event!=lastEventalct):\n",
    "    lastEventalct = alct.t_Event\n",
    "    \n",
    "#     wire_ME11[0] = max_nWire[1][1]\n",
    "#     wire_ME12[0] = max_nWire[1][2]\n",
    "#     wire_ME13[0] = max_nWire[1][3]\n",
    "#     wire_ME21[0] = max_nWire[2][1]\n",
    "#     wire_ME22[0] = max_nWire[2][2]\n",
    "#     wire_ME31[0] = max_nWire[3][1]\n",
    "#     wire_ME32[0] = max_nWire[3][2]\n",
    "#     wire_ME41[0] = max_nWire[4][1]\n",
    "#     wire_ME42[0] = max_nWire[4][2]\n",
    "    max_nWire = np.zeros((5,4))\n",
    "\n",
    "#     wire_tree.Fill()\n",
    "  \n",
    "\n",
    "  if alct.t_nWire > max_nWire[alct.t_station][alct.t_ring]:\n",
    "    max_nWire[alct.t_station][alct.t_ring] = alct.t_nWire\n",
    "    if max_nWire[alct.t_station][alct.t_ring] > wire_thresh[alct.t_station-1][alct.t_ring-1]:\n",
    "        #print \"Station %i, Ring %i, Chamber %i, has %i digis > %i\" %(alct.t_station,alct.t_ring,alct.t_chamber,max_nWire[alct.t_station][alct.t_ring],wire_thresh[alct.t_station-1][alct.t_ring-1])\n",
    "        if alct.t_station == 1 and alct.t_ring == 1:\n",
    "            enty = alct.t_chamber\n",
    "        elif alct.t_station == 1 and alct.t_ring == 2:\n",
    "            enty = alct.t_chamber + 18\n",
    "        elif alct.t_station == 1 and alct.t_ring == 3:\n",
    "            enty = alct.t_chamber + 18 + 36\n",
    "        elif alct.t_station == 2 and alct.t_ring == 1:\n",
    "            enty = alct.t_chamber + 18 + 36 + 36\n",
    "        elif alct.t_station == 2 and alct.t_ring == 2:\n",
    "            enty = alct.t_chamber + 18 + 36 + 36 + 18\n",
    "        elif alct.t_station == 3 and alct.t_ring == 1:\n",
    "            enty = alct.t_chamber + 18 + 36 + 36 + 18 + 36\n",
    "        elif alct.t_station == 3 and alct.t_ring == 2:\n",
    "            enty = alct.t_chamber + 18 + 36 + 36 + 18 + 36 + 18\n",
    "        elif alct.t_station == 4 and alct.t_ring == 1:\n",
    "            enty = alct.t_chamber + 18 + 36 + 36 + 18 + 36 + 18 + 36\n",
    "        elif alct.t_station == 4 and alct.t_ring == 2:\n",
    "            enty = alct.t_chamber + 18 + 36 + 36 + 18 + 36 + 18 + 36 + 18\n",
    "        wire_beat.append(enty)\n",
    "        \n",
    "plt.hist(wire_beat, bins=252)\n",
    "    \n",
    "    "
   ]
  },
  {
   "cell_type": "code",
   "execution_count": 11,
   "metadata": {},
   "outputs": [],
   "source": [
    "#f.Write()\n",
    "#f.Close()"
   ]
  },
  {
   "cell_type": "code",
   "execution_count": 12,
   "metadata": {},
   "outputs": [
    {
     "name": "stdout",
     "output_type": "stream",
     "text": [
      "Comparator rate dominated by chamber 53\n",
      "Wire rate dominated by chamber 36\n"
     ]
    }
   ],
   "source": [
    "comp_domin = max(comp_beat, key=comp_beat.count)\n",
    "wire_domin = max(wire_beat, key=wire_beat.count)\n",
    "\n",
    "print \"Comparator rate dominated by chamber %i\" %(comp_domin)\n",
    "print \"Wire rate dominated by chamber %i\" %(wire_domin)"
   ]
  },
  {
   "cell_type": "code",
   "execution_count": 15,
   "metadata": {},
   "outputs": [
    {
     "name": "stdout",
     "output_type": "stream",
     "text": [
      "76\n"
     ]
    }
   ],
   "source": [
    "print len(wire_beat)"
   ]
  },
  {
   "cell_type": "code",
   "execution_count": null,
   "metadata": {},
   "outputs": [],
   "source": []
  }
 ],
 "metadata": {
  "kernelspec": {
   "display_name": "Python 2",
   "language": "python",
   "name": "python2"
  },
  "language_info": {
   "codemirror_mode": {
    "name": "ipython",
    "version": 2
   },
   "file_extension": ".py",
   "mimetype": "text/x-python",
   "name": "python",
   "nbconvert_exporter": "python",
   "pygments_lexer": "ipython2",
   "version": "2.7.15+"
  }
 },
 "nbformat": 4,
 "nbformat_minor": 2
}
