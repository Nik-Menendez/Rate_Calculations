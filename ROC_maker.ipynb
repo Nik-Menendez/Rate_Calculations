{
 "cells": [
  {
   "cell_type": "code",
   "execution_count": 1,
   "metadata": {},
   "outputs": [
    {
     "data": {
      "text/html": [
       "<style>.container { width:100% !important; }</style>"
      ],
      "text/plain": [
       "<IPython.core.display.HTML object>"
      ]
     },
     "metadata": {},
     "output_type": "display_data"
    }
   ],
   "source": [
    "import pandas as pd\n",
    "import numpy as np\n",
    "import uproot\n",
    "import matplotlib\n",
    "from matplotlib import pyplot as plt\n",
    "from __future__ import division\n",
    "from tqdm import tqdm\n",
    "\n",
    "from IPython.core.display import display, HTML\n",
    "display(HTML(\"<style>.container { width:100% !important; }</style>\"))"
   ]
  },
  {
   "cell_type": "code",
   "execution_count": 2,
   "metadata": {},
   "outputs": [
    {
     "name": "stdout",
     "output_type": "stream",
     "text": [
      "Opening input files\n",
      "Opening file:  ['trees/MaxDigis_tree_HTo2LongLivedTo4b_MH-125_MFF-25_CTau-15000mm_TuneCP5_14TeV_pythia8.root']\n",
      "Opening file:  trees/MaxDigis_tree_HTo2LongLivedTo4b_MH-125_MFF-25_CTau-1500mm_TuneCP5_14TeV_pythia8.root\n",
      "Opening file:  trees/MaxDigis_tree_HTo2LongLivedTo4b_MH-125_MFF-12_CTau-9000mm_TuneCP5_14TeV_pythia8.root\n",
      "Opening file:  trees/MaxDigis_tree_HTo2LongLivedTo4b_MH-125_MFF-12_CTau-900mm_TuneCP5_14TeV_pythia8.root\n",
      "Opening file:  trees/MaxDigis_tree_HTo2LongLivedTo4b_MH-125_MFF-50_CTau-30000mm_TuneCP5_14TeV_pythia8.root\n",
      "Opening file:  trees/MaxDigis_tree_HTo2LongLivedTo4b_MH-125_MFF-50_CTau-3000mm_TuneCP5_14TeV_pythia8.root\n",
      "Opening file:  ['trees/MaxDigis_tree_Neutrino_gun.root']\n"
     ]
    }
   ],
   "source": [
    "input_bkg = ['trees/MaxDigis_tree_Neutrino_gun.root']\n",
    "first_sig = ['trees/MaxDigis_tree_HTo2LongLivedTo4b_MH-125_MFF-25_CTau-15000mm_TuneCP5_14TeV_pythia8.root']\n",
    "input_sig = ['trees/MaxDigis_tree_HTo2LongLivedTo4b_MH-125_MFF-25_CTau-1500mm_TuneCP5_14TeV_pythia8.root',\n",
    "             #'trees/MaxDigis_tree_HTo2LongLivedTo4b_MH-1000_MFF-450_CTau-100000mm_TuneCP5_14TeV_pythia8.root',\n",
    "             #'trees/MaxDigis_tree_HTo2LongLivedTo4b_MH-1000_MFF-450_CTau-10000mm_TuneCP5_14TeV_pythia8.root',\n",
    "             'trees/MaxDigis_tree_HTo2LongLivedTo4b_MH-125_MFF-12_CTau-9000mm_TuneCP5_14TeV_pythia8.root',\n",
    "             'trees/MaxDigis_tree_HTo2LongLivedTo4b_MH-125_MFF-12_CTau-900mm_TuneCP5_14TeV_pythia8.root',\n",
    "             'trees/MaxDigis_tree_HTo2LongLivedTo4b_MH-125_MFF-50_CTau-30000mm_TuneCP5_14TeV_pythia8.root',\n",
    "             'trees/MaxDigis_tree_HTo2LongLivedTo4b_MH-125_MFF-50_CTau-3000mm_TuneCP5_14TeV_pythia8.root',\n",
    "            ]\n",
    "comp_treename = 'comparator'\n",
    "wire_treename = 'wire'\n",
    "\n",
    "comp_vars = [ 'Ev_max_nComp_ME11','Ev_max_nComp_ME12','Ev_max_nComp_ME13','Ev_max_nComp_ME21','Ev_max_nComp_ME22',\n",
    "             'Ev_max_nComp_ME31','Ev_max_nComp_ME32','Ev_max_nComp_ME41','Ev_max_nComp_ME42']\n",
    "wire_vars = [ 'Ev_max_nWire_ME11','Ev_max_nWire_ME12','Ev_max_nWire_ME13','Ev_max_nWire_ME21','Ev_max_nWire_ME22',\n",
    "             'Ev_max_nWire_ME31','Ev_max_nWire_ME32','Ev_max_nWire_ME41','Ev_max_nWire_ME42']\n",
    "\n",
    "#all_vars = [ 'Ev_nComp_ME11','Ev_nComp_ME12']\n",
    "\n",
    "comp_vars = list(set(comp_vars))\n",
    "wire_vars = list(set(wire_vars))\n",
    "\n",
    "arrs_comp_sig = [None]*(len(input_sig)+1)\n",
    "arrs_wire_sig = [None]*(len(input_sig)+1)\n",
    "\n",
    "print \"Opening input files\"\n",
    "\n",
    "print \"Opening file: \", first_sig\n",
    "arrs_comp_sig[0] = uproot.open(first_sig[0])[comp_treename]\n",
    "arrs_wire_sig[0] = uproot.open(first_sig[0])[wire_treename]\n",
    "comp_sig = arrs_comp_sig[0].pandas.df(comp_vars)\n",
    "wire_sig = arrs_wire_sig[0].pandas.df(wire_vars)\n",
    "\n",
    "j=1\n",
    "for i in (input_sig):\n",
    "    print \"Opening file: \", i\n",
    "    arrs_comp_sig[j] = uproot.open(i)[comp_treename]\n",
    "    arrs_wire_sig[j] = uproot.open(i)[wire_treename]\n",
    "    temp_comp_sig = arrs_comp_sig[j].pandas.df(comp_vars)\n",
    "    temp_wire_sig = arrs_wire_sig[j].pandas.df(wire_vars)\n",
    "    comp_sig = comp_sig.append(temp_comp_sig)\n",
    "    wire_sig = wire_sig.append(temp_wire_sig)\n",
    "    j=j+1\n",
    "\n",
    "\n",
    "print \"Opening file: \", input_bkg\n",
    "arrs_comp_bkg = uproot.open(input_bkg[0])[comp_treename]\n",
    "arrs_wire_bkg = uproot.open(input_bkg[0])[wire_treename]\n",
    "comp_bkg = arrs_comp_bkg.pandas.df(comp_vars)\n",
    "wire_bkg = arrs_wire_bkg.pandas.df(wire_vars)"
   ]
  },
  {
   "cell_type": "code",
   "execution_count": 3,
   "metadata": {},
   "outputs": [],
   "source": [
    "# efficiency=[0]\n",
    "# comp_sig_tot = len(comp_sig)\n",
    "# rate=[0]\n",
    "# comp_bkg_tot = len(comp_bkg)\n",
    "\n",
    "# min_=30\n",
    "# max_=60\n",
    "# it=5\n",
    "\n",
    "# for comp11 in tqdm(xrange(min_,max_,it)):\n",
    "#   for comp12 in xrange(min_,max_,it):\n",
    "#     for comp13 in xrange(min_,max_,it):\n",
    "#       for comp21 in xrange(min_,max_,it):\n",
    "#         for comp22 in xrange(min_,max_,it):\n",
    "#           for comp31 in xrange(min_,max_,it):\n",
    "#             for comp32 in xrange(min_,max_,it):\n",
    "#               for comp41 in xrange(min_,max_,it):\n",
    "#                 for comp42 in xrange(min_,max_,it):\n",
    "\n",
    "#                   efficiency.append(len(comp_sig[(comp_sig['Ev_max_nComp_ME11'] > comp11) | (comp_sig['Ev_max_nComp_ME12'] > comp12) | (comp_sig['Ev_max_nComp_ME13'] > comp13) |\n",
    "#                                                  (comp_sig['Ev_max_nComp_ME21'] > comp21) | (comp_sig['Ev_max_nComp_ME22'] > comp22) |\n",
    "#                                                  (comp_sig['Ev_max_nComp_ME31'] > comp31) | (comp_sig['Ev_max_nComp_ME32'] > comp32) |\n",
    "#                                                  (comp_sig['Ev_max_nComp_ME41'] > comp41) | (comp_sig['Ev_max_nComp_ME41'] > comp42)])/comp_sig_tot*100)\n",
    "                \n",
    "#                   rate.append(len(comp_bkg[(comp_bkg['Ev_max_nComp_ME11'] > comp11) | (comp_bkg['Ev_max_nComp_ME12'] > comp12) | (comp_bkg['Ev_max_nComp_ME13'] > comp13) |\n",
    "#                                            (comp_bkg['Ev_max_nComp_ME21'] > comp21) | (comp_bkg['Ev_max_nComp_ME22'] > comp22) |\n",
    "#                                            (comp_bkg['Ev_max_nComp_ME31'] > comp31) | (comp_bkg['Ev_max_nComp_ME32'] > comp32) |\n",
    "#                                            (comp_bkg['Ev_max_nComp_ME41'] > comp41) | (comp_bkg['Ev_max_nComp_ME41'] > comp42)])/comp_bkg_tot*30*1000)"
   ]
  },
  {
   "cell_type": "code",
   "execution_count": 4,
   "metadata": {},
   "outputs": [
    {
     "name": "stderr",
     "output_type": "stream",
     "text": [
      "100%|██████████| 120/120 [00:02<00:00, 59.13it/s]\n"
     ]
    }
   ],
   "source": [
    "comp_efficiency=[0]\n",
    "comp_sig_tot = len(comp_sig)\n",
    "comp_rate=[0]\n",
    "comp_bkg_tot = len(comp_bkg)\n",
    "comp_limits=[0]\n",
    "\n",
    "min_=0\n",
    "max_=120\n",
    "it_=1\n",
    "\n",
    "for limit in tqdm(xrange(min_,max_,it_)):\n",
    "    comp_efficiency.append(len(comp_sig[#(comp_sig['Ev_max_nComp_ME11'] > limit) | (comp_sig['Ev_max_nComp_ME12'] > limit) | (comp_sig['Ev_max_nComp_ME13'] > limit) |\n",
    "                                        (comp_sig['Ev_max_nComp_ME21'] > limit) | (comp_sig['Ev_max_nComp_ME22'] > limit) |\n",
    "                                        (comp_sig['Ev_max_nComp_ME31'] > limit) | (comp_sig['Ev_max_nComp_ME32'] > limit) |\n",
    "                                        (comp_sig['Ev_max_nComp_ME41'] > limit) | (comp_sig['Ev_max_nComp_ME41'] > limit)])/comp_sig_tot*100)\n",
    "    \n",
    "    comp_rate.append(len(comp_bkg[#(comp_bkg['Ev_max_nComp_ME11'] > limit) | (comp_bkg['Ev_max_nComp_ME12'] > limit) | (comp_bkg['Ev_max_nComp_ME13'] > limit) |\n",
    "                                  (comp_bkg['Ev_max_nComp_ME21'] > limit) | (comp_bkg['Ev_max_nComp_ME22'] > limit) |\n",
    "                                  (comp_bkg['Ev_max_nComp_ME31'] > limit) | (comp_bkg['Ev_max_nComp_ME32'] > limit) |\n",
    "                                  (comp_bkg['Ev_max_nComp_ME41'] > limit) | (comp_bkg['Ev_max_nComp_ME41'] > limit)])/comp_bkg_tot*30*1000)\n",
    "    \n",
    "    comp_limits.append(limit)"
   ]
  },
  {
   "cell_type": "code",
   "execution_count": 5,
   "metadata": {},
   "outputs": [
    {
     "data": {
      "text/plain": [
       "Text(0.5,1,'Comparator ROC Curve')"
      ]
     },
     "execution_count": 5,
     "metadata": {},
     "output_type": "execute_result"
    },
    {
     "data": {
      "image/png": "[encoded data removed]",
      "text/plain": [
       "<Figure size 432x288 with 1 Axes>"
      ]
     },
     "metadata": {
      "needs_background": "light"
     },
     "output_type": "display_data"
    }
   ],
   "source": [
    "plt.plot(comp_rate,comp_efficiency,'bo')\n",
    "plt.xlim(0,1)\n",
    "plt.ylim(0,40)\n",
    "plt.xlabel('Rate (kHz)')\n",
    "plt.ylabel('Efficiency (%)')\n",
    "plt.title('Comparator ROC Curve')"
   ]
  },
  {
   "cell_type": "code",
   "execution_count": 6,
   "metadata": {},
   "outputs": [
    {
     "name": "stdout",
     "output_type": "stream",
     "text": [
      "rate = 0.907389782388 kHz and efficiency = 28.8312815657 % for threshold > 30\n",
      "rate = 0.72591182591 kHz and efficiency = 27.9869002525 % for threshold > 31\n",
      "rate = 0.483941217273 kHz and efficiency = 27.2608901515 % for threshold > 32\n"
     ]
    }
   ],
   "source": [
    "for i in range(len(comp_rate)):\n",
    "    if comp_rate[i] > 0.4 and comp_rate[i] < 1:\n",
    "        print 'rate =', comp_rate[i], 'kHz and efficiency =', comp_efficiency[i], '% for threshold >', comp_limits[i]"
   ]
  },
  {
   "cell_type": "code",
   "execution_count": 7,
   "metadata": {},
   "outputs": [
    {
     "name": "stderr",
     "output_type": "stream",
     "text": [
      "100%|██████████| 120/120 [00:02<00:00, 51.54it/s]\n"
     ]
    }
   ],
   "source": [
    "wire_efficiency=[0]\n",
    "wire_sig_tot = len(wire_sig)\n",
    "wire_rate=[0]\n",
    "wire_bkg_tot = len(wire_bkg)\n",
    "wire_limits=[0]\n",
    "\n",
    "min_=0\n",
    "max_=120\n",
    "it_=1\n",
    "\n",
    "for limit in tqdm(xrange(min_,max_,it_)):\n",
    "    wire_efficiency.append(len(wire_sig[#(wire_sig['Ev_max_nWire_ME11'] > limit) | (wire_sig['Ev_max_nWire_ME12'] > limit) | (wire_sig['Ev_max_nWire_ME13'] > limit) |\n",
    "                                        (wire_sig['Ev_max_nWire_ME21'] > limit) | (wire_sig['Ev_max_nWire_ME22'] > limit) |\n",
    "                                        (wire_sig['Ev_max_nWire_ME31'] > limit) | (wire_sig['Ev_max_nWire_ME32'] > limit) |\n",
    "                                        (wire_sig['Ev_max_nWire_ME41'] > limit) | (wire_sig['Ev_max_nWire_ME41'] > limit)])/wire_sig_tot*100)\n",
    "    \n",
    "    wire_rate.append(len(wire_bkg[#(wire_bkg['Ev_max_nWire_ME11'] > limit) | (wire_bkg['Ev_max_nWire_ME12'] > limit) | (wire_bkg['Ev_max_nWire_ME13'] > limit) |\n",
    "                                  (wire_bkg['Ev_max_nWire_ME21'] > limit) | (wire_bkg['Ev_max_nWire_ME22'] > limit) |\n",
    "                                  (wire_bkg['Ev_max_nWire_ME31'] > limit) | (wire_bkg['Ev_max_nWire_ME32'] > limit) |\n",
    "                                  (wire_bkg['Ev_max_nWire_ME41'] > limit) | (wire_bkg['Ev_max_nWire_ME41'] > limit)])/wire_bkg_tot*30*1000)\n",
    "    \n",
    "    wire_limits.append(limit)"
   ]
  },
  {
   "cell_type": "code",
   "execution_count": 8,
   "metadata": {},
   "outputs": [
    {
     "data": {
      "text/plain": [
       "Text(0.5,1,'Wire ROC Curve')"
      ]
     },
     "execution_count": 8,
     "metadata": {},
     "output_type": "execute_result"
    },
    {
     "data": {
      "image/png": "[encoded data removed]",
      "text/plain": [
       "<Figure size 432x288 with 1 Axes>"
      ]
     },
     "metadata": {
      "needs_background": "light"
     },
     "output_type": "display_data"
    }
   ],
   "source": [
    "plt.plot(wire_rate,wire_efficiency,'bo')\n",
    "plt.xlim(0,1)\n",
    "plt.ylim(0,40)\n",
    "plt.xlabel('Rate (kHz)')\n",
    "plt.ylabel('Efficiency (%)')\n",
    "plt.title('Wire ROC Curve')"
   ]
  },
  {
   "cell_type": "code",
   "execution_count": 9,
   "metadata": {},
   "outputs": [
    {
     "name": "stdout",
     "output_type": "stream",
     "text": [
      "rate = 0.871028684877 kHz and efficiency = 18.1581747251 % for threshold > 67\n",
      "rate = 0.810957741092 kHz and efficiency = 17.8350474839 % for threshold > 68\n",
      "rate = 0.750886797308 kHz and efficiency = 17.5789100366 % for threshold > 69\n",
      "rate = 0.720851325415 kHz and efficiency = 17.3542971983 % for threshold > 70\n",
      "rate = 0.690815853523 kHz and efficiency = 17.0429916854 % for threshold > 71\n",
      "rate = 0.630744909738 kHz and efficiency = 16.7671513575 % for threshold > 72\n",
      "rate = 0.600709437846 kHz and efficiency = 16.4834298774 % for threshold > 73\n",
      "rate = 0.540638494061 kHz and efficiency = 16.2154707018 % for threshold > 74\n",
      "rate = 0.480567550277 kHz and efficiency = 15.9159869173 % for threshold > 75\n",
      "rate = 0.420496606492 kHz and efficiency = 15.6165031328 % for threshold > 76\n"
     ]
    }
   ],
   "source": [
    "for i in range(len(wire_rate)):\n",
    "    if wire_rate[i] > 0.4 and wire_rate[i] < 1.0:\n",
    "        print 'rate =', wire_rate[i], 'kHz and efficiency =', wire_efficiency[i], '% for threshold >', wire_limits[i]"
   ]
  },
  {
   "cell_type": "code",
   "execution_count": null,
   "metadata": {},
   "outputs": [],
   "source": []
  }
 ],
 "metadata": {
  "kernelspec": {
   "display_name": "Python 2",
   "language": "python",
   "name": "python2"
  },
  "language_info": {
   "codemirror_mode": {
    "name": "ipython",
    "version": 2
   },
   "file_extension": ".py",
   "mimetype": "text/x-python",
   "name": "python",
   "nbconvert_exporter": "python",
   "pygments_lexer": "ipython2",
   "version": "2.7.15+"
  }
 },
 "nbformat": 4,
 "nbformat_minor": 2
}
