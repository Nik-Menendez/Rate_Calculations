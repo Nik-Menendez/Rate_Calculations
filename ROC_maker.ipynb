{
 "cells": [
  {
   "cell_type": "code",
   "execution_count": 1,
   "metadata": {},
   "outputs": [
    {
     "data": {
      "text/html": [
       "<style>.container { width:100% !important; }</style>"
      ],
      "text/plain": [
       "<IPython.core.display.HTML object>"
      ]
     },
     "metadata": {},
     "output_type": "display_data"
    }
   ],
   "source": [
    "import pandas as pd\n",
    "import numpy as np\n",
    "import uproot\n",
    "import matplotlib\n",
    "from matplotlib import pyplot as plt\n",
    "from __future__ import division\n",
    "from tqdm import tqdm\n",
    "\n",
    "from IPython.core.display import display, HTML\n",
    "display(HTML(\"<style>.container { width:100% !important; }</style>\"))"
   ]
  },
  {
   "cell_type": "code",
   "execution_count": 2,
   "metadata": {},
   "outputs": [
    {
     "name": "stdout",
     "output_type": "stream",
     "text": [
      "Opening input files\n",
      "Opening file:  ['trees/MaxDigis_tree_HTo2LongLivedTo4b_MH-125_MFF-25_CTau-15000mm_TuneCP5_14TeV_pythia8.root']\n",
      "Opening file:  trees/MaxDigis_tree_HTo2LongLivedTo4b_MH-125_MFF-25_CTau-1500mm_TuneCP5_14TeV_pythia8.root\n",
      "Opening file:  trees/MaxDigis_tree_HTo2LongLivedTo4b_MH-125_MFF-12_CTau-9000mm_TuneCP5_14TeV_pythia8.root\n",
      "Opening file:  trees/MaxDigis_tree_HTo2LongLivedTo4b_MH-125_MFF-12_CTau-900mm_TuneCP5_14TeV_pythia8.root\n",
      "Opening file:  trees/MaxDigis_tree_HTo2LongLivedTo4b_MH-125_MFF-50_CTau-30000mm_TuneCP5_14TeV_pythia8.root\n",
      "Opening file:  trees/MaxDigis_tree_HTo2LongLivedTo4b_MH-125_MFF-50_CTau-3000mm_TuneCP5_14TeV_pythia8.root\n",
      "Opening file:  ['trees/MaxDigis_tree_Data.root']\n"
     ]
    }
   ],
   "source": [
    "input_bkg = [#'trees/MaxDigis_tree_Neutrino_gun.root',\n",
    "             'trees/MaxDigis_tree_Data.root',\n",
    "            ]\n",
    "first_sig = ['trees/MaxDigis_tree_HTo2LongLivedTo4b_MH-125_MFF-25_CTau-15000mm_TuneCP5_14TeV_pythia8.root']\n",
    "input_sig = ['trees/MaxDigis_tree_HTo2LongLivedTo4b_MH-125_MFF-25_CTau-1500mm_TuneCP5_14TeV_pythia8.root',\n",
    "             #'trees/MaxDigis_tree_HTo2LongLivedTo4b_MH-1000_MFF-450_CTau-100000mm_TuneCP5_14TeV_pythia8.root',\n",
    "             #'trees/MaxDigis_tree_HTo2LongLivedTo4b_MH-1000_MFF-450_CTau-10000mm_TuneCP5_14TeV_pythia8.root',\n",
    "             'trees/MaxDigis_tree_HTo2LongLivedTo4b_MH-125_MFF-12_CTau-9000mm_TuneCP5_14TeV_pythia8.root',\n",
    "             'trees/MaxDigis_tree_HTo2LongLivedTo4b_MH-125_MFF-12_CTau-900mm_TuneCP5_14TeV_pythia8.root',\n",
    "             'trees/MaxDigis_tree_HTo2LongLivedTo4b_MH-125_MFF-50_CTau-30000mm_TuneCP5_14TeV_pythia8.root',\n",
    "             'trees/MaxDigis_tree_HTo2LongLivedTo4b_MH-125_MFF-50_CTau-3000mm_TuneCP5_14TeV_pythia8.root',\n",
    "            ]\n",
    "comp_treename = 'comparator'\n",
    "wire_treename = 'wire'\n",
    "\n",
    "comp_vars = [ 'Ev_max_nComp_ME11','Ev_max_nComp_ME12','Ev_max_nComp_ME13','Ev_max_nComp_ME21','Ev_max_nComp_ME22',\n",
    "             'Ev_max_nComp_ME31','Ev_max_nComp_ME32','Ev_max_nComp_ME41','Ev_max_nComp_ME42']\n",
    "wire_vars = [ 'Ev_max_nWire_ME11','Ev_max_nWire_ME12','Ev_max_nWire_ME13','Ev_max_nWire_ME21','Ev_max_nWire_ME22',\n",
    "             'Ev_max_nWire_ME31','Ev_max_nWire_ME32','Ev_max_nWire_ME41','Ev_max_nWire_ME42']\n",
    "\n",
    "#all_vars = [ 'Ev_nComp_ME11','Ev_nComp_ME12']\n",
    "\n",
    "comp_vars = list(set(comp_vars))\n",
    "wire_vars = list(set(wire_vars))\n",
    "\n",
    "arrs_comp_sig = [None]*(len(input_sig)+1)\n",
    "arrs_wire_sig = [None]*(len(input_sig)+1)\n",
    "\n",
    "print \"Opening input files\"\n",
    "\n",
    "print \"Opening file: \", first_sig\n",
    "arrs_comp_sig[0] = uproot.open(first_sig[0])[comp_treename]\n",
    "arrs_wire_sig[0] = uproot.open(first_sig[0])[wire_treename]\n",
    "comp_sig = arrs_comp_sig[0].pandas.df(comp_vars)\n",
    "wire_sig = arrs_wire_sig[0].pandas.df(wire_vars)\n",
    "\n",
    "j=1\n",
    "for i in (input_sig):\n",
    "    print \"Opening file: \", i\n",
    "    arrs_comp_sig[j] = uproot.open(i)[comp_treename]\n",
    "    arrs_wire_sig[j] = uproot.open(i)[wire_treename]\n",
    "    temp_comp_sig = arrs_comp_sig[j].pandas.df(comp_vars)\n",
    "    temp_wire_sig = arrs_wire_sig[j].pandas.df(wire_vars)\n",
    "    comp_sig = comp_sig.append(temp_comp_sig)\n",
    "    wire_sig = wire_sig.append(temp_wire_sig)\n",
    "    j=j+1\n",
    "\n",
    "\n",
    "print \"Opening file: \", input_bkg\n",
    "arrs_comp_bkg = uproot.open(input_bkg[0])[comp_treename]\n",
    "arrs_wire_bkg = uproot.open(input_bkg[0])[wire_treename]\n",
    "comp_bkg = arrs_comp_bkg.pandas.df(comp_vars)\n",
    "wire_bkg = arrs_wire_bkg.pandas.df(wire_vars)"
   ]
  },
  {
   "cell_type": "markdown",
   "metadata": {},
   "source": [
    "# Single Limit"
   ]
  },
  {
   "cell_type": "code",
   "execution_count": 3,
   "metadata": {},
   "outputs": [],
   "source": [
    "# efficiency=[0]\n",
    "# comp_sig_tot = len(comp_sig)\n",
    "# rate=[0]\n",
    "# comp_bkg_tot = len(comp_bkg)\n",
    "\n",
    "# min_=30\n",
    "# max_=60\n",
    "# it=5\n",
    "\n",
    "# for comp11 in tqdm(xrange(min_,max_,it)):\n",
    "#   for comp12 in xrange(min_,max_,it):\n",
    "#     for comp13 in xrange(min_,max_,it):\n",
    "#       for comp21 in xrange(min_,max_,it):\n",
    "#         for comp22 in xrange(min_,max_,it):\n",
    "#           for comp31 in xrange(min_,max_,it):\n",
    "#             for comp32 in xrange(min_,max_,it):\n",
    "#               for comp41 in xrange(min_,max_,it):\n",
    "#                 for comp42 in xrange(min_,max_,it):\n",
    "\n",
    "#                   efficiency.append(len(comp_sig[(comp_sig['Ev_max_nComp_ME11'] > comp11) | (comp_sig['Ev_max_nComp_ME12'] > comp12) | (comp_sig['Ev_max_nComp_ME13'] > comp13) |\n",
    "#                                                  (comp_sig['Ev_max_nComp_ME21'] > comp21) | (comp_sig['Ev_max_nComp_ME22'] > comp22) |\n",
    "#                                                  (comp_sig['Ev_max_nComp_ME31'] > comp31) | (comp_sig['Ev_max_nComp_ME32'] > comp32) |\n",
    "#                                                  (comp_sig['Ev_max_nComp_ME41'] > comp41) | (comp_sig['Ev_max_nComp_ME41'] > comp42)])/comp_sig_tot*100)\n",
    "                \n",
    "#                   rate.append(len(comp_bkg[(comp_bkg['Ev_max_nComp_ME11'] > comp11) | (comp_bkg['Ev_max_nComp_ME12'] > comp12) | (comp_bkg['Ev_max_nComp_ME13'] > comp13) |\n",
    "#                                            (comp_bkg['Ev_max_nComp_ME21'] > comp21) | (comp_bkg['Ev_max_nComp_ME22'] > comp22) |\n",
    "#                                            (comp_bkg['Ev_max_nComp_ME31'] > comp31) | (comp_bkg['Ev_max_nComp_ME32'] > comp32) |\n",
    "#                                            (comp_bkg['Ev_max_nComp_ME41'] > comp41) | (comp_bkg['Ev_max_nComp_ME41'] > comp42)])/comp_bkg_tot*30*1000)"
   ]
  },
  {
   "cell_type": "code",
   "execution_count": 4,
   "metadata": {},
   "outputs": [],
   "source": [
    "# comp_efficiency=[0]\n",
    "# comp_sig_tot = len(comp_sig)\n",
    "# comp_rate=[0]\n",
    "# comp_bkg_tot = len(comp_bkg)\n",
    "# comp_limits=[0]\n",
    "\n",
    "# min_=0\n",
    "# max_=120\n",
    "# it_=1\n",
    "\n",
    "# for limit in tqdm(xrange(min_,max_,it_)):\n",
    "#     comp_efficiency.append(len(comp_sig[#(comp_sig['Ev_max_nComp_ME11'] > limit) | (comp_sig['Ev_max_nComp_ME12'] > limit) | (comp_sig['Ev_max_nComp_ME13'] > limit) |\n",
    "#                                         (comp_sig['Ev_max_nComp_ME21'] > limit) | (comp_sig['Ev_max_nComp_ME22'] > limit) |\n",
    "#                                         (comp_sig['Ev_max_nComp_ME31'] > limit) | (comp_sig['Ev_max_nComp_ME32'] > limit) |\n",
    "#                                         (comp_sig['Ev_max_nComp_ME41'] > limit) | (comp_sig['Ev_max_nComp_ME41'] > limit)])/comp_sig_tot*100)\n",
    "    \n",
    "#     comp_rate.append(len(comp_bkg[#(comp_bkg['Ev_max_nComp_ME11'] > limit) | (comp_bkg['Ev_max_nComp_ME12'] > limit) | (comp_bkg['Ev_max_nComp_ME13'] > limit) |\n",
    "#                                   (comp_bkg['Ev_max_nComp_ME21'] > limit) | (comp_bkg['Ev_max_nComp_ME22'] > limit) |\n",
    "#                                   (comp_bkg['Ev_max_nComp_ME31'] > limit) | (comp_bkg['Ev_max_nComp_ME32'] > limit) |\n",
    "#                                   (comp_bkg['Ev_max_nComp_ME41'] > limit) | (comp_bkg['Ev_max_nComp_ME41'] > limit)])/comp_bkg_tot*30*1000)\n",
    "    \n",
    "#     comp_limits.append(limit)"
   ]
  },
  {
   "cell_type": "code",
   "execution_count": 5,
   "metadata": {},
   "outputs": [],
   "source": [
    "# plt.plot(comp_rate,comp_efficiency,'bo')\n",
    "# plt.xlim(0,1)\n",
    "# plt.ylim(0,40)\n",
    "# plt.xlabel('Rate (kHz)')\n",
    "# plt.ylabel('Efficiency (%)')\n",
    "# plt.title('Comparator ROC Curve')"
   ]
  },
  {
   "cell_type": "code",
   "execution_count": 6,
   "metadata": {},
   "outputs": [],
   "source": [
    "# for i in range(len(comp_rate)):\n",
    "#     if comp_rate[i] > 0.4 and comp_rate[i] < 1:\n",
    "#         print 'rate =', comp_rate[i], 'kHz and efficiency =', comp_efficiency[i], '% for threshold >', comp_limits[i]"
   ]
  },
  {
   "cell_type": "code",
   "execution_count": 7,
   "metadata": {},
   "outputs": [],
   "source": [
    "# wire_efficiency=[0]\n",
    "# wire_sig_tot = len(wire_sig)\n",
    "# wire_rate=[0]\n",
    "# wire_bkg_tot = len(wire_bkg)\n",
    "# wire_limits=[0]\n",
    "\n",
    "# min_=0\n",
    "# max_=120\n",
    "# it_=1\n",
    "\n",
    "# for limit in tqdm(xrange(min_,max_,it_)):\n",
    "#     wire_efficiency.append(len(wire_sig[#(wire_sig['Ev_max_nWire_ME11'] > limit) | (wire_sig['Ev_max_nWire_ME12'] > limit) | (wire_sig['Ev_max_nWire_ME13'] > limit) |\n",
    "#                                         (wire_sig['Ev_max_nWire_ME21'] > limit) | (wire_sig['Ev_max_nWire_ME22'] > limit) |\n",
    "#                                         (wire_sig['Ev_max_nWire_ME31'] > limit) | (wire_sig['Ev_max_nWire_ME32'] > limit) |\n",
    "#                                         (wire_sig['Ev_max_nWire_ME41'] > limit) | (wire_sig['Ev_max_nWire_ME41'] > limit)])/wire_sig_tot*100)\n",
    "    \n",
    "#     wire_rate.append(len(wire_bkg[#(wire_bkg['Ev_max_nWire_ME11'] > limit) | (wire_bkg['Ev_max_nWire_ME12'] > limit) | (wire_bkg['Ev_max_nWire_ME13'] > limit) |\n",
    "#                                   (wire_bkg['Ev_max_nWire_ME21'] > limit) | (wire_bkg['Ev_max_nWire_ME22'] > limit) |\n",
    "#                                   (wire_bkg['Ev_max_nWire_ME31'] > limit) | (wire_bkg['Ev_max_nWire_ME32'] > limit) |\n",
    "#                                   (wire_bkg['Ev_max_nWire_ME41'] > limit) | (wire_bkg['Ev_max_nWire_ME41'] > limit)])/wire_bkg_tot*30*1000)\n",
    "    \n",
    "#     wire_limits.append(limit)"
   ]
  },
  {
   "cell_type": "code",
   "execution_count": 8,
   "metadata": {},
   "outputs": [],
   "source": [
    "# plt.plot(wire_rate,wire_efficiency,'bo')\n",
    "# plt.xlim(0,1)\n",
    "# plt.ylim(0,40)\n",
    "# plt.xlabel('Rate (kHz)')\n",
    "# plt.ylabel('Efficiency (%)')\n",
    "# plt.title('Wire ROC Curve')"
   ]
  },
  {
   "cell_type": "code",
   "execution_count": 9,
   "metadata": {},
   "outputs": [],
   "source": [
    "# for i in range(len(wire_rate)):\n",
    "#     if wire_rate[i] > 0.4 and wire_rate[i] < 1.0:\n",
    "#         print 'rate =', wire_rate[i], 'kHz and efficiency =', wire_efficiency[i], '% for threshold >', wire_limits[i]"
   ]
  },
  {
   "cell_type": "markdown",
   "metadata": {},
   "source": [
    "# Declare General Variables"
   ]
  },
  {
   "cell_type": "code",
   "execution_count": 10,
   "metadata": {},
   "outputs": [],
   "source": [
    "min_=0\n",
    "max_=150\n",
    "it_=1\n",
    "\n",
    "r1=2\n",
    "r2=3\n",
    "\n",
    "l1=.12\n",
    "l2=.2"
   ]
  },
  {
   "cell_type": "markdown",
   "metadata": {},
   "source": [
    "# Comparator"
   ]
  },
  {
   "cell_type": "code",
   "execution_count": 11,
   "metadata": {},
   "outputs": [
    {
     "name": "stderr",
     "output_type": "stream",
     "text": [
      "100%|██████████| 150/150 [00:02<00:00, 64.45it/s]\n"
     ]
    },
    {
     "name": "stdout",
     "output_type": "stream",
     "text": [
      "Best threshold > 97\n",
      "rate = 0.0193391241117 kHz and efficiency = 0.0315656565657 % for threshold > 97\n"
     ]
    },
    {
     "data": {
      "image/png": "[encoded data removed]",
      "text/plain": [
       "<Figure size 432x288 with 1 Axes>"
      ]
     },
     "metadata": {
      "needs_background": "light"
     },
     "output_type": "display_data"
    }
   ],
   "source": [
    "comp_efficiency=[0]\n",
    "comp_sig_tot = len(comp_sig)\n",
    "comp_rate=[0]\n",
    "comp_bkg_tot = len(comp_bkg)\n",
    "comp_limits=[0]\n",
    "best = 0.0\n",
    "best_cut = 150\n",
    "\n",
    "for limit in tqdm(xrange(min_,max_,it_)):\n",
    "    comp_efficiency.append(len(comp_sig[(comp_sig['Ev_max_nComp_ME11'] > limit)])/comp_sig_tot*100)\n",
    "    \n",
    "    comp_rate.append(len(comp_bkg[(comp_bkg['Ev_max_nComp_ME11'] > limit)])/comp_bkg_tot*30*1000)\n",
    "    \n",
    "    comp_limits.append(limit)\n",
    "    \n",
    "plt.plot(comp_rate,comp_efficiency,'bo')\n",
    "plt.xlim(0,.02)\n",
    "plt.ylim(0,.2)\n",
    "plt.xlabel('Rate (kHz)')\n",
    "plt.ylabel('Efficiency (%)')\n",
    "plt.title('Comparator ROC Curve for ME11')\n",
    "\n",
    "for i in range(len(comp_rate)):\n",
    "    if comp_rate[i] > 0 and comp_rate[i] < 0.02:\n",
    "    #if comp_rate[i] > 0:\n",
    "        #print 'rate =', comp_rate[i], 'kHz and efficiency =', comp_efficiency[i], '% for threshold >', comp_limits[i]\n",
    "        if np.power(comp_efficiency[i],r1)/np.sqrt(comp_rate[i]) > best:\n",
    "            best = np.power(comp_efficiency[i],r1)/np.sqrt(comp_rate[i])\n",
    "            best_cut = comp_limits[i]\n",
    "        \n",
    "print \"Best threshold > %i\" %(best_cut)\n",
    "print 'rate =', comp_rate[best_cut+1], 'kHz and efficiency =', comp_efficiency[best_cut+1], '% for threshold >', comp_limits[best_cut+1]\n",
    "comp11 = best_cut"
   ]
  },
  {
   "cell_type": "code",
   "execution_count": 12,
   "metadata": {},
   "outputs": [
    {
     "name": "stderr",
     "output_type": "stream",
     "text": [
      "100%|██████████| 150/150 [00:00<00:00, 168.60it/s]\n"
     ]
    },
    {
     "name": "stdout",
     "output_type": "stream",
     "text": [
      "Best threshold > 56\n",
      "rate = 0.193391241117 kHz and efficiency = 4.09169823232 % for threshold > 56\n"
     ]
    },
    {
     "data": {
      "image/png": "[encoded data removed]",
      "text/plain": [
       "<Figure size 432x288 with 1 Axes>"
      ]
     },
     "metadata": {
      "needs_background": "light"
     },
     "output_type": "display_data"
    }
   ],
   "source": [
    "comp_efficiency=[0]\n",
    "comp_sig_tot = len(comp_sig)\n",
    "comp_rate=[0]\n",
    "comp_bkg_tot = len(comp_bkg)\n",
    "comp_limits=[0]\n",
    "best = 0.0\n",
    "best_cut = 150\n",
    "\n",
    "for limit in tqdm(xrange(min_,max_,it_)):\n",
    "    comp_efficiency.append(len(comp_sig[(comp_sig['Ev_max_nComp_ME12'] > limit)])/comp_sig_tot*100)\n",
    "    \n",
    "    comp_rate.append(len(comp_bkg[(comp_bkg['Ev_max_nComp_ME12'] > limit)])/comp_bkg_tot*30*1000)\n",
    "    \n",
    "    comp_limits.append(limit)\n",
    "    \n",
    "plt.plot(comp_rate,comp_efficiency,'bo')\n",
    "plt.xlim(0,l2)\n",
    "plt.ylim(0,5)\n",
    "plt.xlabel('Rate (kHz)')\n",
    "plt.ylabel('Efficiency (%)')\n",
    "plt.title('Comparator ROC Curve for ME12')\n",
    "\n",
    "for i in range(len(comp_rate)):\n",
    "    if comp_rate[i] > 0.02 and comp_rate[i] < l2:\n",
    "    #if comp_rate[i] > 0:\n",
    "        #print 'rate =', comp_rate[i], 'kHz and efficiency =', comp_efficiency[i], '% for threshold >', comp_limits[i]\n",
    "        if np.power(comp_efficiency[i],r2)/np.sqrt(comp_rate[i]) > best:\n",
    "            best = np.power(comp_efficiency[i],r2)/np.sqrt(comp_rate[i])\n",
    "            best_cut = comp_limits[i]\n",
    "        \n",
    "print \"Best threshold > %i\" %(best_cut)\n",
    "print 'rate =', comp_rate[best_cut+1], 'kHz and efficiency =', comp_efficiency[best_cut+1], '% for threshold >', comp_limits[best_cut+1]\n",
    "comp12 = best_cut"
   ]
  },
  {
   "cell_type": "code",
   "execution_count": 13,
   "metadata": {},
   "outputs": [
    {
     "name": "stderr",
     "output_type": "stream",
     "text": [
      "100%|██████████| 150/150 [00:00<00:00, 238.96it/s]\n"
     ]
    },
    {
     "name": "stdout",
     "output_type": "stream",
     "text": [
      "Best threshold > 24\n",
      "rate = 0.135373868782 kHz and efficiency = 3.75631313131 % for threshold > 24\n"
     ]
    },
    {
     "data": {
      "image/png": "[encoded data removed]",
      "text/plain": [
       "<Figure size 432x288 with 1 Axes>"
      ]
     },
     "metadata": {
      "needs_background": "light"
     },
     "output_type": "display_data"
    }
   ],
   "source": [
    "comp_efficiency=[0]\n",
    "comp_sig_tot = len(comp_sig)\n",
    "comp_rate=[0]\n",
    "comp_bkg_tot = len(comp_bkg)\n",
    "comp_limits=[0]\n",
    "best = 0.0\n",
    "best_cut = 150\n",
    "\n",
    "for limit in tqdm(xrange(min_,max_,it_)):\n",
    "    comp_efficiency.append(len(comp_sig[(comp_sig['Ev_max_nComp_ME13'] > limit)])/comp_sig_tot*100)\n",
    "    \n",
    "    comp_rate.append(len(comp_bkg[(comp_bkg['Ev_max_nComp_ME13'] > limit)])/comp_bkg_tot*30*1000)\n",
    "    \n",
    "    comp_limits.append(limit)\n",
    "    \n",
    "plt.plot(comp_rate,comp_efficiency,'bo')\n",
    "plt.xlim(0,l2)\n",
    "plt.ylim(0,5)\n",
    "plt.xlabel('Rate (kHz)')\n",
    "plt.ylabel('Efficiency (%)')\n",
    "plt.title('Comparator ROC Curve for ME13')\n",
    "\n",
    "for i in range(len(comp_rate)):\n",
    "    if comp_rate[i] > 0.02 and comp_rate[i] < l2:\n",
    "    #if comp_rate[i] > 0:\n",
    "        #print 'rate =', comp_rate[i], 'kHz and efficiency =', comp_efficiency[i], '% for threshold >', comp_limits[i]\n",
    "        if np.power(comp_efficiency[i],r2)/np.sqrt(comp_rate[i]) > best:\n",
    "            best = np.power(comp_efficiency[i],r2)/np.sqrt(comp_rate[i])\n",
    "            best_cut = comp_limits[i]\n",
    "        \n",
    "print \"Best threshold > %i\" %(best_cut)\n",
    "print 'rate =', comp_rate[best_cut+1], 'kHz and efficiency =', comp_efficiency[best_cut+1], '% for threshold >', comp_limits[best_cut+1]\n",
    "comp13 = best_cut"
   ]
  },
  {
   "cell_type": "code",
   "execution_count": 14,
   "metadata": {},
   "outputs": [
    {
     "name": "stderr",
     "output_type": "stream",
     "text": [
      "100%|██████████| 150/150 [00:01<00:00, 96.21it/s]\n"
     ]
    },
    {
     "name": "stdout",
     "output_type": "stream",
     "text": [
      "Best threshold > 49\n",
      "rate = 0.0386782482235 kHz and efficiency = 3.20391414141 % for threshold > 49\n"
     ]
    },
    {
     "data": {
      "image/png": "[encoded data removed]",
      "text/plain": [
       "<Figure size 432x288 with 1 Axes>"
      ]
     },
     "metadata": {
      "needs_background": "light"
     },
     "output_type": "display_data"
    }
   ],
   "source": [
    "comp_efficiency=[0]\n",
    "comp_sig_tot = len(comp_sig)\n",
    "comp_rate=[0]\n",
    "comp_bkg_tot = len(comp_bkg)\n",
    "comp_limits=[0]\n",
    "best = 0.0\n",
    "best_cut = 150\n",
    "\n",
    "for limit in tqdm(xrange(min_,max_,it_)):\n",
    "    comp_efficiency.append(len(comp_sig[(comp_sig['Ev_max_nComp_ME21'] > limit)])/comp_sig_tot*100)\n",
    "    \n",
    "    comp_rate.append(len(comp_bkg[(comp_bkg['Ev_max_nComp_ME21'] > limit)])/comp_bkg_tot*30*1000)\n",
    "    \n",
    "    comp_limits.append(limit)\n",
    "    \n",
    "plt.plot(comp_rate,comp_efficiency,'bo')\n",
    "plt.xlim(0,l1)\n",
    "plt.ylim(0,5)\n",
    "plt.xlabel('Rate (kHz)')\n",
    "plt.ylabel('Efficiency (%)')\n",
    "plt.title('Comparator ROC Curve for ME21')\n",
    "\n",
    "for i in range(len(comp_rate)):\n",
    "    if comp_rate[i] > 0.02 and comp_rate[i] < l1:\n",
    "    #if comp_rate[i] > 0:\n",
    "        #print 'rate =', comp_rate[i], 'kHz and efficiency =', comp_efficiency[i], '% for threshold >', comp_limits[i]\n",
    "        if np.power(comp_efficiency[i],r1)/np.sqrt(comp_rate[i]) > best:\n",
    "            best = np.power(comp_efficiency[i],r1)/np.sqrt(comp_rate[i])\n",
    "            best_cut = comp_limits[i]\n",
    "        \n",
    "print \"Best threshold > %i\" %(best_cut)\n",
    "print 'rate =', comp_rate[best_cut+1], 'kHz and efficiency =', comp_efficiency[best_cut+1], '% for threshold >', comp_limits[best_cut+1]\n",
    "comp21 = best_cut"
   ]
  },
  {
   "cell_type": "code",
   "execution_count": 15,
   "metadata": {},
   "outputs": [
    {
     "name": "stderr",
     "output_type": "stream",
     "text": [
      "100%|██████████| 150/150 [00:00<00:00, 192.76it/s]\n"
     ]
    },
    {
     "name": "stdout",
     "output_type": "stream",
     "text": [
      "Best threshold > 35\n",
      "rate = 0.183721679061 kHz and efficiency = 6.72743055556 % for threshold > 35\n"
     ]
    },
    {
     "data": {
      "image/png": "[encoded data removed]",
      "text/plain": [
       "<Figure size 432x288 with 1 Axes>"
      ]
     },
     "metadata": {
      "needs_background": "light"
     },
     "output_type": "display_data"
    }
   ],
   "source": [
    "comp_efficiency=[0]\n",
    "comp_sig_tot = len(comp_sig)\n",
    "comp_rate=[0]\n",
    "comp_bkg_tot = len(comp_bkg)\n",
    "comp_limits=[0]\n",
    "best = 0.0\n",
    "best_cut = 150\n",
    "\n",
    "for limit in tqdm(xrange(min_,max_,it_)):\n",
    "    comp_efficiency.append(len(comp_sig[(comp_sig['Ev_max_nComp_ME22'] > limit)])/comp_sig_tot*100)\n",
    "    \n",
    "    comp_rate.append(len(comp_bkg[(comp_bkg['Ev_max_nComp_ME22'] > limit)])/comp_bkg_tot*30*1000)\n",
    "    \n",
    "    comp_limits.append(limit)\n",
    "    \n",
    "plt.plot(comp_rate,comp_efficiency,'bo')\n",
    "plt.xlim(0,l2)\n",
    "plt.ylim(0,10)\n",
    "plt.xlabel('Rate (kHz)')\n",
    "plt.ylabel('Efficiency (%)')\n",
    "plt.title('Comparator ROC Curve for ME22')\n",
    "\n",
    "for i in range(len(comp_rate)):\n",
    "    if comp_rate[i] > 0.02 and comp_rate[i] < l2:\n",
    "    #if comp_rate[i] > 0:\n",
    "        #print 'rate =', comp_rate[i], 'kHz and efficiency =', comp_efficiency[i], '% for threshold >', comp_limits[i]\n",
    "        if np.power(comp_efficiency[i],r2)/np.sqrt(comp_rate[i]) > best:\n",
    "            best = np.power(comp_efficiency[i],r2)/np.sqrt(comp_rate[i])\n",
    "            best_cut = comp_limits[i]\n",
    "        \n",
    "print \"Best threshold > %i\" %(best_cut)\n",
    "print 'rate =', comp_rate[best_cut+1], 'kHz and efficiency =', comp_efficiency[best_cut+1], '% for threshold >', comp_limits[best_cut+1]\n",
    "comp22 = best_cut"
   ]
  },
  {
   "cell_type": "code",
   "execution_count": 16,
   "metadata": {},
   "outputs": [
    {
     "name": "stderr",
     "output_type": "stream",
     "text": [
      "100%|██████████| 150/150 [00:01<00:00, 131.39it/s]\n"
     ]
    },
    {
     "name": "stdout",
     "output_type": "stream",
     "text": [
      "Best threshold > 42\n",
      "rate = 0.0966956205586 kHz and efficiency = 3.73658459596 % for threshold > 42\n"
     ]
    },
    {
     "data": {
      "image/png": "[encoded data removed]",
      "text/plain": [
       "<Figure size 432x288 with 1 Axes>"
      ]
     },
     "metadata": {
      "needs_background": "light"
     },
     "output_type": "display_data"
    }
   ],
   "source": [
    "comp_efficiency=[0]\n",
    "comp_sig_tot = len(comp_sig)\n",
    "comp_rate=[0]\n",
    "comp_bkg_tot = len(comp_bkg)\n",
    "comp_limits=[0]\n",
    "best = 0.0\n",
    "best_cut = 150\n",
    "\n",
    "for limit in tqdm(xrange(min_,max_,it_)):\n",
    "    comp_efficiency.append(len(comp_sig[(comp_sig['Ev_max_nComp_ME31'] > limit)])/comp_sig_tot*100)\n",
    "    \n",
    "    comp_rate.append(len(comp_bkg[(comp_bkg['Ev_max_nComp_ME31'] > limit)])/comp_bkg_tot*30*1000)\n",
    "    \n",
    "    comp_limits.append(limit)\n",
    "    \n",
    "plt.plot(comp_rate,comp_efficiency,'bo')\n",
    "plt.xlim(0,l1)\n",
    "plt.ylim(0,5)\n",
    "plt.xlabel('Rate (kHz)')\n",
    "plt.ylabel('Efficiency (%)')\n",
    "plt.title('Comparator ROC Curve for ME31')\n",
    "\n",
    "for i in range(len(comp_rate)):\n",
    "    if comp_rate[i] > 0.02 and comp_rate[i] < l1:\n",
    "    #if comp_rate[i] > 0:\n",
    "        #print 'rate =', comp_rate[i], 'kHz and efficiency =', comp_efficiency[i], '% for threshold >', comp_limits[i]\n",
    "        if np.power(comp_efficiency[i],r1)/np.sqrt(comp_rate[i]) > best:\n",
    "            best = np.power(comp_efficiency[i],r1)/np.sqrt(comp_rate[i])\n",
    "            best_cut = comp_limits[i]\n",
    "        \n",
    "print \"Best threshold > %i\" %(best_cut)\n",
    "print 'rate =', comp_rate[best_cut+1], 'kHz and efficiency =', comp_efficiency[best_cut+1], '% for threshold >', comp_limits[best_cut+1]\n",
    "comp31 = best_cut"
   ]
  },
  {
   "cell_type": "code",
   "execution_count": 17,
   "metadata": {},
   "outputs": [
    {
     "name": "stderr",
     "output_type": "stream",
     "text": [
      "100%|██████████| 150/150 [00:00<00:00, 222.66it/s]\n"
     ]
    },
    {
     "name": "stdout",
     "output_type": "stream",
     "text": [
      "Best threshold > 28\n",
      "rate = 0.154712992894 kHz and efficiency = 6.26183712121 % for threshold > 28\n"
     ]
    },
    {
     "data": {
      "image/png": "[encoded data removed]",
      "text/plain": [
       "<Figure size 432x288 with 1 Axes>"
      ]
     },
     "metadata": {
      "needs_background": "light"
     },
     "output_type": "display_data"
    }
   ],
   "source": [
    "comp_efficiency=[0]\n",
    "comp_sig_tot = len(comp_sig)\n",
    "comp_rate=[0]\n",
    "comp_bkg_tot = len(comp_bkg)\n",
    "comp_limits=[0]\n",
    "best = 0.0\n",
    "best_cut = 150\n",
    "\n",
    "for limit in tqdm(xrange(min_,max_,it_)):\n",
    "    comp_efficiency.append(len(comp_sig[(comp_sig['Ev_max_nComp_ME32'] > limit)])/comp_sig_tot*100)\n",
    "    \n",
    "    comp_rate.append(len(comp_bkg[(comp_bkg['Ev_max_nComp_ME32'] > limit)])/comp_bkg_tot*30*1000)\n",
    "    \n",
    "    comp_limits.append(limit)\n",
    "    \n",
    "plt.plot(comp_rate,comp_efficiency,'bo')\n",
    "plt.xlim(0,l2)\n",
    "plt.ylim(0,10)\n",
    "plt.xlabel('Rate (kHz)')\n",
    "plt.ylabel('Efficiency (%)')\n",
    "plt.title('Comparator ROC Curve for ME32')\n",
    "\n",
    "for i in range(len(comp_rate)):\n",
    "    if comp_rate[i] > 0.02 and comp_rate[i] < l2:\n",
    "    #if comp_rate[i] > 0:\n",
    "        #print 'rate =', comp_rate[i], 'kHz and efficiency =', comp_efficiency[i], '% for threshold >', comp_limits[i]\n",
    "        if np.power(comp_efficiency[i],r2)/np.sqrt(comp_rate[i]) > best:\n",
    "            best = np.power(comp_efficiency[i],r2)/np.sqrt(comp_rate[i])\n",
    "            best_cut = comp_limits[i]\n",
    "        \n",
    "print \"Best threshold > %i\" %(best_cut)\n",
    "print 'rate =', comp_rate[best_cut+1], 'kHz and efficiency =', comp_efficiency[best_cut+1], '% for threshold >', comp_limits[best_cut+1]\n",
    "comp32 = best_cut"
   ]
  },
  {
   "cell_type": "code",
   "execution_count": 18,
   "metadata": {},
   "outputs": [
    {
     "name": "stderr",
     "output_type": "stream",
     "text": [
      "100%|██████████| 150/150 [00:01<00:00, 135.57it/s]\n"
     ]
    },
    {
     "name": "stdout",
     "output_type": "stream",
     "text": [
      "Best threshold > 42\n",
      "rate = 0.0773564964469 kHz and efficiency = 5.10969065657 % for threshold > 42\n"
     ]
    },
    {
     "data": {
      "image/png": "[encoded data removed]",
      "text/plain": [
       "<Figure size 432x288 with 1 Axes>"
      ]
     },
     "metadata": {
      "needs_background": "light"
     },
     "output_type": "display_data"
    }
   ],
   "source": [
    "comp_efficiency=[0]\n",
    "comp_sig_tot = len(comp_sig)\n",
    "comp_rate=[0]\n",
    "comp_bkg_tot = len(comp_bkg)\n",
    "comp_limits=[0]\n",
    "best = 0.0\n",
    "best_cut = 150\n",
    "\n",
    "for limit in tqdm(xrange(min_,max_,it_)):\n",
    "    comp_efficiency.append(len(comp_sig[(comp_sig['Ev_max_nComp_ME41'] > limit)])/comp_sig_tot*100)\n",
    "    \n",
    "    comp_rate.append(len(comp_bkg[(comp_bkg['Ev_max_nComp_ME41'] > limit)])/comp_bkg_tot*30*1000)\n",
    "    \n",
    "    comp_limits.append(limit)\n",
    "    \n",
    "plt.plot(comp_rate,comp_efficiency,'bo')\n",
    "plt.xlim(0,l1)\n",
    "plt.ylim(0,10)\n",
    "plt.xlabel('Rate (kHz)')\n",
    "plt.ylabel('Efficiency (%)')\n",
    "plt.title('Comparator ROC Curve for ME41')\n",
    "\n",
    "for i in range(len(comp_rate)):\n",
    "    if comp_rate[i] > 0.02 and comp_rate[i] < l1:\n",
    "    #if comp_rate[i] > 0:\n",
    "        #print 'rate =', comp_rate[i], 'kHz and efficiency =', comp_efficiency[i], '% for threshold >', comp_limits[i]\n",
    "        if np.power(comp_efficiency[i],r1)/np.sqrt(comp_rate[i]) > best:\n",
    "            best = np.power(comp_efficiency[i],r1)/np.sqrt(comp_rate[i])\n",
    "            best_cut = comp_limits[i]\n",
    "        \n",
    "print \"Best threshold > %i\" %(best_cut)\n",
    "print 'rate =', comp_rate[best_cut+1], 'kHz and efficiency =', comp_efficiency[best_cut+1], '% for threshold >', comp_limits[best_cut+1]\n",
    "comp41 = best_cut"
   ]
  },
  {
   "cell_type": "code",
   "execution_count": 19,
   "metadata": {},
   "outputs": [
    {
     "name": "stderr",
     "output_type": "stream",
     "text": [
      "100%|██████████| 150/150 [00:00<00:00, 176.69it/s]\n"
     ]
    },
    {
     "name": "stdout",
     "output_type": "stream",
     "text": [
      "Best threshold > 31\n",
      "rate = 0.0773564964469 kHz and efficiency = 8.70817550505 % for threshold > 31\n"
     ]
    },
    {
     "data": {
      "image/png": "[encoded data removed]",
      "text/plain": [
       "<Figure size 432x288 with 1 Axes>"
      ]
     },
     "metadata": {
      "needs_background": "light"
     },
     "output_type": "display_data"
    }
   ],
   "source": [
    "comp_efficiency=[0]\n",
    "comp_sig_tot = len(comp_sig)\n",
    "comp_rate=[0]\n",
    "comp_bkg_tot = len(comp_bkg)\n",
    "comp_limits=[0]\n",
    "best = 0.0\n",
    "best_cut = 150\n",
    "\n",
    "for limit in tqdm(xrange(min_,max_,it_)):\n",
    "    comp_efficiency.append(len(comp_sig[(comp_sig['Ev_max_nComp_ME42'] > limit)])/comp_sig_tot*100)\n",
    "    \n",
    "    comp_rate.append(len(comp_bkg[(comp_bkg['Ev_max_nComp_ME42'] > limit)])/comp_bkg_tot*30*1000)\n",
    "    \n",
    "    comp_limits.append(limit)\n",
    "    \n",
    "plt.plot(comp_rate,comp_efficiency,'bo')\n",
    "plt.xlim(0,l2)\n",
    "plt.ylim(0,10)\n",
    "plt.xlabel('Rate (kHz)')\n",
    "plt.ylabel('Efficiency (%)')\n",
    "plt.title('Comparator ROC Curve for ME42')\n",
    "\n",
    "for i in range(len(comp_rate)):\n",
    "    if comp_rate[i] > 0.02 and comp_rate[i] < l2:\n",
    "    #if comp_rate[i] > 0:\n",
    "        #print 'rate =', comp_rate[i], 'kHz and efficiency =', comp_efficiency[i], '% for threshold >', comp_limits[i]\n",
    "        if np.power(comp_efficiency[i],r2)/np.sqrt(comp_rate[i]) > best:\n",
    "            best = np.power(comp_efficiency[i],r2)/np.sqrt(comp_rate[i])\n",
    "            best_cut = comp_limits[i]\n",
    "        \n",
    "print \"Best threshold > %i\" %(best_cut)\n",
    "print 'rate =', comp_rate[best_cut+1], 'kHz and efficiency =', comp_efficiency[best_cut+1], '% for threshold >', comp_limits[best_cut+1]\n",
    "comp42 = best_cut"
   ]
  },
  {
   "cell_type": "code",
   "execution_count": 20,
   "metadata": {},
   "outputs": [
    {
     "name": "stdout",
     "output_type": "stream",
     "text": [
      "rate = 0.976625767642 kHz, efficiency = 31.4038825758 %\n"
     ]
    }
   ],
   "source": [
    "# comp11, comp12, comp13 = 83, 62, 29\n",
    "# comp21, comp22 = 45, 40\n",
    "# comp31, comp32 = 43, 31\n",
    "# comp41, comp42 = 42, 31\n",
    "\n",
    "# comp11, comp12, comp13 = 96, 65, 29\n",
    "# comp21, comp22 = 48, 35\n",
    "# comp31, comp32 = 45, 28\n",
    "# comp41, comp42 = 41, 29\n",
    "\n",
    "efficiency_comp_final = len(comp_sig[(comp_sig['Ev_max_nComp_ME11'] > comp11) | (comp_sig['Ev_max_nComp_ME12'] > comp12) | (comp_sig['Ev_max_nComp_ME13'] > comp13) |\n",
    "                           (comp_sig['Ev_max_nComp_ME21'] > comp21) | (comp_sig['Ev_max_nComp_ME22'] > comp22) |\n",
    "                           (comp_sig['Ev_max_nComp_ME31'] > comp31) | (comp_sig['Ev_max_nComp_ME32'] > comp32) |\n",
    "                           (comp_sig['Ev_max_nComp_ME41'] > comp41) | (comp_sig['Ev_max_nComp_ME41'] > comp42)])/comp_sig_tot*100\n",
    "                \n",
    "rate_comp_final       = len(comp_bkg[(comp_bkg['Ev_max_nComp_ME11'] > comp11) | (comp_bkg['Ev_max_nComp_ME12'] > comp12) | (comp_bkg['Ev_max_nComp_ME13'] > comp13) |\n",
    "                           (comp_bkg['Ev_max_nComp_ME21'] > comp21) | (comp_bkg['Ev_max_nComp_ME22'] > comp22) |\n",
    "                           (comp_bkg['Ev_max_nComp_ME31'] > comp31) | (comp_bkg['Ev_max_nComp_ME32'] > comp32) |\n",
    "                           (comp_bkg['Ev_max_nComp_ME41'] > comp41) | (comp_bkg['Ev_max_nComp_ME42'] > comp42)])/comp_bkg_tot*30*1000\n",
    "\n",
    "print \"rate =\", rate_comp_final, \"kHz, efficiency =\", efficiency_comp_final, \"%\""
   ]
  },
  {
   "cell_type": "markdown",
   "metadata": {},
   "source": [
    "# Wire"
   ]
  },
  {
   "cell_type": "code",
   "execution_count": 21,
   "metadata": {},
   "outputs": [
    {
     "name": "stderr",
     "output_type": "stream",
     "text": [
      "100%|██████████| 150/150 [00:02<00:00, 60.67it/s]\n"
     ]
    },
    {
     "name": "stdout",
     "output_type": "stream",
     "text": [
      "Best threshold > 104\n",
      "rate = 0.0190141420851 kHz and efficiency = 0.0788115222446 % for threshold > 104\n"
     ]
    },
    {
     "data": {
      "image/png": "[encoded data removed]",
      "text/plain": [
       "<Figure size 432x288 with 1 Axes>"
      ]
     },
     "metadata": {
      "needs_background": "light"
     },
     "output_type": "display_data"
    }
   ],
   "source": [
    "wire_efficiency=[0]\n",
    "wire_sig_tot = len(wire_sig)\n",
    "wire_rate=[0]\n",
    "wire_bkg_tot = len(wire_bkg)\n",
    "wire_limits=[0]\n",
    "best = 0.0\n",
    "best_cut = 150\n",
    "\n",
    "for limit in tqdm(xrange(min_,max_,it_)):\n",
    "    wire_efficiency.append(len(wire_sig[(wire_sig['Ev_max_nWire_ME11'] > limit)])/wire_sig_tot*100)\n",
    "    \n",
    "    wire_rate.append(len(wire_bkg[(wire_bkg['Ev_max_nWire_ME11'] > limit)])/wire_bkg_tot*30*1000)\n",
    "    \n",
    "    wire_limits.append(limit)\n",
    "    \n",
    "plt.plot(wire_rate,wire_efficiency,'bo')\n",
    "plt.xlim(0,0.02)\n",
    "plt.ylim(0,1)\n",
    "plt.xlabel('Rate (kHz)')\n",
    "plt.ylabel('Efficiency (%)')\n",
    "plt.title('Wire ROC Curve for ME11')\n",
    "\n",
    "for i in range(len(wire_rate)):\n",
    "    if wire_rate[i] > 0 and wire_rate[i] < 0.02:\n",
    "        #print 'rate =', wire_rate[i], 'kHz and efficiency =', wire_efficiency[i], '% for threshold >', wire_limits[i]\n",
    "        if np.power(wire_efficiency[i],r1)/np.sqrt(wire_rate[i]) > best:\n",
    "            best = np.power(wire_efficiency[i],r1)/np.sqrt(wire_rate[i])\n",
    "            best_cut = wire_limits[i]\n",
    "        \n",
    "print \"Best threshold > %i\" %(best_cut)\n",
    "print 'rate =', wire_rate[best_cut+1], 'kHz and efficiency =', wire_efficiency[best_cut+1], '% for threshold >', wire_limits[best_cut+1]\n",
    "wire11 = best_cut"
   ]
  },
  {
   "cell_type": "code",
   "execution_count": 22,
   "metadata": {},
   "outputs": [
    {
     "name": "stderr",
     "output_type": "stream",
     "text": [
      "100%|██████████| 150/150 [00:00<00:00, 150.64it/s]\n"
     ]
    },
    {
     "name": "stdout",
     "output_type": "stream",
     "text": [
      "Best threshold > 92\n",
      "rate = 0.180634349808 kHz and efficiency = 3.19974780313 % for threshold > 92\n"
     ]
    },
    {
     "data": {
      "image/png": "[encoded data removed]",
      "text/plain": [
       "<Figure size 432x288 with 1 Axes>"
      ]
     },
     "metadata": {
      "needs_background": "light"
     },
     "output_type": "display_data"
    }
   ],
   "source": [
    "wire_efficiency=[0]\n",
    "wire_sig_tot = len(wire_sig)\n",
    "wire_rate=[0]\n",
    "wire_bkg_tot = len(wire_bkg)\n",
    "wire_limits=[0]\n",
    "best=0.0\n",
    "best_cut=150\n",
    "\n",
    "for limit in tqdm(xrange(min_,max_,it_)):\n",
    "    wire_efficiency.append(len(wire_sig[(wire_sig['Ev_max_nWire_ME12'] > limit)])/wire_sig_tot*100)\n",
    "    \n",
    "    wire_rate.append(len(wire_bkg[(wire_bkg['Ev_max_nWire_ME12'] > limit)])/wire_bkg_tot*30*1000)\n",
    "    \n",
    "    wire_limits.append(limit)\n",
    "    \n",
    "plt.plot(wire_rate,wire_efficiency,'bo')\n",
    "plt.xlim(0,l2)\n",
    "plt.ylim(0,5)\n",
    "plt.xlabel('Rate (kHz)')\n",
    "plt.ylabel('Efficiency (%)')\n",
    "plt.title('Wire ROC Curve for ME12')\n",
    "\n",
    "for i in range(len(wire_rate)):\n",
    "    if wire_rate[i] > 0.02 and wire_rate[i] < l2:\n",
    "        #print 'rate =', wire_rate[i], 'kHz and efficiency =', wire_efficiency[i], '% for threshold >', wire_limits[i]\n",
    "        if np.power(wire_efficiency[i],r2)/np.sqrt(wire_rate[i]) > best:\n",
    "            best = np.power(wire_efficiency[i],r2)/np.sqrt(wire_rate[i])\n",
    "            best_cut = wire_limits[i]\n",
    "        \n",
    "print \"Best threshold > %i\" %(best_cut)\n",
    "print 'rate =', wire_rate[best_cut+1], 'kHz and efficiency =', wire_efficiency[best_cut+1], '% for threshold >', wire_limits[best_cut+1]\n",
    "wire12 = best_cut"
   ]
  },
  {
   "cell_type": "code",
   "execution_count": 23,
   "metadata": {},
   "outputs": [
    {
     "name": "stderr",
     "output_type": "stream",
     "text": [
      "100%|██████████| 150/150 [00:00<00:00, 221.19it/s]\n"
     ]
    },
    {
     "name": "stdout",
     "output_type": "stream",
     "text": [
      "Best threshold > 32\n",
      "rate = 0.161620207723 kHz and efficiency = 3.38889545652 % for threshold > 32\n"
     ]
    },
    {
     "data": {
      "image/png": "[encoded data removed]",
      "text/plain": [
       "<Figure size 432x288 with 1 Axes>"
      ]
     },
     "metadata": {
      "needs_background": "light"
     },
     "output_type": "display_data"
    }
   ],
   "source": [
    "wire_efficiency=[0]\n",
    "wire_sig_tot = len(wire_sig)\n",
    "wire_rate=[0]\n",
    "wire_bkg_tot = len(wire_bkg)\n",
    "wire_limits=[0]\n",
    "best=0.0\n",
    "best_cut=150\n",
    "\n",
    "for limit in tqdm(xrange(min_,max_,it_)):\n",
    "    wire_efficiency.append(len(wire_sig[(wire_sig['Ev_max_nWire_ME13'] > limit)])/wire_sig_tot*100)\n",
    "    \n",
    "    wire_rate.append(len(wire_bkg[(wire_bkg['Ev_max_nWire_ME13'] > limit)])/wire_bkg_tot*30*1000)\n",
    "    \n",
    "    wire_limits.append(limit)\n",
    "    \n",
    "plt.plot(wire_rate,wire_efficiency,'bo')\n",
    "plt.xlim(0,l2)\n",
    "plt.ylim(0,5)\n",
    "plt.xlabel('Rate (kHz)')\n",
    "plt.ylabel('Efficiency (%)')\n",
    "plt.title('Wire ROC Curve for ME13')\n",
    "\n",
    "for i in range(len(wire_rate)):\n",
    "    if wire_rate[i] > 0.02 and wire_rate[i] < l2:\n",
    "        #print 'rate =', wire_rate[i], 'kHz and efficiency =', wire_efficiency[i], '% for threshold >', wire_limits[i]\n",
    "        if np.power(wire_efficiency[i],r2)/np.sqrt(wire_rate[i]) > best:\n",
    "            best = np.power(wire_efficiency[i],r2)/np.sqrt(wire_rate[i])\n",
    "            best_cut = wire_limits[i]\n",
    "        \n",
    "print \"Best threshold > %i\" %(best_cut)\n",
    "print 'rate =', wire_rate[best_cut+1], 'kHz and efficiency =', wire_efficiency[best_cut+1], '% for threshold >', wire_limits[best_cut+1]\n",
    "wire13 = best_cut"
   ]
  },
  {
   "cell_type": "code",
   "execution_count": 24,
   "metadata": {},
   "outputs": [
    {
     "name": "stderr",
     "output_type": "stream",
     "text": [
      "100%|██████████| 150/150 [00:01<00:00, 82.56it/s]\n"
     ]
    },
    {
     "name": "stdout",
     "output_type": "stream",
     "text": [
      "Best threshold > 138\n",
      "rate = 0.00950707104254 kHz and efficiency = 1.61563620601 % for threshold > 138\n"
     ]
    },
    {
     "data": {
      "image/png": "[encoded data removed]",
      "text/plain": [
       "<Figure size 432x288 with 1 Axes>"
      ]
     },
     "metadata": {
      "needs_background": "light"
     },
     "output_type": "display_data"
    }
   ],
   "source": [
    "wire_efficiency=[0]\n",
    "wire_sig_tot = len(wire_sig)\n",
    "wire_rate=[0]\n",
    "wire_bkg_tot = len(wire_bkg)\n",
    "wire_limits=[0]\n",
    "best=0.0\n",
    "best_cut=150\n",
    "\n",
    "for limit in tqdm(xrange(min_,max_,it_)):\n",
    "    wire_efficiency.append(len(wire_sig[(wire_sig['Ev_max_nWire_ME21'] > limit)])/wire_sig_tot*100)\n",
    "    \n",
    "    wire_rate.append(len(wire_bkg[(wire_bkg['Ev_max_nWire_ME21'] > limit)])/wire_bkg_tot*30*1000)\n",
    "    \n",
    "    wire_limits.append(limit)\n",
    "    \n",
    "plt.plot(wire_rate,wire_efficiency,'bo')\n",
    "plt.xlim(0,l1)\n",
    "plt.ylim(0,5)\n",
    "plt.xlabel('Rate (kHz)')\n",
    "plt.ylabel('Efficiency (%)')\n",
    "plt.title('Wire ROC Curve for ME21')\n",
    "\n",
    "for i in range(len(wire_rate)):\n",
    "    if wire_rate[i] > 0 and wire_rate[i] < l1:\n",
    "        #print 'rate =', wire_rate[i], 'kHz and efficiency =', wire_efficiency[i], '% for threshold >', wire_limits[i]\n",
    "        if np.power(wire_efficiency[i],r1)/np.sqrt(wire_rate[i]) > best:\n",
    "            best = np.power(wire_efficiency[i],r1)/np.sqrt(wire_rate[i])\n",
    "            best_cut = wire_limits[i]\n",
    "        \n",
    "print \"Best threshold > %i\" %(best_cut)\n",
    "print 'rate =', wire_rate[best_cut+1], 'kHz and efficiency =', wire_efficiency[best_cut+1], '% for threshold >', wire_limits[best_cut+1]\n",
    "wire21 = best_cut"
   ]
  },
  {
   "cell_type": "code",
   "execution_count": 25,
   "metadata": {},
   "outputs": [
    {
     "name": "stderr",
     "output_type": "stream",
     "text": [
      "100%|██████████| 150/150 [00:00<00:00, 179.60it/s]\n"
     ]
    },
    {
     "name": "stdout",
     "output_type": "stream",
     "text": [
      "Best threshold > 83\n",
      "rate = 0.0380282841702 kHz and efficiency = 1.42254797651 % for threshold > 83\n"
     ]
    },
    {
     "data": {
      "image/png": "[encoded data removed]",
      "text/plain": [
       "<Figure size 432x288 with 1 Axes>"
      ]
     },
     "metadata": {
      "needs_background": "light"
     },
     "output_type": "display_data"
    }
   ],
   "source": [
    "wire_efficiency=[0]\n",
    "wire_sig_tot = len(wire_sig)\n",
    "wire_rate=[0]\n",
    "wire_bkg_tot = len(wire_bkg)\n",
    "wire_limits=[0]\n",
    "best=0.0\n",
    "best_cut=150\n",
    "\n",
    "for limit in tqdm(xrange(min_,max_,it_)):\n",
    "    wire_efficiency.append(len(wire_sig[(wire_sig['Ev_max_nWire_ME22'] > limit)])/wire_sig_tot*100)\n",
    "    \n",
    "    wire_rate.append(len(wire_bkg[(wire_bkg['Ev_max_nWire_ME22'] > limit)])/wire_bkg_tot*30*1000)\n",
    "    \n",
    "    wire_limits.append(limit)\n",
    "    \n",
    "plt.plot(wire_rate,wire_efficiency,'bo')\n",
    "plt.xlim(0,l2)\n",
    "plt.ylim(0,5)\n",
    "plt.xlabel('Rate (kHz)')\n",
    "plt.ylabel('Efficiency (%)')\n",
    "plt.title('Wire ROC Curve for ME22')\n",
    "\n",
    "for i in range(len(wire_rate)):\n",
    "    if wire_rate[i] > 0.02 and wire_rate[i] < l2:\n",
    "        #print 'rate =', wire_rate[i], 'kHz and efficiency =', wire_efficiency[i], '% for threshold >', wire_limits[i]\n",
    "        if np.power(wire_efficiency[i],r2)/np.sqrt(wire_rate[i]) > best:\n",
    "            best = np.power(wire_efficiency[i],r2)/np.sqrt(wire_rate[i])\n",
    "            best_cut = wire_limits[i]\n",
    "        \n",
    "print \"Best threshold > %i\" %(best_cut)\n",
    "print 'rate =', wire_rate[best_cut+1], 'kHz and efficiency =', wire_efficiency[best_cut+1], '% for threshold >', wire_limits[best_cut+1]\n",
    "wire22 = best_cut"
   ]
  },
  {
   "cell_type": "code",
   "execution_count": 26,
   "metadata": {},
   "outputs": [
    {
     "name": "stderr",
     "output_type": "stream",
     "text": [
      "100%|██████████| 150/150 [00:01<00:00, 112.68it/s]\n"
     ]
    },
    {
     "name": "stdout",
     "output_type": "stream",
     "text": [
      "Best threshold > 119\n",
      "rate = 0.0570424262552 kHz and efficiency = 1.7732592505 % for threshold > 119\n"
     ]
    },
    {
     "data": {
      "image/png": "[encoded data removed]",
      "text/plain": [
       "<Figure size 432x288 with 1 Axes>"
      ]
     },
     "metadata": {
      "needs_background": "light"
     },
     "output_type": "display_data"
    }
   ],
   "source": [
    "wire_efficiency=[0]\n",
    "wire_sig_tot = len(wire_sig)\n",
    "wire_rate=[0]\n",
    "wire_bkg_tot = len(wire_bkg)\n",
    "wire_limits=[0]\n",
    "best=0.0\n",
    "best_cut=150\n",
    "\n",
    "for limit in tqdm(xrange(min_,max_,it_)):\n",
    "    wire_efficiency.append(len(wire_sig[(wire_sig['Ev_max_nWire_ME31'] > limit)])/wire_sig_tot*100)\n",
    "    \n",
    "    wire_rate.append(len(wire_bkg[(wire_bkg['Ev_max_nWire_ME31'] > limit)])/wire_bkg_tot*30*1000)\n",
    "    \n",
    "    wire_limits.append(limit)\n",
    "    \n",
    "plt.plot(wire_rate,wire_efficiency,'bo')\n",
    "plt.xlim(0,l1)\n",
    "plt.ylim(0,5)\n",
    "plt.xlabel('Rate (kHz)')\n",
    "plt.ylabel('Efficiency (%)')\n",
    "plt.title('Wire ROC Curve for ME31')\n",
    "\n",
    "for i in range(len(wire_rate)):\n",
    "    if wire_rate[i] > 0.02 and wire_rate[i] < l1:\n",
    "        #print 'rate =', wire_rate[i], 'kHz and efficiency =', wire_efficiency[i], '% for threshold >', wire_limits[i]\n",
    "        if np.power(wire_efficiency[i],r1)/np.sqrt(wire_rate[i]) > best:\n",
    "            best = np.power(wire_efficiency[i],r1)/np.sqrt(wire_rate[i])\n",
    "            best_cut = wire_limits[i]\n",
    "        \n",
    "print \"Best threshold > %i\" %(best_cut)\n",
    "print 'rate =', wire_rate[best_cut+1], 'kHz and efficiency =', wire_efficiency[best_cut+1], '% for threshold >', wire_limits[best_cut+1]\n",
    "wire31 = best_cut"
   ]
  },
  {
   "cell_type": "code",
   "execution_count": 27,
   "metadata": {},
   "outputs": [
    {
     "name": "stderr",
     "output_type": "stream",
     "text": [
      "100%|██████████| 150/150 [00:00<00:00, 183.35it/s]\n"
     ]
    },
    {
     "name": "stdout",
     "output_type": "stream",
     "text": [
      "Best threshold > 74\n",
      "rate = 0.152113136681 kHz and efficiency = 1.07577727864 % for threshold > 74\n"
     ]
    },
    {
     "data": {
      "image/png": "[encoded data removed]",
      "text/plain": [
       "<Figure size 432x288 with 1 Axes>"
      ]
     },
     "metadata": {
      "needs_background": "light"
     },
     "output_type": "display_data"
    }
   ],
   "source": [
    "wire_efficiency=[0]\n",
    "wire_sig_tot = len(wire_sig)\n",
    "wire_rate=[0]\n",
    "wire_bkg_tot = len(wire_bkg)\n",
    "wire_limits=[0]\n",
    "best=0.0\n",
    "best_cut=150\n",
    "\n",
    "for limit in tqdm(xrange(min_,max_,it_)):\n",
    "    wire_efficiency.append(len(wire_sig[(wire_sig['Ev_max_nWire_ME32'] > limit)])/wire_sig_tot*100)\n",
    "    \n",
    "    wire_rate.append(len(wire_bkg[(wire_bkg['Ev_max_nWire_ME32'] > limit)])/wire_bkg_tot*30*1000)\n",
    "    \n",
    "    wire_limits.append(limit)\n",
    "    \n",
    "plt.plot(wire_rate,wire_efficiency,'bo')\n",
    "plt.xlim(0,l2)\n",
    "plt.ylim(0,5)\n",
    "plt.xlabel('Rate (kHz)')\n",
    "plt.ylabel('Efficiency (%)')\n",
    "plt.title('Wire ROC Curve for ME32')\n",
    "\n",
    "for i in range(len(wire_rate)):\n",
    "    if wire_rate[i] > 0.02 and wire_rate[i] < l2:\n",
    "        #print 'rate =', wire_rate[i], 'kHz and efficiency =', wire_efficiency[i], '% for threshold >', wire_limits[i]\n",
    "        if np.power(wire_efficiency[i],r2)/np.sqrt(wire_rate[i]) > best:\n",
    "            best = np.power(wire_efficiency[i],r2)/np.sqrt(wire_rate[i])\n",
    "            best_cut = wire_limits[i]\n",
    "        \n",
    "print \"Best threshold > %i\" %(best_cut)\n",
    "print 'rate =', wire_rate[best_cut+1], 'kHz and efficiency =', wire_efficiency[best_cut+1], '% for threshold >', wire_limits[best_cut+1]\n",
    "wire32 = best_cut"
   ]
  },
  {
   "cell_type": "code",
   "execution_count": 28,
   "metadata": {},
   "outputs": [
    {
     "name": "stderr",
     "output_type": "stream",
     "text": [
      "100%|██████████| 150/150 [00:01<00:00, 105.81it/s]\n"
     ]
    },
    {
     "name": "stdout",
     "output_type": "stream",
     "text": [
      "Best threshold > 127\n",
      "rate = 0.0285212131276 kHz and efficiency = 3.08547109587 % for threshold > 127\n"
     ]
    },
    {
     "data": {
      "image/png": "[encoded data removed]",
      "text/plain": [
       "<Figure size 432x288 with 1 Axes>"
      ]
     },
     "metadata": {
      "needs_background": "light"
     },
     "output_type": "display_data"
    }
   ],
   "source": [
    "wire_efficiency=[0]\n",
    "wire_sig_tot = len(wire_sig)\n",
    "wire_rate=[0]\n",
    "wire_bkg_tot = len(wire_bkg)\n",
    "wire_limits=[0]\n",
    "best=0.0\n",
    "best_cut=150\n",
    "\n",
    "for limit in tqdm(xrange(min_,max_,it_)):\n",
    "    wire_efficiency.append(len(wire_sig[(wire_sig['Ev_max_nWire_ME41'] > limit)])/wire_sig_tot*100)\n",
    "    \n",
    "    wire_rate.append(len(wire_bkg[(wire_bkg['Ev_max_nWire_ME41'] > limit)])/wire_bkg_tot*30*1000)\n",
    "    \n",
    "    wire_limits.append(limit)\n",
    "    \n",
    "plt.plot(wire_rate,wire_efficiency,'bo')\n",
    "plt.xlim(0,l1)\n",
    "plt.ylim(0,5)\n",
    "plt.xlabel('Rate (kHz)')\n",
    "plt.ylabel('Efficiency (%)')\n",
    "plt.title('Wire ROC Curve for ME41')\n",
    "\n",
    "for i in range(len(wire_rate)):\n",
    "    if wire_rate[i] > 0.02 and wire_rate[i] < l1:\n",
    "        #print 'rate =', wire_rate[i], 'kHz and efficiency =', wire_efficiency[i], '% for threshold >', wire_limits[i]\n",
    "        if np.power(wire_efficiency[i],r1)/np.sqrt(wire_rate[i]) > best:\n",
    "            best = np.power(wire_efficiency[i],r1)/np.sqrt(wire_rate[i])\n",
    "            best_cut = wire_limits[i]\n",
    "        \n",
    "print \"Best threshold > %i\" %(best_cut)\n",
    "print 'rate =', wire_rate[best_cut+1], 'kHz and efficiency =', wire_efficiency[best_cut+1], '% for threshold >', wire_limits[best_cut+1]\n",
    "wire41 = best_cut"
   ]
  },
  {
   "cell_type": "code",
   "execution_count": 29,
   "metadata": {},
   "outputs": [
    {
     "name": "stderr",
     "output_type": "stream",
     "text": [
      "100%|██████████| 150/150 [00:00<00:00, 159.06it/s]\n"
     ]
    },
    {
     "name": "stdout",
     "output_type": "stream",
     "text": [
      "Best threshold > 86\n",
      "rate = 0.123591923553 kHz and efficiency = 1.09942073531 % for threshold > 86\n"
     ]
    },
    {
     "data": {
      "image/png": "[encoded data removed]",
      "text/plain": [
       "<Figure size 432x288 with 1 Axes>"
      ]
     },
     "metadata": {
      "needs_background": "light"
     },
     "output_type": "display_data"
    }
   ],
   "source": [
    "wire_efficiency=[0]\n",
    "wire_sig_tot = len(wire_sig)\n",
    "wire_rate=[0]\n",
    "wire_bkg_tot = len(wire_bkg)\n",
    "wire_limits=[0]\n",
    "best=0.0\n",
    "best_cut=150\n",
    "\n",
    "for limit in tqdm(xrange(min_,max_,it_)):\n",
    "    wire_efficiency.append(len(wire_sig[(wire_sig['Ev_max_nWire_ME42'] > limit)])/wire_sig_tot*100)\n",
    "    \n",
    "    wire_rate.append(len(wire_bkg[(wire_bkg['Ev_max_nWire_ME42'] > limit)])/wire_bkg_tot*30*1000)\n",
    "    \n",
    "    wire_limits.append(limit)\n",
    "    \n",
    "plt.plot(wire_rate,wire_efficiency,'bo')\n",
    "plt.xlim(0,l2)\n",
    "plt.ylim(0,5)\n",
    "plt.xlabel('Rate (kHz)')\n",
    "plt.ylabel('Efficiency (%)')\n",
    "plt.title('Wire ROC Curve for ME42')\n",
    "\n",
    "for i in range(len(wire_rate)):\n",
    "    if wire_rate[i] > 0.02 and wire_rate[i] < l2:\n",
    "        #print 'rate =', wire_rate[i], 'kHz and efficiency =', wire_efficiency[i], '% for threshold >', wire_limits[i]\n",
    "        if np.power(wire_efficiency[i],r2)/np.sqrt(wire_rate[i]) > best:\n",
    "            best = np.power(wire_efficiency[i],r2)/np.sqrt(wire_rate[i])\n",
    "            best_cut = wire_limits[i]\n",
    "        \n",
    "print \"Best threshold > %i\" %(best_cut)\n",
    "print 'rate =', wire_rate[best_cut+1], 'kHz and efficiency =', wire_efficiency[best_cut+1], '% for threshold >', wire_limits[best_cut+1]\n",
    "wire42 = best_cut"
   ]
  },
  {
   "cell_type": "code",
   "execution_count": 30,
   "metadata": {},
   "outputs": [
    {
     "name": "stdout",
     "output_type": "stream",
     "text": [
      "rate = 0.760565683403 kHz, efficiency = 15.0805847815 %\n"
     ]
    }
   ],
   "source": [
    "# wire11, wire12, wire13 = 94, 101, 40\n",
    "# wire21, wire22 = 128, 83\n",
    "# wire31, wire32 = 117, 79\n",
    "# wire41, wire42 = 121, 90\n",
    "\n",
    "wire11, wire12, wire13 = 103, 105, 40\n",
    "wire21, wire22 = 131, 82\n",
    "wire31, wire32 = 122, 75\n",
    "wire41, wire42 = 118, 85\n",
    "\n",
    "efficiency_wire_final = len(wire_sig[(wire_sig['Ev_max_nWire_ME11'] > wire11) | (wire_sig['Ev_max_nWire_ME12'] > wire12) | (wire_sig['Ev_max_nWire_ME13'] > wire13) |\n",
    "                                     (wire_sig['Ev_max_nWire_ME21'] > wire21) | (wire_sig['Ev_max_nWire_ME22'] > wire22) |\n",
    "                                     (wire_sig['Ev_max_nWire_ME31'] > wire31) | (wire_sig['Ev_max_nWire_ME32'] > wire32) |\n",
    "                                     (wire_sig['Ev_max_nWire_ME41'] > wire41) | (wire_sig['Ev_max_nWire_ME42'] > wire42)])/wire_sig_tot*100\n",
    "                \n",
    "rate_wire_final       = len(wire_bkg[(wire_bkg['Ev_max_nWire_ME11'] > wire11) | (wire_bkg['Ev_max_nWire_ME12'] > wire12) | (wire_bkg['Ev_max_nWire_ME13'] > wire13) |\n",
    "                           (wire_bkg['Ev_max_nWire_ME21'] > wire21) | (wire_bkg['Ev_max_nWire_ME22'] > wire22) |\n",
    "                           (wire_bkg['Ev_max_nWire_ME31'] > wire31) | (wire_bkg['Ev_max_nWire_ME32'] > wire32) |\n",
    "                           (wire_bkg['Ev_max_nWire_ME41'] > wire41) | (wire_bkg['Ev_max_nWire_ME42'] > wire42)])/wire_bkg_tot*30*1000\n",
    "\n",
    "print \"rate =\", rate_wire_final, \"kHz, efficiency =\", efficiency_wire_final, \"%\""
   ]
  },
  {
   "cell_type": "markdown",
   "metadata": {},
   "source": [
    "# Results"
   ]
  },
  {
   "cell_type": "code",
   "execution_count": 31,
   "metadata": {},
   "outputs": [
    {
     "name": "stdout",
     "output_type": "stream",
     "text": [
      "Optimal Comparator Thresholds:\n",
      "ME11: 97, ME12: 56, ME13: 24,\n",
      "ME21: 49, ME22: 35,\n",
      "ME31: 42, ME32: 28,\n",
      "ME41: 42, ME42: 31,\n",
      "With rate and efficiency:\n",
      "rate = 0.976626 kHz, efficiency = 31.403883%\n",
      "\n",
      "Optimal Wire Thresholds:\n",
      "ME11: 103, ME12: 105, ME13: 40,\n",
      "ME21: 131, ME22: 82,\n",
      "ME31: 122, ME32: 75,\n",
      "ME41: 118, ME42: 85,\n",
      "With rate and efficiency:\n",
      "rate = 0.760566 kHz, efficiency = 15.080585%\n"
     ]
    }
   ],
   "source": [
    "print \"Optimal Comparator Thresholds:\"\n",
    "print \"ME11: %i, ME12: %i, ME13: %i,\" %(comp11,comp12,comp13)\n",
    "print \"ME21: %i, ME22: %i,\" %(comp21,comp22)\n",
    "print \"ME31: %i, ME32: %i,\" %(comp31,comp32)\n",
    "print \"ME41: %i, ME42: %i,\" %(comp41,comp42)\n",
    "print \"With rate and efficiency:\"\n",
    "print \"rate = %f kHz, efficiency = %f%%\" %(rate_comp_final,efficiency_comp_final)\n",
    "print\n",
    "print \"Optimal Wire Thresholds:\"\n",
    "print \"ME11: %i, ME12: %i, ME13: %i,\" %(wire11,wire12,wire13)\n",
    "print \"ME21: %i, ME22: %i,\" %(wire21,wire22)\n",
    "print \"ME31: %i, ME32: %i,\" %(wire31,wire32)\n",
    "print \"ME41: %i, ME42: %i,\" %(wire41,wire42)\n",
    "print \"With rate and efficiency:\"\n",
    "print \"rate = %f kHz, efficiency = %f%%\" %(rate_wire_final,efficiency_wire_final)"
   ]
  },
  {
   "cell_type": "code",
   "execution_count": null,
   "metadata": {},
   "outputs": [],
   "source": []
  }
 ],
 "metadata": {
  "kernelspec": {
   "display_name": "Python 2",
   "language": "python",
   "name": "python2"
  },
  "language_info": {
   "codemirror_mode": {
    "name": "ipython",
    "version": 2
   },
   "file_extension": ".py",
   "mimetype": "text/x-python",
   "name": "python",
   "nbconvert_exporter": "python",
   "pygments_lexer": "ipython2",
   "version": "2.7.15+"
  }
 },
 "nbformat": 4,
 "nbformat_minor": 2
}
