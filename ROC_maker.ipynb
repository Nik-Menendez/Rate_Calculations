{
 "cells": [
  {
   "cell_type": "code",
   "execution_count": 1,
   "metadata": {},
   "outputs": [
    {
     "data": {
      "text/html": [
       "<style>.container { width:100% !important; }</style>"
      ],
      "text/plain": [
       "<IPython.core.display.HTML object>"
      ]
     },
     "metadata": {},
     "output_type": "display_data"
    }
   ],
   "source": [
    "import pandas as pd\n",
    "import numpy as np\n",
    "import uproot\n",
    "import matplotlib\n",
    "from matplotlib import pyplot as plt\n",
    "from __future__ import division\n",
    "from tqdm import tqdm\n",
    "\n",
    "from IPython.core.display import display, HTML\n",
    "display(HTML(\"<style>.container { width:100% !important; }</style>\"))"
   ]
  },
  {
   "cell_type": "code",
   "execution_count": 2,
   "metadata": {},
   "outputs": [
    {
     "name": "stdout",
     "output_type": "stream",
     "text": [
      "Opening input files\n",
      "Opening file:  ['trees/MaxDigis_tree_HTo2LongLivedTo4b_MH-125_MFF-25_CTau-15000mm_TuneCP5_14TeV_pythia8.root']\n",
      "Opening file:  trees/MaxDigis_tree_HTo2LongLivedTo4b_MH-125_MFF-25_CTau-1500mm_TuneCP5_14TeV_pythia8.root\n",
      "Opening file:  trees/MaxDigis_tree_HTo2LongLivedTo4b_MH-125_MFF-12_CTau-9000mm_TuneCP5_14TeV_pythia8.root\n",
      "Opening file:  trees/MaxDigis_tree_HTo2LongLivedTo4b_MH-125_MFF-12_CTau-900mm_TuneCP5_14TeV_pythia8.root\n",
      "Opening file:  trees/MaxDigis_tree_HTo2LongLivedTo4b_MH-125_MFF-50_CTau-30000mm_TuneCP5_14TeV_pythia8.root\n",
      "Opening file:  trees/MaxDigis_tree_HTo2LongLivedTo4b_MH-125_MFF-50_CTau-3000mm_TuneCP5_14TeV_pythia8.root\n",
      "Opening file:  ['trees/MaxDigis_tree_Data.root']\n"
     ]
    }
   ],
   "source": [
    "input_bkg = [#'trees/MaxDigis_tree_Neutrino_gun.root',\n",
    "             'trees/MaxDigis_tree_Data.root',\n",
    "            ]\n",
    "first_sig = ['trees/MaxDigis_tree_HTo2LongLivedTo4b_MH-125_MFF-25_CTau-15000mm_TuneCP5_14TeV_pythia8.root']\n",
    "input_sig = ['trees/MaxDigis_tree_HTo2LongLivedTo4b_MH-125_MFF-25_CTau-1500mm_TuneCP5_14TeV_pythia8.root',\n",
    "             #'trees/MaxDigis_tree_HTo2LongLivedTo4b_MH-1000_MFF-450_CTau-100000mm_TuneCP5_14TeV_pythia8.root',\n",
    "             #'trees/MaxDigis_tree_HTo2LongLivedTo4b_MH-1000_MFF-450_CTau-10000mm_TuneCP5_14TeV_pythia8.root',\n",
    "             'trees/MaxDigis_tree_HTo2LongLivedTo4b_MH-125_MFF-12_CTau-9000mm_TuneCP5_14TeV_pythia8.root',\n",
    "             'trees/MaxDigis_tree_HTo2LongLivedTo4b_MH-125_MFF-12_CTau-900mm_TuneCP5_14TeV_pythia8.root',\n",
    "             'trees/MaxDigis_tree_HTo2LongLivedTo4b_MH-125_MFF-50_CTau-30000mm_TuneCP5_14TeV_pythia8.root',\n",
    "             'trees/MaxDigis_tree_HTo2LongLivedTo4b_MH-125_MFF-50_CTau-3000mm_TuneCP5_14TeV_pythia8.root',\n",
    "            ]\n",
    "comp_treename = 'comparator'\n",
    "wire_treename = 'wire'\n",
    "\n",
    "comp_vars = [ 'Ev_max_nComp_ME11','Ev_max_nComp_ME12','Ev_max_nComp_ME13','Ev_max_nComp_ME21','Ev_max_nComp_ME22',\n",
    "             'Ev_max_nComp_ME31','Ev_max_nComp_ME32','Ev_max_nComp_ME41','Ev_max_nComp_ME42']\n",
    "wire_vars = [ 'Ev_max_nWire_ME11','Ev_max_nWire_ME12','Ev_max_nWire_ME13','Ev_max_nWire_ME21','Ev_max_nWire_ME22',\n",
    "             'Ev_max_nWire_ME31','Ev_max_nWire_ME32','Ev_max_nWire_ME41','Ev_max_nWire_ME42']\n",
    "\n",
    "#all_vars = [ 'Ev_nComp_ME11','Ev_nComp_ME12']\n",
    "\n",
    "comp_vars = list(set(comp_vars))\n",
    "wire_vars = list(set(wire_vars))\n",
    "\n",
    "arrs_comp_sig = [None]*(len(input_sig)+1)\n",
    "arrs_wire_sig = [None]*(len(input_sig)+1)\n",
    "\n",
    "print \"Opening input files\"\n",
    "\n",
    "print \"Opening file: \", first_sig\n",
    "arrs_comp_sig[0] = uproot.open(first_sig[0])[comp_treename]\n",
    "arrs_wire_sig[0] = uproot.open(first_sig[0])[wire_treename]\n",
    "comp_sig = arrs_comp_sig[0].pandas.df(comp_vars)\n",
    "wire_sig = arrs_wire_sig[0].pandas.df(wire_vars)\n",
    "\n",
    "j=1\n",
    "for i in (input_sig):\n",
    "    print \"Opening file: \", i\n",
    "    arrs_comp_sig[j] = uproot.open(i)[comp_treename]\n",
    "    arrs_wire_sig[j] = uproot.open(i)[wire_treename]\n",
    "    temp_comp_sig = arrs_comp_sig[j].pandas.df(comp_vars)\n",
    "    temp_wire_sig = arrs_wire_sig[j].pandas.df(wire_vars)\n",
    "    comp_sig = comp_sig.append(temp_comp_sig)\n",
    "    wire_sig = wire_sig.append(temp_wire_sig)\n",
    "    j=j+1\n",
    "\n",
    "\n",
    "print \"Opening file: \", input_bkg\n",
    "arrs_comp_bkg = uproot.open(input_bkg[0])[comp_treename]\n",
    "arrs_wire_bkg = uproot.open(input_bkg[0])[wire_treename]\n",
    "comp_bkg = arrs_comp_bkg.pandas.df(comp_vars)\n",
    "wire_bkg = arrs_wire_bkg.pandas.df(wire_vars)"
   ]
  },
  {
   "cell_type": "markdown",
   "metadata": {},
   "source": [
    "# Single Limit"
   ]
  },
  {
   "cell_type": "code",
   "execution_count": 3,
   "metadata": {},
   "outputs": [],
   "source": [
    "# efficiency=[0]\n",
    "# comp_sig_tot = len(comp_sig)\n",
    "# rate=[0]\n",
    "# comp_bkg_tot = len(comp_bkg)\n",
    "\n",
    "# min_=30\n",
    "# max_=60\n",
    "# it=5\n",
    "\n",
    "# for comp11 in tqdm(xrange(min_,max_,it)):\n",
    "#   for comp12 in xrange(min_,max_,it):\n",
    "#     for comp13 in xrange(min_,max_,it):\n",
    "#       for comp21 in xrange(min_,max_,it):\n",
    "#         for comp22 in xrange(min_,max_,it):\n",
    "#           for comp31 in xrange(min_,max_,it):\n",
    "#             for comp32 in xrange(min_,max_,it):\n",
    "#               for comp41 in xrange(min_,max_,it):\n",
    "#                 for comp42 in xrange(min_,max_,it):\n",
    "\n",
    "#                   efficiency.append(len(comp_sig[(comp_sig['Ev_max_nComp_ME11'] > comp11) | (comp_sig['Ev_max_nComp_ME12'] > comp12) | (comp_sig['Ev_max_nComp_ME13'] > comp13) |\n",
    "#                                                  (comp_sig['Ev_max_nComp_ME21'] > comp21) | (comp_sig['Ev_max_nComp_ME22'] > comp22) |\n",
    "#                                                  (comp_sig['Ev_max_nComp_ME31'] > comp31) | (comp_sig['Ev_max_nComp_ME32'] > comp32) |\n",
    "#                                                  (comp_sig['Ev_max_nComp_ME41'] > comp41) | (comp_sig['Ev_max_nComp_ME41'] > comp42)])/comp_sig_tot*100)\n",
    "                \n",
    "#                   rate.append(len(comp_bkg[(comp_bkg['Ev_max_nComp_ME11'] > comp11) | (comp_bkg['Ev_max_nComp_ME12'] > comp12) | (comp_bkg['Ev_max_nComp_ME13'] > comp13) |\n",
    "#                                            (comp_bkg['Ev_max_nComp_ME21'] > comp21) | (comp_bkg['Ev_max_nComp_ME22'] > comp22) |\n",
    "#                                            (comp_bkg['Ev_max_nComp_ME31'] > comp31) | (comp_bkg['Ev_max_nComp_ME32'] > comp32) |\n",
    "#                                            (comp_bkg['Ev_max_nComp_ME41'] > comp41) | (comp_bkg['Ev_max_nComp_ME41'] > comp42)])/comp_bkg_tot*30*1000)"
   ]
  },
  {
   "cell_type": "code",
   "execution_count": 4,
   "metadata": {},
   "outputs": [],
   "source": [
    "# comp_efficiency=[0]\n",
    "# comp_sig_tot = len(comp_sig)\n",
    "# comp_rate=[0]\n",
    "# comp_bkg_tot = len(comp_bkg)\n",
    "# comp_limits=[0]\n",
    "\n",
    "# min_=0\n",
    "# max_=120\n",
    "# it_=1\n",
    "\n",
    "# for limit in tqdm(xrange(min_,max_,it_)):\n",
    "#     comp_efficiency.append(len(comp_sig[#(comp_sig['Ev_max_nComp_ME11'] > limit) | (comp_sig['Ev_max_nComp_ME12'] > limit) | (comp_sig['Ev_max_nComp_ME13'] > limit) |\n",
    "#                                         (comp_sig['Ev_max_nComp_ME21'] > limit) | (comp_sig['Ev_max_nComp_ME22'] > limit) |\n",
    "#                                         (comp_sig['Ev_max_nComp_ME31'] > limit) | (comp_sig['Ev_max_nComp_ME32'] > limit) |\n",
    "#                                         (comp_sig['Ev_max_nComp_ME41'] > limit) | (comp_sig['Ev_max_nComp_ME41'] > limit)])/comp_sig_tot*100)\n",
    "    \n",
    "#     comp_rate.append(len(comp_bkg[#(comp_bkg['Ev_max_nComp_ME11'] > limit) | (comp_bkg['Ev_max_nComp_ME12'] > limit) | (comp_bkg['Ev_max_nComp_ME13'] > limit) |\n",
    "#                                   (comp_bkg['Ev_max_nComp_ME21'] > limit) | (comp_bkg['Ev_max_nComp_ME22'] > limit) |\n",
    "#                                   (comp_bkg['Ev_max_nComp_ME31'] > limit) | (comp_bkg['Ev_max_nComp_ME32'] > limit) |\n",
    "#                                   (comp_bkg['Ev_max_nComp_ME41'] > limit) | (comp_bkg['Ev_max_nComp_ME41'] > limit)])/comp_bkg_tot*30*1000)\n",
    "    \n",
    "#     comp_limits.append(limit)"
   ]
  },
  {
   "cell_type": "code",
   "execution_count": 5,
   "metadata": {},
   "outputs": [],
   "source": [
    "# plt.plot(comp_rate,comp_efficiency,'bo')\n",
    "# plt.xlim(0,1)\n",
    "# plt.ylim(0,40)\n",
    "# plt.xlabel('Rate (kHz)')\n",
    "# plt.ylabel('Efficiency (%)')\n",
    "# plt.title('Comparator ROC Curve')"
   ]
  },
  {
   "cell_type": "code",
   "execution_count": 6,
   "metadata": {},
   "outputs": [],
   "source": [
    "# for i in range(len(comp_rate)):\n",
    "#     if comp_rate[i] > 0.4 and comp_rate[i] < 1:\n",
    "#         print 'rate =', comp_rate[i], 'kHz and efficiency =', comp_efficiency[i], '% for threshold >', comp_limits[i]"
   ]
  },
  {
   "cell_type": "code",
   "execution_count": 7,
   "metadata": {},
   "outputs": [],
   "source": [
    "# wire_efficiency=[0]\n",
    "# wire_sig_tot = len(wire_sig)\n",
    "# wire_rate=[0]\n",
    "# wire_bkg_tot = len(wire_bkg)\n",
    "# wire_limits=[0]\n",
    "\n",
    "# min_=0\n",
    "# max_=120\n",
    "# it_=1\n",
    "\n",
    "# for limit in tqdm(xrange(min_,max_,it_)):\n",
    "#     wire_efficiency.append(len(wire_sig[#(wire_sig['Ev_max_nWire_ME11'] > limit) | (wire_sig['Ev_max_nWire_ME12'] > limit) | (wire_sig['Ev_max_nWire_ME13'] > limit) |\n",
    "#                                         (wire_sig['Ev_max_nWire_ME21'] > limit) | (wire_sig['Ev_max_nWire_ME22'] > limit) |\n",
    "#                                         (wire_sig['Ev_max_nWire_ME31'] > limit) | (wire_sig['Ev_max_nWire_ME32'] > limit) |\n",
    "#                                         (wire_sig['Ev_max_nWire_ME41'] > limit) | (wire_sig['Ev_max_nWire_ME41'] > limit)])/wire_sig_tot*100)\n",
    "    \n",
    "#     wire_rate.append(len(wire_bkg[#(wire_bkg['Ev_max_nWire_ME11'] > limit) | (wire_bkg['Ev_max_nWire_ME12'] > limit) | (wire_bkg['Ev_max_nWire_ME13'] > limit) |\n",
    "#                                   (wire_bkg['Ev_max_nWire_ME21'] > limit) | (wire_bkg['Ev_max_nWire_ME22'] > limit) |\n",
    "#                                   (wire_bkg['Ev_max_nWire_ME31'] > limit) | (wire_bkg['Ev_max_nWire_ME32'] > limit) |\n",
    "#                                   (wire_bkg['Ev_max_nWire_ME41'] > limit) | (wire_bkg['Ev_max_nWire_ME41'] > limit)])/wire_bkg_tot*30*1000)\n",
    "    \n",
    "#     wire_limits.append(limit)"
   ]
  },
  {
   "cell_type": "code",
   "execution_count": 8,
   "metadata": {},
   "outputs": [],
   "source": [
    "# plt.plot(wire_rate,wire_efficiency,'bo')\n",
    "# plt.xlim(0,1)\n",
    "# plt.ylim(0,40)\n",
    "# plt.xlabel('Rate (kHz)')\n",
    "# plt.ylabel('Efficiency (%)')\n",
    "# plt.title('Wire ROC Curve')"
   ]
  },
  {
   "cell_type": "code",
   "execution_count": 9,
   "metadata": {},
   "outputs": [],
   "source": [
    "# for i in range(len(wire_rate)):\n",
    "#     if wire_rate[i] > 0.4 and wire_rate[i] < 1.0:\n",
    "#         print 'rate =', wire_rate[i], 'kHz and efficiency =', wire_efficiency[i], '% for threshold >', wire_limits[i]"
   ]
  },
  {
   "cell_type": "markdown",
   "metadata": {},
   "source": [
    "# Comparator"
   ]
  },
  {
   "cell_type": "code",
   "execution_count": 10,
   "metadata": {},
   "outputs": [
    {
     "name": "stderr",
     "output_type": "stream",
     "text": [
      "100%|██████████| 130/130 [00:01<00:00, 66.97it/s]\n"
     ]
    },
    {
     "name": "stdout",
     "output_type": "stream",
     "text": [
      "rate = 0.106365182615 kHz and efficiency = 0.145991161616 % for threshold > 82\n",
      "rate = 0.0966956205586 kHz and efficiency = 0.145991161616 % for threshold > 83\n",
      "rate = 0.0966956205586 kHz and efficiency = 0.122316919192 % for threshold > 84\n",
      "rate = 0.0773564964469 kHz and efficiency = 0.106534090909 % for threshold > 85\n",
      "rate = 0.0773564964469 kHz and efficiency = 0.0986426767677 % for threshold > 86\n",
      "rate = 0.0773564964469 kHz and efficiency = 0.0789141414141 % for threshold > 87\n",
      "rate = 0.0676869343911 kHz and efficiency = 0.067077020202 % for threshold > 88\n",
      "rate = 0.0676869343911 kHz and efficiency = 0.0631313131313 % for threshold > 89\n",
      "rate = 0.0676869343911 kHz and efficiency = 0.0591856060606 % for threshold > 90\n",
      "rate = 0.0676869343911 kHz and efficiency = 0.0552398989899 % for threshold > 91\n",
      "rate = 0.0580173723352 kHz and efficiency = 0.0552398989899 % for threshold > 92\n",
      "rate = 0.0483478102793 kHz and efficiency = 0.0473484848485 % for threshold > 93\n",
      "rate = 0.0386782482235 kHz and efficiency = 0.0355113636364 % for threshold > 94\n",
      "rate = 0.0386782482235 kHz and efficiency = 0.0355113636364 % for threshold > 95\n",
      "rate = 0.0290086861676 kHz and efficiency = 0.0315656565657 % for threshold > 96\n"
     ]
    },
    {
     "data": {
      "image/png": "[encoded data removed]",
      "text/plain": [
       "<Figure size 432x288 with 1 Axes>"
      ]
     },
     "metadata": {
      "needs_background": "light"
     },
     "output_type": "display_data"
    }
   ],
   "source": [
    "comp_efficiency=[0]\n",
    "comp_sig_tot = len(comp_sig)\n",
    "comp_rate=[0]\n",
    "comp_bkg_tot = len(comp_bkg)\n",
    "comp_limits=[0]\n",
    "\n",
    "min_=0\n",
    "max_=130\n",
    "it_=1\n",
    "\n",
    "for limit in tqdm(xrange(min_,max_,it_)):\n",
    "    comp_efficiency.append(len(comp_sig[(comp_sig['Ev_max_nComp_ME11'] > limit)])/comp_sig_tot*100)\n",
    "    \n",
    "    comp_rate.append(len(comp_bkg[(comp_bkg['Ev_max_nComp_ME11'] > limit)])/comp_bkg_tot*30*1000)\n",
    "    \n",
    "    comp_limits.append(limit)\n",
    "    \n",
    "plt.plot(comp_rate,comp_efficiency,'bo')\n",
    "plt.xlim(0,.12)\n",
    "plt.ylim(0,10)\n",
    "plt.xlabel('Rate (kHz)')\n",
    "plt.ylabel('Efficiency (%)')\n",
    "plt.title('Comparator ROC Curve for ME11')\n",
    "\n",
    "for i in range(len(comp_rate)):\n",
    "    if comp_rate[i] > 0.02 and comp_rate[i] < 0.12:\n",
    "        print 'rate =', comp_rate[i], 'kHz and efficiency =', comp_efficiency[i], '% for threshold >', comp_limits[i]"
   ]
  },
  {
   "cell_type": "code",
   "execution_count": 11,
   "metadata": {},
   "outputs": [
    {
     "name": "stderr",
     "output_type": "stream",
     "text": [
      "100%|██████████| 130/130 [00:00<00:00, 180.56it/s]\n"
     ]
    },
    {
     "name": "stdout",
     "output_type": "stream",
     "text": [
      "rate = 0.193391241117 kHz and efficiency = 4.09169823232 % for threshold > 56\n",
      "rate = 0.16438255495 kHz and efficiency = 3.95754419192 % for threshold > 57\n",
      "rate = 0.154712992894 kHz and efficiency = 3.81549873737 % for threshold > 58\n",
      "rate = 0.135373868782 kHz and efficiency = 3.70501893939 % for threshold > 59\n",
      "rate = 0.125704306726 kHz and efficiency = 3.56691919192 % for threshold > 60\n",
      "rate = 0.106365182615 kHz and efficiency = 3.45249368687 % for threshold > 61\n",
      "rate = 0.0966956205586 kHz and efficiency = 3.31044823232 % for threshold > 62\n",
      "rate = 0.0870260585028 kHz and efficiency = 3.16445707071 % for threshold > 63\n",
      "rate = 0.0773564964469 kHz and efficiency = 3.01846590909 % for threshold > 64\n",
      "rate = 0.0676869343911 kHz and efficiency = 2.88825757576 % for threshold > 65\n",
      "rate = 0.0676869343911 kHz and efficiency = 2.78172348485 % for threshold > 66\n",
      "rate = 0.0676869343911 kHz and efficiency = 2.65151515152 % for threshold > 67\n",
      "rate = 0.0676869343911 kHz and efficiency = 2.51341540404 % for threshold > 68\n",
      "rate = 0.0676869343911 kHz and efficiency = 2.37926136364 % for threshold > 69\n",
      "rate = 0.0580173723352 kHz and efficiency = 2.27272727273 % for threshold > 70\n",
      "rate = 0.0483478102793 kHz and efficiency = 2.15830176768 % for threshold > 71\n",
      "rate = 0.0386782482235 kHz and efficiency = 2.05571338384 % for threshold > 72\n",
      "rate = 0.0386782482235 kHz and efficiency = 1.96496212121 % for threshold > 73\n",
      "rate = 0.0386782482235 kHz and efficiency = 1.90577651515 % for threshold > 74\n",
      "rate = 0.0386782482235 kHz and efficiency = 1.81107954545 % for threshold > 75\n",
      "rate = 0.0386782482235 kHz and efficiency = 1.72821969697 % for threshold > 76\n"
     ]
    },
    {
     "data": {
      "image/png": "[encoded data removed]",
      "text/plain": [
       "<Figure size 432x288 with 1 Axes>"
      ]
     },
     "metadata": {
      "needs_background": "light"
     },
     "output_type": "display_data"
    }
   ],
   "source": [
    "comp_efficiency=[0]\n",
    "comp_sig_tot = len(comp_sig)\n",
    "comp_rate=[0]\n",
    "comp_bkg_tot = len(comp_bkg)\n",
    "comp_limits=[0]\n",
    "\n",
    "min_=0\n",
    "max_=130\n",
    "it_=1\n",
    "\n",
    "for limit in tqdm(xrange(min_,max_,it_)):\n",
    "    comp_efficiency.append(len(comp_sig[(comp_sig['Ev_max_nComp_ME12'] > limit)])/comp_sig_tot*100)\n",
    "    \n",
    "    comp_rate.append(len(comp_bkg[(comp_bkg['Ev_max_nComp_ME12'] > limit)])/comp_bkg_tot*30*1000)\n",
    "    \n",
    "    comp_limits.append(limit)\n",
    "    \n",
    "plt.plot(comp_rate,comp_efficiency,'bo')\n",
    "plt.xlim(0,.12)\n",
    "plt.ylim(0,10)\n",
    "plt.xlabel('Rate (kHz)')\n",
    "plt.ylabel('Efficiency (%)')\n",
    "plt.title('Comparator ROC Curve for ME12')\n",
    "\n",
    "for i in range(len(comp_rate)):\n",
    "    if comp_rate[i] > 0.02 and comp_rate[i] < 0.2:\n",
    "        print 'rate =', comp_rate[i], 'kHz and efficiency =', comp_efficiency[i], '% for threshold >', comp_limits[i]"
   ]
  },
  {
   "cell_type": "code",
   "execution_count": 12,
   "metadata": {},
   "outputs": [
    {
     "name": "stderr",
     "output_type": "stream",
     "text": [
      "100%|██████████| 130/130 [00:00<00:00, 248.11it/s]\n"
     ]
    },
    {
     "name": "stdout",
     "output_type": "stream",
     "text": [
      "rate = 0.11603474467 kHz and efficiency = 3.61821338384 % for threshold > 25\n",
      "rate = 0.106365182615 kHz and efficiency = 3.44065656566 % for threshold > 26\n",
      "rate = 0.0870260585028 kHz and efficiency = 3.29466540404 % for threshold > 27\n",
      "rate = 0.0870260585028 kHz and efficiency = 3.14472853535 % for threshold > 28\n",
      "rate = 0.0483478102793 kHz and efficiency = 3.01057449495 % for threshold > 29\n",
      "rate = 0.0386782482235 kHz and efficiency = 2.90009469697 % for threshold > 30\n",
      "rate = 0.0386782482235 kHz and efficiency = 2.79356060606 % for threshold > 31\n",
      "rate = 0.0386782482235 kHz and efficiency = 2.68702651515 % for threshold > 32\n",
      "rate = 0.0386782482235 kHz and efficiency = 2.54103535354 % for threshold > 33\n",
      "rate = 0.0386782482235 kHz and efficiency = 2.45028409091 % for threshold > 34\n",
      "rate = 0.0386782482235 kHz and efficiency = 2.35164141414 % for threshold > 35\n",
      "rate = 0.0386782482235 kHz and efficiency = 2.25299873737 % for threshold > 36\n",
      "rate = 0.0386782482235 kHz and efficiency = 2.12279040404 % for threshold > 37\n"
     ]
    },
    {
     "data": {
      "image/png": "[encoded data removed]",
      "text/plain": [
       "<Figure size 432x288 with 1 Axes>"
      ]
     },
     "metadata": {
      "needs_background": "light"
     },
     "output_type": "display_data"
    }
   ],
   "source": [
    "comp_efficiency=[0]\n",
    "comp_sig_tot = len(comp_sig)\n",
    "comp_rate=[0]\n",
    "comp_bkg_tot = len(comp_bkg)\n",
    "comp_limits=[0]\n",
    "\n",
    "min_=0\n",
    "max_=130\n",
    "it_=1\n",
    "\n",
    "for limit in tqdm(xrange(min_,max_,it_)):\n",
    "    comp_efficiency.append(len(comp_sig[(comp_sig['Ev_max_nComp_ME13'] > limit)])/comp_sig_tot*100)\n",
    "    \n",
    "    comp_rate.append(len(comp_bkg[(comp_bkg['Ev_max_nComp_ME13'] > limit)])/comp_bkg_tot*30*1000)\n",
    "    \n",
    "    comp_limits.append(limit)\n",
    "    \n",
    "plt.plot(comp_rate,comp_efficiency,'bo')\n",
    "plt.xlim(0,.12)\n",
    "plt.ylim(0,10)\n",
    "plt.xlabel('Rate (kHz)')\n",
    "plt.ylabel('Efficiency (%)')\n",
    "plt.title('Comparator ROC Curve for ME13')\n",
    "\n",
    "for i in range(len(comp_rate)):\n",
    "    if comp_rate[i] > 0.02 and comp_rate[i] < 0.12:\n",
    "        print 'rate =', comp_rate[i], 'kHz and efficiency =', comp_efficiency[i], '% for threshold >', comp_limits[i]"
   ]
  },
  {
   "cell_type": "code",
   "execution_count": 13,
   "metadata": {},
   "outputs": [
    {
     "name": "stderr",
     "output_type": "stream",
     "text": [
      "100%|██████████| 130/130 [00:01<00:00, 110.37it/s]\n"
     ]
    },
    {
     "name": "stdout",
     "output_type": "stream",
     "text": [
      "rate = 0.0966956205586 kHz and efficiency = 3.96938131313 % for threshold > 44\n",
      "rate = 0.0870260585028 kHz and efficiency = 3.86284722222 % for threshold > 45\n",
      "rate = 0.0773564964469 kHz and efficiency = 3.68134469697 % for threshold > 46\n",
      "rate = 0.0773564964469 kHz and efficiency = 3.50378787879 % for threshold > 47\n",
      "rate = 0.0483478102793 kHz and efficiency = 3.34990530303 % for threshold > 48\n",
      "rate = 0.0386782482235 kHz and efficiency = 3.20391414141 % for threshold > 49\n",
      "rate = 0.0386782482235 kHz and efficiency = 3.07370580808 % for threshold > 50\n",
      "rate = 0.0386782482235 kHz and efficiency = 2.93560606061 % for threshold > 51\n",
      "rate = 0.0290086861676 kHz and efficiency = 2.81328914141 % for threshold > 52\n",
      "rate = 0.0290086861676 kHz and efficiency = 2.70675505051 % for threshold > 53\n",
      "rate = 0.0290086861676 kHz and efficiency = 2.5726010101 % for threshold > 54\n",
      "rate = 0.0290086861676 kHz and efficiency = 2.42660984848 % for threshold > 55\n",
      "rate = 0.0290086861676 kHz and efficiency = 2.30429292929 % for threshold > 56\n"
     ]
    },
    {
     "data": {
      "image/png": "[encoded data removed]",
      "text/plain": [
       "<Figure size 432x288 with 1 Axes>"
      ]
     },
     "metadata": {
      "needs_background": "light"
     },
     "output_type": "display_data"
    }
   ],
   "source": [
    "comp_efficiency=[0]\n",
    "comp_sig_tot = len(comp_sig)\n",
    "comp_rate=[0]\n",
    "comp_bkg_tot = len(comp_bkg)\n",
    "comp_limits=[0]\n",
    "\n",
    "min_=0\n",
    "max_=130\n",
    "it_=1\n",
    "\n",
    "for limit in tqdm(xrange(min_,max_,it_)):\n",
    "    comp_efficiency.append(len(comp_sig[(comp_sig['Ev_max_nComp_ME21'] > limit)])/comp_sig_tot*100)\n",
    "    \n",
    "    comp_rate.append(len(comp_bkg[(comp_bkg['Ev_max_nComp_ME21'] > limit)])/comp_bkg_tot*30*1000)\n",
    "    \n",
    "    comp_limits.append(limit)\n",
    "    \n",
    "plt.plot(comp_rate,comp_efficiency,'bo')\n",
    "plt.xlim(0,.12)\n",
    "plt.ylim(0,10)\n",
    "plt.xlabel('Rate (kHz)')\n",
    "plt.ylabel('Efficiency (%)')\n",
    "plt.title('Comparator ROC Curve for ME21')\n",
    "\n",
    "for i in range(len(comp_rate)):\n",
    "    if comp_rate[i] > 0.02 and comp_rate[i] < 0.12:\n",
    "        print 'rate =', comp_rate[i], 'kHz and efficiency =', comp_efficiency[i], '% for threshold >', comp_limits[i]"
   ]
  },
  {
   "cell_type": "code",
   "execution_count": 14,
   "metadata": {},
   "outputs": [
    {
     "name": "stderr",
     "output_type": "stream",
     "text": [
      "100%|██████████| 130/130 [00:00<00:00, 206.06it/s]\n"
     ]
    },
    {
     "name": "stdout",
     "output_type": "stream",
     "text": [
      "rate = 0.0773564964469 kHz and efficiency = 5.77256944444 % for threshold > 39\n",
      "rate = 0.0676869343911 kHz and efficiency = 5.51215277778 % for threshold > 40\n",
      "rate = 0.0483478102793 kHz and efficiency = 5.24779040404 % for threshold > 41\n",
      "rate = 0.0386782482235 kHz and efficiency = 4.99131944444 % for threshold > 42\n",
      "rate = 0.0386782482235 kHz and efficiency = 4.79797979798 % for threshold > 43\n",
      "rate = 0.0386782482235 kHz and efficiency = 4.56518308081 % for threshold > 44\n",
      "rate = 0.0290086861676 kHz and efficiency = 4.37973484848 % for threshold > 45\n"
     ]
    },
    {
     "data": {
      "image/png": "[encoded data removed]",
      "text/plain": [
       "<Figure size 432x288 with 1 Axes>"
      ]
     },
     "metadata": {
      "needs_background": "light"
     },
     "output_type": "display_data"
    }
   ],
   "source": [
    "comp_efficiency=[0]\n",
    "comp_sig_tot = len(comp_sig)\n",
    "comp_rate=[0]\n",
    "comp_bkg_tot = len(comp_bkg)\n",
    "comp_limits=[0]\n",
    "\n",
    "min_=0\n",
    "max_=130\n",
    "it_=1\n",
    "\n",
    "for limit in tqdm(xrange(min_,max_,it_)):\n",
    "    comp_efficiency.append(len(comp_sig[(comp_sig['Ev_max_nComp_ME22'] > limit)])/comp_sig_tot*100)\n",
    "    \n",
    "    comp_rate.append(len(comp_bkg[(comp_bkg['Ev_max_nComp_ME22'] > limit)])/comp_bkg_tot*30*1000)\n",
    "    \n",
    "    comp_limits.append(limit)\n",
    "    \n",
    "plt.plot(comp_rate,comp_efficiency,'bo')\n",
    "plt.xlim(0,.12)\n",
    "plt.ylim(0,10)\n",
    "plt.xlabel('Rate (kHz)')\n",
    "plt.ylabel('Efficiency (%)')\n",
    "plt.title('Comparator ROC Curve for ME22')\n",
    "\n",
    "for i in range(len(comp_rate)):\n",
    "    if comp_rate[i] > 0.02 and comp_rate[i] < 0.12:\n",
    "        print 'rate =', comp_rate[i], 'kHz and efficiency =', comp_efficiency[i], '% for threshold >', comp_limits[i]"
   ]
  },
  {
   "cell_type": "code",
   "execution_count": 15,
   "metadata": {},
   "outputs": [
    {
     "name": "stderr",
     "output_type": "stream",
     "text": [
      "100%|██████████| 130/130 [00:01<00:00, 118.77it/s]\n"
     ]
    },
    {
     "name": "stdout",
     "output_type": "stream",
     "text": [
      "rate = 0.0966956205586 kHz and efficiency = 3.73658459596 % for threshold > 42\n",
      "rate = 0.0870260585028 kHz and efficiency = 3.56297348485 % for threshold > 43\n",
      "rate = 0.0870260585028 kHz and efficiency = 3.42487373737 % for threshold > 44\n",
      "rate = 0.0773564964469 kHz and efficiency = 3.27888257576 % for threshold > 45\n",
      "rate = 0.0676869343911 kHz and efficiency = 3.08554292929 % for threshold > 46\n",
      "rate = 0.0483478102793 kHz and efficiency = 2.96717171717 % for threshold > 47\n",
      "rate = 0.0483478102793 kHz and efficiency = 2.85669191919 % for threshold > 48\n",
      "rate = 0.0290086861676 kHz and efficiency = 2.76199494949 % for threshold > 49\n",
      "rate = 0.0290086861676 kHz and efficiency = 2.61205808081 % for threshold > 50\n"
     ]
    },
    {
     "data": {
      "image/png": "[encoded data removed]",
      "text/plain": [
       "<Figure size 432x288 with 1 Axes>"
      ]
     },
     "metadata": {
      "needs_background": "light"
     },
     "output_type": "display_data"
    }
   ],
   "source": [
    "comp_efficiency=[0]\n",
    "comp_sig_tot = len(comp_sig)\n",
    "comp_rate=[0]\n",
    "comp_bkg_tot = len(comp_bkg)\n",
    "comp_limits=[0]\n",
    "\n",
    "min_=0\n",
    "max_=130\n",
    "it_=1\n",
    "\n",
    "for limit in tqdm(xrange(min_,max_,it_)):\n",
    "    comp_efficiency.append(len(comp_sig[(comp_sig['Ev_max_nComp_ME31'] > limit)])/comp_sig_tot*100)\n",
    "    \n",
    "    comp_rate.append(len(comp_bkg[(comp_bkg['Ev_max_nComp_ME31'] > limit)])/comp_bkg_tot*30*1000)\n",
    "    \n",
    "    comp_limits.append(limit)\n",
    "    \n",
    "plt.plot(comp_rate,comp_efficiency,'bo')\n",
    "plt.xlim(0,.12)\n",
    "plt.ylim(0,10)\n",
    "plt.xlabel('Rate (kHz)')\n",
    "plt.ylabel('Efficiency (%)')\n",
    "plt.title('Comparator ROC Curve for ME31')\n",
    "\n",
    "for i in range(len(comp_rate)):\n",
    "    if comp_rate[i] > 0.02 and comp_rate[i] < 0.12:\n",
    "        print 'rate =', comp_rate[i], 'kHz and efficiency =', comp_efficiency[i], '% for threshold >', comp_limits[i]"
   ]
  },
  {
   "cell_type": "code",
   "execution_count": 16,
   "metadata": {},
   "outputs": [
    {
     "name": "stderr",
     "output_type": "stream",
     "text": [
      "100%|██████████| 130/130 [00:00<00:00, 192.84it/s]\n"
     ]
    },
    {
     "name": "stdout",
     "output_type": "stream",
     "text": [
      "rate = 0.106365182615 kHz and efficiency = 5.75284090909 % for threshold > 30\n",
      "rate = 0.0773564964469 kHz and efficiency = 5.46085858586 % for threshold > 31\n",
      "rate = 0.0676869343911 kHz and efficiency = 5.23595328283 % for threshold > 32\n",
      "rate = 0.0483478102793 kHz and efficiency = 4.9834280303 % for threshold > 33\n",
      "rate = 0.0386782482235 kHz and efficiency = 4.69933712121 % for threshold > 34\n",
      "rate = 0.0290086861676 kHz and efficiency = 4.47048611111 % for threshold > 35\n"
     ]
    },
    {
     "data": {
      "image/png": "[encoded data removed]",
      "text/plain": [
       "<Figure size 432x288 with 1 Axes>"
      ]
     },
     "metadata": {
      "needs_background": "light"
     },
     "output_type": "display_data"
    }
   ],
   "source": [
    "comp_efficiency=[0]\n",
    "comp_sig_tot = len(comp_sig)\n",
    "comp_rate=[0]\n",
    "comp_bkg_tot = len(comp_bkg)\n",
    "comp_limits=[0]\n",
    "\n",
    "min_=0\n",
    "max_=130\n",
    "it_=1\n",
    "\n",
    "for limit in tqdm(xrange(min_,max_,it_)):\n",
    "    comp_efficiency.append(len(comp_sig[(comp_sig['Ev_max_nComp_ME32'] > limit)])/comp_sig_tot*100)\n",
    "    \n",
    "    comp_rate.append(len(comp_bkg[(comp_bkg['Ev_max_nComp_ME32'] > limit)])/comp_bkg_tot*30*1000)\n",
    "    \n",
    "    comp_limits.append(limit)\n",
    "    \n",
    "plt.plot(comp_rate,comp_efficiency,'bo')\n",
    "plt.xlim(0,.12)\n",
    "plt.ylim(0,10)\n",
    "plt.xlabel('Rate (kHz)')\n",
    "plt.ylabel('Efficiency (%)')\n",
    "plt.title('Comparator ROC Curve for ME32')\n",
    "\n",
    "for i in range(len(comp_rate)):\n",
    "    if comp_rate[i] > 0.02 and comp_rate[i] < 0.12:\n",
    "        print 'rate =', comp_rate[i], 'kHz and efficiency =', comp_efficiency[i], '% for threshold >', comp_limits[i]"
   ]
  },
  {
   "cell_type": "code",
   "execution_count": 17,
   "metadata": {},
   "outputs": [
    {
     "name": "stderr",
     "output_type": "stream",
     "text": [
      "100%|██████████| 130/130 [00:00<00:00, 130.69it/s]\n"
     ]
    },
    {
     "name": "stdout",
     "output_type": "stream",
     "text": [
      "rate = 0.11603474467 kHz and efficiency = 5.45296717172 % for threshold > 40\n",
      "rate = 0.106365182615 kHz and efficiency = 5.28724747475 % for threshold > 41\n",
      "rate = 0.0773564964469 kHz and efficiency = 5.10969065657 % for threshold > 42\n",
      "rate = 0.0773564964469 kHz and efficiency = 4.93213383838 % for threshold > 43\n",
      "rate = 0.0773564964469 kHz and efficiency = 4.76246843434 % for threshold > 44\n",
      "rate = 0.0773564964469 kHz and efficiency = 4.56123737374 % for threshold > 45\n",
      "rate = 0.0773564964469 kHz and efficiency = 4.40735479798 % for threshold > 46\n",
      "rate = 0.0580173723352 kHz and efficiency = 4.24558080808 % for threshold > 47\n",
      "rate = 0.0386782482235 kHz and efficiency = 4.11931818182 % for threshold > 48\n",
      "rate = 0.0386782482235 kHz and efficiency = 3.97727272727 % for threshold > 49\n",
      "rate = 0.0386782482235 kHz and efficiency = 3.81549873737 % for threshold > 50\n"
     ]
    },
    {
     "data": {
      "image/png": "[encoded data removed]",
      "text/plain": [
       "<Figure size 432x288 with 1 Axes>"
      ]
     },
     "metadata": {
      "needs_background": "light"
     },
     "output_type": "display_data"
    }
   ],
   "source": [
    "comp_efficiency=[0]\n",
    "comp_sig_tot = len(comp_sig)\n",
    "comp_rate=[0]\n",
    "comp_bkg_tot = len(comp_bkg)\n",
    "comp_limits=[0]\n",
    "\n",
    "min_=0\n",
    "max_=130\n",
    "it_=1\n",
    "\n",
    "for limit in tqdm(xrange(min_,max_,it_)):\n",
    "    comp_efficiency.append(len(comp_sig[(comp_sig['Ev_max_nComp_ME41'] > limit)])/comp_sig_tot*100)\n",
    "    \n",
    "    comp_rate.append(len(comp_bkg[(comp_bkg['Ev_max_nComp_ME41'] > limit)])/comp_bkg_tot*30*1000)\n",
    "    \n",
    "    comp_limits.append(limit)\n",
    "    \n",
    "plt.plot(comp_rate,comp_efficiency,'bo')\n",
    "plt.xlim(0,.12)\n",
    "plt.ylim(0,10)\n",
    "plt.xlabel('Rate (kHz)')\n",
    "plt.ylabel('Efficiency (%)')\n",
    "plt.title('Comparator ROC Curve for ME41')\n",
    "\n",
    "for i in range(len(comp_rate)):\n",
    "    if comp_rate[i] > 0.02 and comp_rate[i] < 0.12:\n",
    "        print 'rate =', comp_rate[i], 'kHz and efficiency =', comp_efficiency[i], '% for threshold >', comp_limits[i]"
   ]
  },
  {
   "cell_type": "code",
   "execution_count": 18,
   "metadata": {},
   "outputs": [
    {
     "name": "stderr",
     "output_type": "stream",
     "text": [
      "100%|██████████| 130/130 [00:00<00:00, 163.10it/s]\n"
     ]
    },
    {
     "name": "stdout",
     "output_type": "stream",
     "text": [
      "rate = 0.0773564964469 kHz and efficiency = 8.70817550505 % for threshold > 31\n",
      "rate = 0.0676869343911 kHz and efficiency = 8.42803030303 % for threshold > 32\n",
      "rate = 0.0580173723352 kHz and efficiency = 8.21890782828 % for threshold > 33\n",
      "rate = 0.0580173723352 kHz and efficiency = 7.98216540404 % for threshold > 34\n",
      "rate = 0.0483478102793 kHz and efficiency = 7.76909722222 % for threshold > 35\n"
     ]
    },
    {
     "data": {
      "image/png": "[encoded data removed]",
      "text/plain": [
       "<Figure size 432x288 with 1 Axes>"
      ]
     },
     "metadata": {
      "needs_background": "light"
     },
     "output_type": "display_data"
    }
   ],
   "source": [
    "comp_efficiency=[0]\n",
    "comp_sig_tot = len(comp_sig)\n",
    "comp_rate=[0]\n",
    "comp_bkg_tot = len(comp_bkg)\n",
    "comp_limits=[0]\n",
    "\n",
    "min_=0\n",
    "max_=130\n",
    "it_=1\n",
    "\n",
    "for limit in tqdm(xrange(min_,max_,it_)):\n",
    "    comp_efficiency.append(len(comp_sig[(comp_sig['Ev_max_nComp_ME42'] > limit)])/comp_sig_tot*100)\n",
    "    \n",
    "    comp_rate.append(len(comp_bkg[(comp_bkg['Ev_max_nComp_ME42'] > limit)])/comp_bkg_tot*30*1000)\n",
    "    \n",
    "    comp_limits.append(limit)\n",
    "    \n",
    "plt.plot(comp_rate,comp_efficiency,'bo')\n",
    "plt.xlim(0,.12)\n",
    "plt.ylim(0,10)\n",
    "plt.xlabel('Rate (kHz)')\n",
    "plt.ylabel('Efficiency (%)')\n",
    "plt.title('Comparator ROC Curve for ME42')\n",
    "\n",
    "for i in range(len(comp_rate)):\n",
    "    if comp_rate[i] > 0.02 and comp_rate[i] < 0.12:\n",
    "        print 'rate =', comp_rate[i], 'kHz and efficiency =', comp_efficiency[i], '% for threshold >', comp_limits[i]"
   ]
  },
  {
   "cell_type": "code",
   "execution_count": 19,
   "metadata": {},
   "outputs": [
    {
     "name": "stdout",
     "output_type": "stream",
     "text": [
      "rate = 0.715547592134 kHz, efficiency = 28.8746843434 %\n"
     ]
    }
   ],
   "source": [
    "comp11, comp12, comp13 = 83, 62, 29\n",
    "comp21, comp22 = 45, 40\n",
    "comp31, comp32 = 43, 31\n",
    "comp41, comp42 = 42, 31\n",
    "\n",
    "efficiency_comp_final = len(comp_sig[(comp_sig['Ev_max_nComp_ME11'] > comp11) | (comp_sig['Ev_max_nComp_ME12'] > comp12) | (comp_sig['Ev_max_nComp_ME13'] > comp13) |\n",
    "                           (comp_sig['Ev_max_nComp_ME21'] > comp21) | (comp_sig['Ev_max_nComp_ME22'] > comp22) |\n",
    "                           (comp_sig['Ev_max_nComp_ME31'] > comp31) | (comp_sig['Ev_max_nComp_ME32'] > comp32) |\n",
    "                           (comp_sig['Ev_max_nComp_ME41'] > comp41) | (comp_sig['Ev_max_nComp_ME41'] > comp42)])/comp_sig_tot*100\n",
    "                \n",
    "rate_comp_final       = len(comp_bkg[(comp_bkg['Ev_max_nComp_ME11'] > comp11) | (comp_bkg['Ev_max_nComp_ME12'] > comp12) | (comp_bkg['Ev_max_nComp_ME13'] > comp13) |\n",
    "                           (comp_bkg['Ev_max_nComp_ME21'] > comp21) | (comp_bkg['Ev_max_nComp_ME22'] > comp22) |\n",
    "                           (comp_bkg['Ev_max_nComp_ME31'] > comp31) | (comp_bkg['Ev_max_nComp_ME32'] > comp32) |\n",
    "                           (comp_bkg['Ev_max_nComp_ME41'] > comp41) | (comp_bkg['Ev_max_nComp_ME42'] > comp42)])/comp_bkg_tot*30*1000\n",
    "\n",
    "print \"rate =\", rate_comp_final, \"kHz, efficiency =\", efficiency_comp_final, \"%\""
   ]
  },
  {
   "cell_type": "markdown",
   "metadata": {},
   "source": [
    "# Wire"
   ]
  },
  {
   "cell_type": "code",
   "execution_count": 20,
   "metadata": {},
   "outputs": [
    {
     "name": "stderr",
     "output_type": "stream",
     "text": [
      "100%|██████████| 130/130 [00:02<00:00, 57.13it/s]\n"
     ]
    },
    {
     "name": "stdout",
     "output_type": "stream",
     "text": [
      "rate = 0.104577781468 kHz and efficiency = 0.165504196714 % for threshold > 92\n",
      "rate = 0.0855636393829 kHz and efficiency = 0.153682468377 % for threshold > 93\n",
      "rate = 0.0760565683403 kHz and efficiency = 0.145801316152 % for threshold > 94\n",
      "rate = 0.0665494972978 kHz and efficiency = 0.137920163928 % for threshold > 95\n",
      "rate = 0.0570424262552 kHz and efficiency = 0.126098435591 % for threshold > 96\n",
      "rate = 0.0380282841702 kHz and efficiency = 0.122157859479 % for threshold > 97\n",
      "rate = 0.0380282841702 kHz and efficiency = 0.118217283367 % for threshold > 98\n",
      "rate = 0.0285212131276 kHz and efficiency = 0.114276707255 % for threshold > 99\n",
      "rate = 0.0285212131276 kHz and efficiency = 0.110336131142 % for threshold > 100\n",
      "rate = 0.0285212131276 kHz and efficiency = 0.102454978918 % for threshold > 101\n",
      "rate = 0.0285212131276 kHz and efficiency = 0.0906332505812 % for threshold > 102\n",
      "rate = 0.0285212131276 kHz and efficiency = 0.0827520983568 % for threshold > 103\n"
     ]
    },
    {
     "data": {
      "image/png": "[encoded data removed]",
      "text/plain": [
       "<Figure size 432x288 with 1 Axes>"
      ]
     },
     "metadata": {
      "needs_background": "light"
     },
     "output_type": "display_data"
    }
   ],
   "source": [
    "wire_efficiency=[0]\n",
    "wire_sig_tot = len(wire_sig)\n",
    "wire_rate=[0]\n",
    "wire_bkg_tot = len(wire_bkg)\n",
    "wire_limits=[0]\n",
    "\n",
    "min_=0\n",
    "max_=130\n",
    "it_=1\n",
    "\n",
    "for limit in tqdm(xrange(min_,max_,it_)):\n",
    "    wire_efficiency.append(len(wire_sig[(wire_sig['Ev_max_nWire_ME11'] > limit)])/wire_sig_tot*100)\n",
    "    \n",
    "    wire_rate.append(len(wire_bkg[(wire_bkg['Ev_max_nWire_ME11'] > limit)])/wire_bkg_tot*30*1000)\n",
    "    \n",
    "    wire_limits.append(limit)\n",
    "    \n",
    "plt.plot(wire_rate,wire_efficiency,'bo')\n",
    "plt.xlim(0,0.12)\n",
    "plt.ylim(0,5)\n",
    "plt.xlabel('Rate (kHz)')\n",
    "plt.ylabel('Efficiency (%)')\n",
    "plt.title('Wire ROC Curve for ME11')\n",
    "\n",
    "for i in range(len(wire_rate)):\n",
    "    if wire_rate[i] > 0.02 and wire_rate[i] < 0.12:\n",
    "        print 'rate =', wire_rate[i], 'kHz and efficiency =', wire_efficiency[i], '% for threshold >', wire_limits[i]"
   ]
  },
  {
   "cell_type": "code",
   "execution_count": 21,
   "metadata": {},
   "outputs": [
    {
     "name": "stderr",
     "output_type": "stream",
     "text": [
      "100%|██████████| 130/130 [00:00<00:00, 164.99it/s]\n"
     ]
    },
    {
     "name": "stdout",
     "output_type": "stream",
     "text": [
      "rate = 0.0950707104254 kHz and efficiency = 2.84903652914 % for threshold > 99\n",
      "rate = 0.0950707104254 kHz and efficiency = 2.79386846357 % for threshold > 100\n",
      "rate = 0.0855636393829 kHz and efficiency = 2.72293809355 % for threshold > 101\n",
      "rate = 0.0855636393829 kHz and efficiency = 2.67959175631 % for threshold > 102\n",
      "rate = 0.0855636393829 kHz and efficiency = 2.62048311463 % for threshold > 103\n",
      "rate = 0.0855636393829 kHz and efficiency = 2.56531504906 % for threshold > 104\n",
      "rate = 0.0760565683403 kHz and efficiency = 2.52984986405 % for threshold > 105\n",
      "rate = 0.0760565683403 kHz and efficiency = 2.49044410293 % for threshold > 106\n",
      "rate = 0.0760565683403 kHz and efficiency = 2.43527603736 % for threshold > 107\n",
      "rate = 0.0760565683403 kHz and efficiency = 2.39981085235 % for threshold > 108\n",
      "rate = 0.0760565683403 kHz and efficiency = 2.34464278678 % for threshold > 109\n",
      "rate = 0.0760565683403 kHz and efficiency = 2.30917760177 % for threshold > 110\n",
      "rate = 0.0760565683403 kHz and efficiency = 2.23430665563 % for threshold > 111\n",
      "rate = 0.0760565683403 kHz and efficiency = 2.17519801395 % for threshold > 112\n",
      "rate = 0.0760565683403 kHz and efficiency = 2.14761398116 % for threshold > 113\n",
      "rate = 0.0665494972978 kHz and efficiency = 2.08456476337 % for threshold > 114\n",
      "rate = 0.0570424262552 kHz and efficiency = 2.0609213067 % for threshold > 115\n",
      "rate = 0.0570424262552 kHz and efficiency = 2.01757496946 % for threshold > 116\n",
      "rate = 0.0570424262552 kHz and efficiency = 1.97816920834 % for threshold > 117\n",
      "rate = 0.0570424262552 kHz and efficiency = 1.92694171888 % for threshold > 118\n",
      "rate = 0.0570424262552 kHz and efficiency = 1.88753595776 % for threshold > 119\n",
      "rate = 0.0570424262552 kHz and efficiency = 1.84813019663 % for threshold > 120\n",
      "rate = 0.0475353552127 kHz and efficiency = 1.80872443551 % for threshold > 121\n",
      "rate = 0.0475353552127 kHz and efficiency = 1.76537809828 % for threshold > 122\n",
      "rate = 0.0475353552127 kHz and efficiency = 1.72991291327 % for threshold > 123\n",
      "rate = 0.0475353552127 kHz and efficiency = 1.70232888048 % for threshold > 124\n",
      "rate = 0.0475353552127 kHz and efficiency = 1.6747448477 % for threshold > 125\n",
      "rate = 0.0475353552127 kHz and efficiency = 1.6432202388 % for threshold > 126\n",
      "rate = 0.0475353552127 kHz and efficiency = 1.59199274934 % for threshold > 127\n",
      "rate = 0.0475353552127 kHz and efficiency = 1.55652756433 % for threshold > 128\n",
      "rate = 0.0475353552127 kHz and efficiency = 1.54076525988 % for threshold > 129\n"
     ]
    },
    {
     "data": {
      "image/png": "[encoded data removed]",
      "text/plain": [
       "<Figure size 432x288 with 1 Axes>"
      ]
     },
     "metadata": {
      "needs_background": "light"
     },
     "output_type": "display_data"
    }
   ],
   "source": [
    "wire_efficiency=[0]\n",
    "wire_sig_tot = len(wire_sig)\n",
    "wire_rate=[0]\n",
    "wire_bkg_tot = len(wire_bkg)\n",
    "wire_limits=[0]\n",
    "\n",
    "min_=0\n",
    "max_=130\n",
    "it_=1\n",
    "\n",
    "for limit in tqdm(xrange(min_,max_,it_)):\n",
    "    wire_efficiency.append(len(wire_sig[(wire_sig['Ev_max_nWire_ME12'] > limit)])/wire_sig_tot*100)\n",
    "    \n",
    "    wire_rate.append(len(wire_bkg[(wire_bkg['Ev_max_nWire_ME12'] > limit)])/wire_bkg_tot*30*1000)\n",
    "    \n",
    "    wire_limits.append(limit)\n",
    "    \n",
    "plt.plot(wire_rate,wire_efficiency,'bo')\n",
    "plt.xlim(0,0.1)\n",
    "plt.ylim(0,5)\n",
    "plt.xlabel('Rate (kHz)')\n",
    "plt.ylabel('Efficiency (%)')\n",
    "plt.title('Wire ROC Curve for ME12')\n",
    "\n",
    "for i in range(len(wire_rate)):\n",
    "    if wire_rate[i] > 0.02 and wire_rate[i] < 0.12:\n",
    "        print 'rate =', wire_rate[i], 'kHz and efficiency =', wire_efficiency[i], '% for threshold >', wire_limits[i]"
   ]
  },
  {
   "cell_type": "code",
   "execution_count": 22,
   "metadata": {},
   "outputs": [
    {
     "name": "stderr",
     "output_type": "stream",
     "text": [
      "100%|██████████| 130/130 [00:00<00:00, 224.97it/s]\n"
     ]
    },
    {
     "name": "stdout",
     "output_type": "stream",
     "text": [
      "rate = 0.11408485251 kHz and efficiency = 2.89632344249 % for threshold > 36\n",
      "rate = 0.104577781468 kHz and efficiency = 2.81357134413 % for threshold > 37\n",
      "rate = 0.104577781468 kHz and efficiency = 2.69141348465 % for threshold > 38\n",
      "rate = 0.0855636393829 kHz and efficiency = 2.56137447295 % for threshold > 39\n",
      "rate = 0.0665494972978 kHz and efficiency = 2.44709776569 % for threshold > 40\n",
      "rate = 0.0665494972978 kHz and efficiency = 2.36434566734 % for threshold > 41\n",
      "rate = 0.0570424262552 kHz and efficiency = 2.2894747212 % for threshold > 42\n",
      "rate = 0.0570424262552 kHz and efficiency = 2.18307916617 % for threshold > 43\n",
      "rate = 0.0570424262552 kHz and efficiency = 2.09638649171 % for threshold > 44\n",
      "rate = 0.0570424262552 kHz and efficiency = 2.00575324112 % for threshold > 45\n",
      "rate = 0.0570424262552 kHz and efficiency = 1.92300114277 % for threshold > 46\n",
      "rate = 0.0380282841702 kHz and efficiency = 1.84418962052 % for threshold > 47\n",
      "rate = 0.0380282841702 kHz and efficiency = 1.78902155495 % for threshold > 48\n",
      "rate = 0.0380282841702 kHz and efficiency = 1.71415060882 % for threshold > 49\n",
      "rate = 0.0380282841702 kHz and efficiency = 1.65504196714 % for threshold > 50\n",
      "rate = 0.0380282841702 kHz and efficiency = 1.56440871655 % for threshold > 51\n",
      "rate = 0.0380282841702 kHz and efficiency = 1.49347834653 % for threshold > 52\n",
      "rate = 0.0380282841702 kHz and efficiency = 1.42648855263 % for threshold > 53\n",
      "rate = 0.0380282841702 kHz and efficiency = 1.37526106317 % for threshold > 54\n",
      "rate = 0.0380282841702 kHz and efficiency = 1.32403357371 % for threshold > 55\n"
     ]
    },
    {
     "data": {
      "image/png": "[encoded data removed]",
      "text/plain": [
       "<Figure size 432x288 with 1 Axes>"
      ]
     },
     "metadata": {
      "needs_background": "light"
     },
     "output_type": "display_data"
    }
   ],
   "source": [
    "wire_efficiency=[0]\n",
    "wire_sig_tot = len(wire_sig)\n",
    "wire_rate=[0]\n",
    "wire_bkg_tot = len(wire_bkg)\n",
    "wire_limits=[0]\n",
    "\n",
    "min_=0\n",
    "max_=130\n",
    "it_=1\n",
    "\n",
    "for limit in tqdm(xrange(min_,max_,it_)):\n",
    "    wire_efficiency.append(len(wire_sig[(wire_sig['Ev_max_nWire_ME13'] > limit)])/wire_sig_tot*100)\n",
    "    \n",
    "    wire_rate.append(len(wire_bkg[(wire_bkg['Ev_max_nWire_ME13'] > limit)])/wire_bkg_tot*30*1000)\n",
    "    \n",
    "    wire_limits.append(limit)\n",
    "    \n",
    "plt.plot(wire_rate,wire_efficiency,'bo')\n",
    "plt.xlim(0,0.12)\n",
    "plt.ylim(0,5)\n",
    "plt.xlabel('Rate (kHz)')\n",
    "plt.ylabel('Efficiency (%)')\n",
    "plt.title('Wire ROC Curve for ME13')\n",
    "\n",
    "for i in range(len(wire_rate)):\n",
    "    if wire_rate[i] > 0.02 and wire_rate[i] < 0.12:\n",
    "        print 'rate =', wire_rate[i], 'kHz and efficiency =', wire_efficiency[i], '% for threshold >', wire_limits[i]"
   ]
  },
  {
   "cell_type": "code",
   "execution_count": 23,
   "metadata": {},
   "outputs": [
    {
     "name": "stderr",
     "output_type": "stream",
     "text": [
      "100%|██████████| 130/130 [00:01<00:00, 74.46it/s]\n"
     ]
    },
    {
     "name": "stdout",
     "output_type": "stream",
     "text": [
      "rate = 0.11408485251 kHz and efficiency = 1.95452575166 % for threshold > 128\n",
      "rate = 0.0855636393829 kHz and efficiency = 1.94270402333 % for threshold > 129\n"
     ]
    },
    {
     "data": {
      "image/png": "[encoded data removed]",
      "text/plain": [
       "<Figure size 432x288 with 1 Axes>"
      ]
     },
     "metadata": {
      "needs_background": "light"
     },
     "output_type": "display_data"
    }
   ],
   "source": [
    "wire_efficiency=[0]\n",
    "wire_sig_tot = len(wire_sig)\n",
    "wire_rate=[0]\n",
    "wire_bkg_tot = len(wire_bkg)\n",
    "wire_limits=[0]\n",
    "\n",
    "min_=0\n",
    "max_=130\n",
    "it_=1\n",
    "\n",
    "for limit in tqdm(xrange(min_,max_,it_)):\n",
    "    wire_efficiency.append(len(wire_sig[(wire_sig['Ev_max_nWire_ME21'] > limit)])/wire_sig_tot*100)\n",
    "    \n",
    "    wire_rate.append(len(wire_bkg[(wire_bkg['Ev_max_nWire_ME21'] > limit)])/wire_bkg_tot*30*1000)\n",
    "    \n",
    "    wire_limits.append(limit)\n",
    "    \n",
    "plt.plot(wire_rate,wire_efficiency,'bo')\n",
    "plt.xlim(0,0.12)\n",
    "plt.ylim(0,5)\n",
    "plt.xlabel('Rate (kHz)')\n",
    "plt.ylabel('Efficiency (%)')\n",
    "plt.title('Wire ROC Curve for ME21')\n",
    "\n",
    "for i in range(len(wire_rate)):\n",
    "    if wire_rate[i] > 0 and wire_rate[i] < 0.12:\n",
    "        print 'rate =', wire_rate[i], 'kHz and efficiency =', wire_efficiency[i], '% for threshold >', wire_limits[i]"
   ]
  },
  {
   "cell_type": "code",
   "execution_count": 24,
   "metadata": {},
   "outputs": [
    {
     "name": "stderr",
     "output_type": "stream",
     "text": [
      "100%|██████████| 130/130 [00:00<00:00, 165.02it/s]\n"
     ]
    },
    {
     "name": "stdout",
     "output_type": "stream",
     "text": [
      "rate = 0.11408485251 kHz and efficiency = 1.66686369547 % for threshold > 79\n",
      "rate = 0.11408485251 kHz and efficiency = 1.58805217323 % for threshold > 80\n",
      "rate = 0.0855636393829 kHz and efficiency = 1.52500295543 % for threshold > 81\n",
      "rate = 0.0570424262552 kHz and efficiency = 1.46983488986 % for threshold > 82\n",
      "rate = 0.0380282841702 kHz and efficiency = 1.42254797651 % for threshold > 83\n",
      "rate = 0.0380282841702 kHz and efficiency = 1.35555818261 % for threshold > 84\n",
      "rate = 0.0380282841702 kHz and efficiency = 1.30039011704 % for threshold > 85\n",
      "rate = 0.0380282841702 kHz and efficiency = 1.24916262758 % for threshold > 86\n",
      "rate = 0.0380282841702 kHz and efficiency = 1.19005398589 % for threshold > 87\n",
      "rate = 0.0380282841702 kHz and efficiency = 1.13882649643 % for threshold > 88\n",
      "rate = 0.0380282841702 kHz and efficiency = 1.07577727864 % for threshold > 89\n",
      "rate = 0.0285212131276 kHz and efficiency = 0.996965756394 % for threshold > 90\n"
     ]
    },
    {
     "data": {
      "image/png": "[encoded data removed]",
      "text/plain": [
       "<Figure size 432x288 with 1 Axes>"
      ]
     },
     "metadata": {
      "needs_background": "light"
     },
     "output_type": "display_data"
    }
   ],
   "source": [
    "wire_efficiency=[0]\n",
    "wire_sig_tot = len(wire_sig)\n",
    "wire_rate=[0]\n",
    "wire_bkg_tot = len(wire_bkg)\n",
    "wire_limits=[0]\n",
    "\n",
    "min_=0\n",
    "max_=130\n",
    "it_=1\n",
    "\n",
    "for limit in tqdm(xrange(min_,max_,it_)):\n",
    "    wire_efficiency.append(len(wire_sig[(wire_sig['Ev_max_nWire_ME22'] > limit)])/wire_sig_tot*100)\n",
    "    \n",
    "    wire_rate.append(len(wire_bkg[(wire_bkg['Ev_max_nWire_ME22'] > limit)])/wire_bkg_tot*30*1000)\n",
    "    \n",
    "    wire_limits.append(limit)\n",
    "    \n",
    "plt.plot(wire_rate,wire_efficiency,'bo')\n",
    "plt.xlim(0,0.12)\n",
    "plt.ylim(0,5)\n",
    "plt.xlabel('Rate (kHz)')\n",
    "plt.ylabel('Efficiency (%)')\n",
    "plt.title('Wire ROC Curve for ME22')\n",
    "\n",
    "for i in range(len(wire_rate)):\n",
    "    if wire_rate[i] > 0.02 and wire_rate[i] < 0.12:\n",
    "        print 'rate =', wire_rate[i], 'kHz and efficiency =', wire_efficiency[i], '% for threshold >', wire_limits[i]"
   ]
  },
  {
   "cell_type": "code",
   "execution_count": 25,
   "metadata": {},
   "outputs": [
    {
     "name": "stderr",
     "output_type": "stream",
     "text": [
      "100%|██████████| 130/130 [00:01<00:00, 99.22it/s]\n"
     ]
    },
    {
     "name": "stdout",
     "output_type": "stream",
     "text": [
      "rate = 0.11408485251 kHz and efficiency = 1.98605036056 % for threshold > 114\n",
      "rate = 0.0950707104254 kHz and efficiency = 1.94270402333 % for threshold > 115\n",
      "rate = 0.0855636393829 kHz and efficiency = 1.87177365331 % for threshold > 116\n",
      "rate = 0.0665494972978 kHz and efficiency = 1.84024904441 % for threshold > 117\n",
      "rate = 0.0665494972978 kHz and efficiency = 1.79296213106 % for threshold > 118\n",
      "rate = 0.0570424262552 kHz and efficiency = 1.7732592505 % for threshold > 119\n",
      "rate = 0.0570424262552 kHz and efficiency = 1.74567521772 % for threshold > 120\n",
      "rate = 0.0570424262552 kHz and efficiency = 1.71415060882 % for threshold > 121\n",
      "rate = 0.0475353552127 kHz and efficiency = 1.67868542381 % for threshold > 122\n",
      "rate = 0.0475353552127 kHz and efficiency = 1.63533908657 % for threshold > 123\n",
      "rate = 0.0475353552127 kHz and efficiency = 1.57623044489 % for threshold > 124\n",
      "rate = 0.0475353552127 kHz and efficiency = 1.54864641211 % for threshold > 125\n",
      "rate = 0.0380282841702 kHz and efficiency = 1.52106237932 % for threshold > 126\n",
      "rate = 0.0380282841702 kHz and efficiency = 1.4816566182 % for threshold > 127\n",
      "rate = 0.0380282841702 kHz and efficiency = 1.45407258541 % for threshold > 128\n",
      "rate = 0.0380282841702 kHz and efficiency = 1.41072624818 % for threshold > 129\n"
     ]
    },
    {
     "data": {
      "image/png": "[encoded data removed]",
      "text/plain": [
       "<Figure size 432x288 with 1 Axes>"
      ]
     },
     "metadata": {
      "needs_background": "light"
     },
     "output_type": "display_data"
    }
   ],
   "source": [
    "wire_efficiency=[0]\n",
    "wire_sig_tot = len(wire_sig)\n",
    "wire_rate=[0]\n",
    "wire_bkg_tot = len(wire_bkg)\n",
    "wire_limits=[0]\n",
    "\n",
    "min_=0\n",
    "max_=130\n",
    "it_=1\n",
    "\n",
    "for limit in tqdm(xrange(min_,max_,it_)):\n",
    "    wire_efficiency.append(len(wire_sig[(wire_sig['Ev_max_nWire_ME31'] > limit)])/wire_sig_tot*100)\n",
    "    \n",
    "    wire_rate.append(len(wire_bkg[(wire_bkg['Ev_max_nWire_ME31'] > limit)])/wire_bkg_tot*30*1000)\n",
    "    \n",
    "    wire_limits.append(limit)\n",
    "    \n",
    "plt.plot(wire_rate,wire_efficiency,'bo')\n",
    "plt.xlim(0,0.12)\n",
    "plt.ylim(0,5)\n",
    "plt.xlabel('Rate (kHz)')\n",
    "plt.ylabel('Efficiency (%)')\n",
    "plt.title('Wire ROC Curve for ME31')\n",
    "\n",
    "for i in range(len(wire_rate)):\n",
    "    if wire_rate[i] > 0.02 and wire_rate[i] < 0.12:\n",
    "        print 'rate =', wire_rate[i], 'kHz and efficiency =', wire_efficiency[i], '% for threshold >', wire_limits[i]"
   ]
  },
  {
   "cell_type": "code",
   "execution_count": 26,
   "metadata": {},
   "outputs": [
    {
     "name": "stderr",
     "output_type": "stream",
     "text": [
      "100%|██████████| 130/130 [00:00<00:00, 166.91it/s]\n"
     ]
    },
    {
     "name": "stdout",
     "output_type": "stream",
     "text": [
      "rate = 0.11408485251 kHz and efficiency = 0.977262875832 % for threshold > 76\n",
      "rate = 0.104577781468 kHz and efficiency = 0.941797690822 % for threshold > 77\n",
      "rate = 0.0855636393829 kHz and efficiency = 0.894510777476 % for threshold > 78\n",
      "rate = 0.0570424262552 kHz and efficiency = 0.839342711904 % for threshold > 79\n",
      "rate = 0.0570424262552 kHz and efficiency = 0.807818103007 % for threshold > 80\n",
      "rate = 0.0570424262552 kHz and efficiency = 0.776293494109 % for threshold > 81\n",
      "rate = 0.0570424262552 kHz and efficiency = 0.701422547977 % for threshold > 82\n",
      "rate = 0.0570424262552 kHz and efficiency = 0.642313906293 % for threshold > 83\n",
      "rate = 0.0570424262552 kHz and efficiency = 0.61867044962 % for threshold > 84\n",
      "rate = 0.0475353552127 kHz and efficiency = 0.587145840722 % for threshold > 85\n",
      "rate = 0.0285212131276 kHz and efficiency = 0.535918351263 % for threshold > 86\n",
      "rate = 0.0285212131276 kHz and efficiency = 0.516215470702 % for threshold > 87\n",
      "rate = 0.0285212131276 kHz and efficiency = 0.472869133467 % for threshold > 88\n"
     ]
    },
    {
     "data": {
      "image/png": "[encoded data removed]",
      "text/plain": [
       "<Figure size 432x288 with 1 Axes>"
      ]
     },
     "metadata": {
      "needs_background": "light"
     },
     "output_type": "display_data"
    }
   ],
   "source": [
    "wire_efficiency=[0]\n",
    "wire_sig_tot = len(wire_sig)\n",
    "wire_rate=[0]\n",
    "wire_bkg_tot = len(wire_bkg)\n",
    "wire_limits=[0]\n",
    "\n",
    "min_=0\n",
    "max_=130\n",
    "it_=1\n",
    "\n",
    "for limit in tqdm(xrange(min_,max_,it_)):\n",
    "    wire_efficiency.append(len(wire_sig[(wire_sig['Ev_max_nWire_ME32'] > limit)])/wire_sig_tot*100)\n",
    "    \n",
    "    wire_rate.append(len(wire_bkg[(wire_bkg['Ev_max_nWire_ME32'] > limit)])/wire_bkg_tot*30*1000)\n",
    "    \n",
    "    wire_limits.append(limit)\n",
    "    \n",
    "plt.plot(wire_rate,wire_efficiency,'bo')\n",
    "plt.xlim(0,0.12)\n",
    "plt.ylim(0,5)\n",
    "plt.xlabel('Rate (kHz)')\n",
    "plt.ylabel('Efficiency (%)')\n",
    "plt.title('Wire ROC Curve for ME32')\n",
    "\n",
    "for i in range(len(wire_rate)):\n",
    "    if wire_rate[i] > 0.02 and wire_rate[i] < 0.12:\n",
    "        print 'rate =', wire_rate[i], 'kHz and efficiency =', wire_efficiency[i], '% for threshold >', wire_limits[i]"
   ]
  },
  {
   "cell_type": "code",
   "execution_count": 27,
   "metadata": {},
   "outputs": [
    {
     "name": "stderr",
     "output_type": "stream",
     "text": [
      "100%|██████████| 130/130 [00:01<00:00, 103.63it/s]\n"
     ]
    },
    {
     "name": "stdout",
     "output_type": "stream",
     "text": [
      "rate = 0.104577781468 kHz and efficiency = 3.52681562044 % for threshold > 118\n",
      "rate = 0.0950707104254 kHz and efficiency = 3.49135043543 % for threshold > 119\n",
      "rate = 0.0760565683403 kHz and efficiency = 3.4480040982 % for threshold > 120\n",
      "rate = 0.0570424262552 kHz and efficiency = 3.41253891319 % for threshold > 121\n",
      "rate = 0.0570424262552 kHz and efficiency = 3.35737084762 % for threshold > 122\n",
      "rate = 0.0475353552127 kHz and efficiency = 3.29826220593 % for threshold > 123\n",
      "rate = 0.0380282841702 kHz and efficiency = 3.2549158687 % for threshold > 124\n",
      "rate = 0.0380282841702 kHz and efficiency = 3.1918666509 % for threshold > 125\n",
      "rate = 0.0380282841702 kHz and efficiency = 3.13275800922 % for threshold > 126\n",
      "rate = 0.0285212131276 kHz and efficiency = 3.08547109587 % for threshold > 127\n",
      "rate = 0.0285212131276 kHz and efficiency = 3.04606533475 % for threshold > 128\n"
     ]
    },
    {
     "data": {
      "image/png": "[encoded data removed]",
      "text/plain": [
       "<Figure size 432x288 with 1 Axes>"
      ]
     },
     "metadata": {
      "needs_background": "light"
     },
     "output_type": "display_data"
    }
   ],
   "source": [
    "wire_efficiency=[0]\n",
    "wire_sig_tot = len(wire_sig)\n",
    "wire_rate=[0]\n",
    "wire_bkg_tot = len(wire_bkg)\n",
    "wire_limits=[0]\n",
    "\n",
    "min_=0\n",
    "max_=130\n",
    "it_=1\n",
    "\n",
    "for limit in tqdm(xrange(min_,max_,it_)):\n",
    "    wire_efficiency.append(len(wire_sig[(wire_sig['Ev_max_nWire_ME41'] > limit)])/wire_sig_tot*100)\n",
    "    \n",
    "    wire_rate.append(len(wire_bkg[(wire_bkg['Ev_max_nWire_ME41'] > limit)])/wire_bkg_tot*30*1000)\n",
    "    \n",
    "    wire_limits.append(limit)\n",
    "    \n",
    "plt.plot(wire_rate,wire_efficiency,'bo')\n",
    "plt.xlim(0,0.12)\n",
    "plt.ylim(0,5)\n",
    "plt.xlabel('Rate (kHz)')\n",
    "plt.ylabel('Efficiency (%)')\n",
    "plt.title('Wire ROC Curve for ME41')\n",
    "\n",
    "for i in range(len(wire_rate)):\n",
    "    if wire_rate[i] > 0.02 and wire_rate[i] < 0.12:\n",
    "        print 'rate =', wire_rate[i], 'kHz and efficiency =', wire_efficiency[i], '% for threshold >', wire_limits[i]"
   ]
  },
  {
   "cell_type": "code",
   "execution_count": 28,
   "metadata": {},
   "outputs": [
    {
     "name": "stderr",
     "output_type": "stream",
     "text": [
      "100%|██████████| 130/130 [00:00<00:00, 134.93it/s]\n"
     ]
    },
    {
     "name": "stdout",
     "output_type": "stream",
     "text": [
      "rate = 0.11408485251 kHz and efficiency = 1.0324309414 % for threshold > 87\n",
      "rate = 0.0760565683403 kHz and efficiency = 0.985144028057 % for threshold > 88\n",
      "rate = 0.0760565683403 kHz and efficiency = 0.929975962486 % for threshold > 89\n",
      "rate = 0.0665494972978 kHz and efficiency = 0.86692674469 % for threshold > 90\n",
      "rate = 0.0570424262552 kHz and efficiency = 0.807818103007 % for threshold > 91\n",
      "rate = 0.0570424262552 kHz and efficiency = 0.756590613548 % for threshold > 92\n",
      "rate = 0.0475353552127 kHz and efficiency = 0.697481971864 % for threshold > 93\n",
      "rate = 0.0475353552127 kHz and efficiency = 0.65413563463 % for threshold > 94\n",
      "rate = 0.0475353552127 kHz and efficiency = 0.61867044962 % for threshold > 95\n",
      "rate = 0.0475353552127 kHz and efficiency = 0.571383536273 % for threshold > 96\n",
      "rate = 0.0380282841702 kHz and efficiency = 0.539858927375 % for threshold > 97\n",
      "rate = 0.0380282841702 kHz and efficiency = 0.500453166253 % for threshold > 98\n"
     ]
    },
    {
     "data": {
      "image/png": "[encoded data removed]",
      "text/plain": [
       "<Figure size 432x288 with 1 Axes>"
      ]
     },
     "metadata": {
      "needs_background": "light"
     },
     "output_type": "display_data"
    }
   ],
   "source": [
    "wire_efficiency=[0]\n",
    "wire_sig_tot = len(wire_sig)\n",
    "wire_rate=[0]\n",
    "wire_bkg_tot = len(wire_bkg)\n",
    "wire_limits=[0]\n",
    "\n",
    "min_=0\n",
    "max_=130\n",
    "it_=1\n",
    "\n",
    "for limit in tqdm(xrange(min_,max_,it_)):\n",
    "    wire_efficiency.append(len(wire_sig[(wire_sig['Ev_max_nWire_ME42'] > limit)])/wire_sig_tot*100)\n",
    "    \n",
    "    wire_rate.append(len(wire_bkg[(wire_bkg['Ev_max_nWire_ME42'] > limit)])/wire_bkg_tot*30*1000)\n",
    "    \n",
    "    wire_limits.append(limit)\n",
    "    \n",
    "plt.plot(wire_rate,wire_efficiency,'bo')\n",
    "plt.xlim(0,0.12)\n",
    "plt.ylim(0,5)\n",
    "plt.xlabel('Rate (kHz)')\n",
    "plt.ylabel('Efficiency (%)')\n",
    "plt.title('Wire ROC Curve for ME42')\n",
    "\n",
    "for i in range(len(wire_rate)):\n",
    "    if wire_rate[i] > 0.02 and wire_rate[i] < 0.12:\n",
    "        print 'rate =', wire_rate[i], 'kHz and efficiency =', wire_efficiency[i], '% for threshold >', wire_limits[i]"
   ]
  },
  {
   "cell_type": "code",
   "execution_count": 29,
   "metadata": {},
   "outputs": [
    {
     "name": "stdout",
     "output_type": "stream",
     "text": [
      "rate = 0.627466688808 kHz, efficiency = 14.9111400087 %\n"
     ]
    }
   ],
   "source": [
    "wire11, wire12, wire13 = 94, 101, 40\n",
    "wire21, wire22 = 128, 83\n",
    "wire31, wire32 = 117, 79\n",
    "wire41, wire42 = 121, 90\n",
    "\n",
    "efficiency_wire_final = len(wire_sig[(wire_sig['Ev_max_nWire_ME11'] > wire11) | (wire_sig['Ev_max_nWire_ME12'] > wire12) | (wire_sig['Ev_max_nWire_ME13'] > wire13) |\n",
    "                                     (wire_sig['Ev_max_nWire_ME21'] > wire21) | (wire_sig['Ev_max_nWire_ME22'] > wire22) |\n",
    "                                     (wire_sig['Ev_max_nWire_ME31'] > wire31) | (wire_sig['Ev_max_nWire_ME32'] > wire32) |\n",
    "                                     (wire_sig['Ev_max_nWire_ME41'] > wire41) | (wire_sig['Ev_max_nWire_ME42'] > wire42)])/wire_sig_tot*100\n",
    "                \n",
    "rate_wire_final       = len(wire_bkg[(wire_bkg['Ev_max_nWire_ME11'] > wire11) | (wire_bkg['Ev_max_nWire_ME12'] > wire12) | (wire_bkg['Ev_max_nWire_ME13'] > wire13) |\n",
    "                           (wire_bkg['Ev_max_nWire_ME21'] > wire21) | (wire_bkg['Ev_max_nWire_ME22'] > wire22) |\n",
    "                           (wire_bkg['Ev_max_nWire_ME31'] > wire31) | (wire_bkg['Ev_max_nWire_ME32'] > wire32) |\n",
    "                           (wire_bkg['Ev_max_nWire_ME41'] > wire41) | (wire_bkg['Ev_max_nWire_ME42'] > wire42)])/wire_bkg_tot*30*1000\n",
    "\n",
    "print \"rate =\", rate_wire_final, \"kHz, efficiency =\", efficiency_wire_final, \"%\""
   ]
  },
  {
   "cell_type": "markdown",
   "metadata": {},
   "source": [
    "# Results"
   ]
  },
  {
   "cell_type": "code",
   "execution_count": 30,
   "metadata": {},
   "outputs": [
    {
     "name": "stdout",
     "output_type": "stream",
     "text": [
      "Optimal Comparator Thresholds:\n",
      "ME11: 83, ME12: 62, ME13: 29,\n",
      "ME21: 45, ME22: 40,\n",
      "ME31: 43, ME32: 31,\n",
      "ME41: 42, ME42: 31,\n",
      "With rate and efficiency:\n",
      "rate = 0.715548 kHz, efficiency = 28.874684%\n",
      "\n",
      "Optimal Wire Thresholds:\n",
      "ME11: 94, ME12: 101, ME13: 40,\n",
      "ME21: 128, ME22: 83,\n",
      "ME31: 117, ME32: 79,\n",
      "ME41: 121, ME42: 90,\n",
      "With rate and efficiency:\n",
      "rate = 0.627467 kHz, efficiency = 14.911140%\n"
     ]
    }
   ],
   "source": [
    "print \"Optimal Comparator Thresholds:\"\n",
    "print \"ME11: %i, ME12: %i, ME13: %i,\" %(comp11,comp12,comp13)\n",
    "print \"ME21: %i, ME22: %i,\" %(comp21,comp22)\n",
    "print \"ME31: %i, ME32: %i,\" %(comp31,comp32)\n",
    "print \"ME41: %i, ME42: %i,\" %(comp41,comp42)\n",
    "print \"With rate and efficiency:\"\n",
    "print \"rate = %f kHz, efficiency = %f%%\" %(rate_comp_final,efficiency_comp_final)\n",
    "print\n",
    "print \"Optimal Wire Thresholds:\"\n",
    "print \"ME11: %i, ME12: %i, ME13: %i,\" %(wire11,wire12,wire13)\n",
    "print \"ME21: %i, ME22: %i,\" %(wire21,wire22)\n",
    "print \"ME31: %i, ME32: %i,\" %(wire31,wire32)\n",
    "print \"ME41: %i, ME42: %i,\" %(wire41,wire42)\n",
    "print \"With rate and efficiency:\"\n",
    "print \"rate = %f kHz, efficiency = %f%%\" %(rate_wire_final,efficiency_wire_final)"
   ]
  },
  {
   "cell_type": "code",
   "execution_count": null,
   "metadata": {},
   "outputs": [],
   "source": []
  }
 ],
 "metadata": {
  "kernelspec": {
   "display_name": "Python 2",
   "language": "python",
   "name": "python2"
  },
  "language_info": {
   "codemirror_mode": {
    "name": "ipython",
    "version": 2
   },
   "file_extension": ".py",
   "mimetype": "text/x-python",
   "name": "python",
   "nbconvert_exporter": "python",
   "pygments_lexer": "ipython2",
   "version": "2.7.15+"
  }
 },
 "nbformat": 4,
 "nbformat_minor": 2
}
